{
 "cells": [
  {
   "cell_type": "markdown",
   "id": "363012b2-5f3b-4ab3-9cb4-abdc410d5715",
   "metadata": {},
   "source": [
    "# Marketing Analysis"
   ]
  },
  {
   "cell_type": "code",
   "execution_count": 1,
   "id": "a5ab75e9-0877-4c50-9476-da043751f027",
   "metadata": {},
   "outputs": [],
   "source": [
    "# A company wants to run a campaign of a new product\n",
    "# and asks for the analysis to get an optimized campaign \n",
    "# for this season from previous campaign data result."
   ]
  },
  {
   "cell_type": "code",
   "execution_count": 2,
   "id": "500aa154-4504-4f1e-a1f2-936cdcce1ccf",
   "metadata": {},
   "outputs": [],
   "source": [
    "import os\n",
    "import pandas as pd\n",
    "import numpy as np\n",
    "import seaborn as sns\n",
    "sns.set_style='whitegrid'\n",
    "\n",
    "import warnings\n",
    "warnings.filterwarnings(\"ignore\")"
   ]
  },
  {
   "cell_type": "code",
   "execution_count": 3,
   "id": "707c5ff9-22fa-41b2-b499-6397152c482e",
   "metadata": {},
   "outputs": [],
   "source": [
    "csv = os.getcwd() + r'/datasets/marketing_campaign.csv'"
   ]
  },
  {
   "cell_type": "code",
   "execution_count": 4,
   "id": "512c11b2-5b78-419e-8934-cbe5122ff0b2",
   "metadata": {},
   "outputs": [
    {
     "data": {
      "text/html": [
       "<div>\n",
       "<style scoped>\n",
       "    .dataframe tbody tr th:only-of-type {\n",
       "        vertical-align: middle;\n",
       "    }\n",
       "\n",
       "    .dataframe tbody tr th {\n",
       "        vertical-align: top;\n",
       "    }\n",
       "\n",
       "    .dataframe thead th {\n",
       "        text-align: right;\n",
       "    }\n",
       "</style>\n",
       "<table border=\"1\" class=\"dataframe\">\n",
       "  <thead>\n",
       "    <tr style=\"text-align: right;\">\n",
       "      <th></th>\n",
       "      <th>ID</th>\n",
       "      <th>Year_Birth</th>\n",
       "      <th>Education</th>\n",
       "      <th>Marital_Status</th>\n",
       "      <th>Income</th>\n",
       "      <th>Kidhome</th>\n",
       "      <th>Teenhome</th>\n",
       "      <th>Dt_Customer</th>\n",
       "      <th>Recency</th>\n",
       "      <th>MntWines</th>\n",
       "      <th>...</th>\n",
       "      <th>NumWebVisitsMonth</th>\n",
       "      <th>AcceptedCmp3</th>\n",
       "      <th>AcceptedCmp4</th>\n",
       "      <th>AcceptedCmp5</th>\n",
       "      <th>AcceptedCmp1</th>\n",
       "      <th>AcceptedCmp2</th>\n",
       "      <th>Complain</th>\n",
       "      <th>Z_CostContact</th>\n",
       "      <th>Z_Revenue</th>\n",
       "      <th>Response</th>\n",
       "    </tr>\n",
       "  </thead>\n",
       "  <tbody>\n",
       "    <tr>\n",
       "      <th>0</th>\n",
       "      <td>5524</td>\n",
       "      <td>1957</td>\n",
       "      <td>Graduation</td>\n",
       "      <td>Single</td>\n",
       "      <td>58138.0</td>\n",
       "      <td>0</td>\n",
       "      <td>0</td>\n",
       "      <td>2012-09-04</td>\n",
       "      <td>58</td>\n",
       "      <td>635</td>\n",
       "      <td>...</td>\n",
       "      <td>7</td>\n",
       "      <td>0</td>\n",
       "      <td>0</td>\n",
       "      <td>0</td>\n",
       "      <td>0</td>\n",
       "      <td>0</td>\n",
       "      <td>0</td>\n",
       "      <td>3</td>\n",
       "      <td>11</td>\n",
       "      <td>1</td>\n",
       "    </tr>\n",
       "    <tr>\n",
       "      <th>1</th>\n",
       "      <td>2174</td>\n",
       "      <td>1954</td>\n",
       "      <td>Graduation</td>\n",
       "      <td>Single</td>\n",
       "      <td>46344.0</td>\n",
       "      <td>1</td>\n",
       "      <td>1</td>\n",
       "      <td>2014-03-08</td>\n",
       "      <td>38</td>\n",
       "      <td>11</td>\n",
       "      <td>...</td>\n",
       "      <td>5</td>\n",
       "      <td>0</td>\n",
       "      <td>0</td>\n",
       "      <td>0</td>\n",
       "      <td>0</td>\n",
       "      <td>0</td>\n",
       "      <td>0</td>\n",
       "      <td>3</td>\n",
       "      <td>11</td>\n",
       "      <td>0</td>\n",
       "    </tr>\n",
       "    <tr>\n",
       "      <th>2</th>\n",
       "      <td>4141</td>\n",
       "      <td>1965</td>\n",
       "      <td>Graduation</td>\n",
       "      <td>Together</td>\n",
       "      <td>71613.0</td>\n",
       "      <td>0</td>\n",
       "      <td>0</td>\n",
       "      <td>2013-08-21</td>\n",
       "      <td>26</td>\n",
       "      <td>426</td>\n",
       "      <td>...</td>\n",
       "      <td>4</td>\n",
       "      <td>0</td>\n",
       "      <td>0</td>\n",
       "      <td>0</td>\n",
       "      <td>0</td>\n",
       "      <td>0</td>\n",
       "      <td>0</td>\n",
       "      <td>3</td>\n",
       "      <td>11</td>\n",
       "      <td>0</td>\n",
       "    </tr>\n",
       "    <tr>\n",
       "      <th>3</th>\n",
       "      <td>6182</td>\n",
       "      <td>1984</td>\n",
       "      <td>Graduation</td>\n",
       "      <td>Together</td>\n",
       "      <td>26646.0</td>\n",
       "      <td>1</td>\n",
       "      <td>0</td>\n",
       "      <td>2014-02-10</td>\n",
       "      <td>26</td>\n",
       "      <td>11</td>\n",
       "      <td>...</td>\n",
       "      <td>6</td>\n",
       "      <td>0</td>\n",
       "      <td>0</td>\n",
       "      <td>0</td>\n",
       "      <td>0</td>\n",
       "      <td>0</td>\n",
       "      <td>0</td>\n",
       "      <td>3</td>\n",
       "      <td>11</td>\n",
       "      <td>0</td>\n",
       "    </tr>\n",
       "    <tr>\n",
       "      <th>4</th>\n",
       "      <td>5324</td>\n",
       "      <td>1981</td>\n",
       "      <td>PhD</td>\n",
       "      <td>Married</td>\n",
       "      <td>58293.0</td>\n",
       "      <td>1</td>\n",
       "      <td>0</td>\n",
       "      <td>2014-01-19</td>\n",
       "      <td>94</td>\n",
       "      <td>173</td>\n",
       "      <td>...</td>\n",
       "      <td>5</td>\n",
       "      <td>0</td>\n",
       "      <td>0</td>\n",
       "      <td>0</td>\n",
       "      <td>0</td>\n",
       "      <td>0</td>\n",
       "      <td>0</td>\n",
       "      <td>3</td>\n",
       "      <td>11</td>\n",
       "      <td>0</td>\n",
       "    </tr>\n",
       "  </tbody>\n",
       "</table>\n",
       "<p>5 rows × 29 columns</p>\n",
       "</div>"
      ],
      "text/plain": [
       "     ID  Year_Birth   Education Marital_Status   Income  Kidhome  Teenhome  \\\n",
       "0  5524        1957  Graduation         Single  58138.0        0         0   \n",
       "1  2174        1954  Graduation         Single  46344.0        1         1   \n",
       "2  4141        1965  Graduation       Together  71613.0        0         0   \n",
       "3  6182        1984  Graduation       Together  26646.0        1         0   \n",
       "4  5324        1981         PhD        Married  58293.0        1         0   \n",
       "\n",
       "  Dt_Customer  Recency  MntWines  ...  NumWebVisitsMonth  AcceptedCmp3  \\\n",
       "0  2012-09-04       58       635  ...                  7             0   \n",
       "1  2014-03-08       38        11  ...                  5             0   \n",
       "2  2013-08-21       26       426  ...                  4             0   \n",
       "3  2014-02-10       26        11  ...                  6             0   \n",
       "4  2014-01-19       94       173  ...                  5             0   \n",
       "\n",
       "   AcceptedCmp4  AcceptedCmp5  AcceptedCmp1  AcceptedCmp2  Complain  \\\n",
       "0             0             0             0             0         0   \n",
       "1             0             0             0             0         0   \n",
       "2             0             0             0             0         0   \n",
       "3             0             0             0             0         0   \n",
       "4             0             0             0             0         0   \n",
       "\n",
       "   Z_CostContact  Z_Revenue  Response  \n",
       "0              3         11         1  \n",
       "1              3         11         0  \n",
       "2              3         11         0  \n",
       "3              3         11         0  \n",
       "4              3         11         0  \n",
       "\n",
       "[5 rows x 29 columns]"
      ]
     },
     "execution_count": 4,
     "metadata": {},
     "output_type": "execute_result"
    }
   ],
   "source": [
    "df = pd.read_csv(csv, delimiter=';')\n",
    "df.head(5)"
   ]
  },
  {
   "cell_type": "markdown",
   "id": "e5ab8a4a-4609-4c91-81db-5e64d7ef9404",
   "metadata": {},
   "source": [
    "## Data Quality Check & Data Acknowledgement"
   ]
  },
  {
   "cell_type": "code",
   "execution_count": 5,
   "id": "78055811-dbcd-48be-861c-2b4573eddbfb",
   "metadata": {},
   "outputs": [
    {
     "name": "stdout",
     "output_type": "stream",
     "text": [
      "<class 'pandas.core.frame.DataFrame'>\n",
      "RangeIndex: 2240 entries, 0 to 2239\n",
      "Data columns (total 29 columns):\n",
      " #   Column               Non-Null Count  Dtype  \n",
      "---  ------               --------------  -----  \n",
      " 0   ID                   2240 non-null   int64  \n",
      " 1   Year_Birth           2240 non-null   int64  \n",
      " 2   Education            2240 non-null   object \n",
      " 3   Marital_Status       2240 non-null   object \n",
      " 4   Income               2216 non-null   float64\n",
      " 5   Kidhome              2240 non-null   int64  \n",
      " 6   Teenhome             2240 non-null   int64  \n",
      " 7   Dt_Customer          2240 non-null   object \n",
      " 8   Recency              2240 non-null   int64  \n",
      " 9   MntWines             2240 non-null   int64  \n",
      " 10  MntFruits            2240 non-null   int64  \n",
      " 11  MntMeatProducts      2240 non-null   int64  \n",
      " 12  MntFishProducts      2240 non-null   int64  \n",
      " 13  MntSweetProducts     2240 non-null   int64  \n",
      " 14  MntGoldProds         2240 non-null   int64  \n",
      " 15  NumDealsPurchases    2240 non-null   int64  \n",
      " 16  NumWebPurchases      2240 non-null   int64  \n",
      " 17  NumCatalogPurchases  2240 non-null   int64  \n",
      " 18  NumStorePurchases    2240 non-null   int64  \n",
      " 19  NumWebVisitsMonth    2240 non-null   int64  \n",
      " 20  AcceptedCmp3         2240 non-null   int64  \n",
      " 21  AcceptedCmp4         2240 non-null   int64  \n",
      " 22  AcceptedCmp5         2240 non-null   int64  \n",
      " 23  AcceptedCmp1         2240 non-null   int64  \n",
      " 24  AcceptedCmp2         2240 non-null   int64  \n",
      " 25  Complain             2240 non-null   int64  \n",
      " 26  Z_CostContact        2240 non-null   int64  \n",
      " 27  Z_Revenue            2240 non-null   int64  \n",
      " 28  Response             2240 non-null   int64  \n",
      "dtypes: float64(1), int64(25), object(3)\n",
      "memory usage: 507.6+ KB\n"
     ]
    }
   ],
   "source": [
    "df.info()"
   ]
  },
  {
   "cell_type": "code",
   "execution_count": 6,
   "id": "41565c10-e612-4adf-98eb-8fbe812a38f3",
   "metadata": {},
   "outputs": [],
   "source": [
    "# Convert data types\n",
    "df['Dt_Customer'] = df['Dt_Customer'].astype('datetime64')"
   ]
  },
  {
   "cell_type": "code",
   "execution_count": 7,
   "id": "7536e28b-5833-4bca-9e3e-3501f596c031",
   "metadata": {},
   "outputs": [
    {
     "name": "stdout",
     "output_type": "stream",
     "text": [
      "2012-09-04 00:00:00 -> 2012 9 4\n"
     ]
    }
   ],
   "source": [
    "# check year, month, day\n",
    "print(df['Dt_Customer'][0], \"->\", df['Dt_Customer'].dt.year[0], df['Dt_Customer'].dt.month[0], df['Dt_Customer'].dt.day[0])"
   ]
  },
  {
   "cell_type": "code",
   "execution_count": 8,
   "id": "919c60fa-dfbc-40db-a6e6-25216332517a",
   "metadata": {},
   "outputs": [],
   "source": [
    "# Remove unused cols\n",
    "df.drop(columns=['Z_CostContact', 'Z_Revenue', 'Complain'], axis=1, inplace=True)"
   ]
  },
  {
   "cell_type": "code",
   "execution_count": 9,
   "id": "287e4564-7400-42d2-863c-d01e71e3b7dd",
   "metadata": {},
   "outputs": [
    {
     "data": {
      "text/html": [
       "<div>\n",
       "<style scoped>\n",
       "    .dataframe tbody tr th:only-of-type {\n",
       "        vertical-align: middle;\n",
       "    }\n",
       "\n",
       "    .dataframe tbody tr th {\n",
       "        vertical-align: top;\n",
       "    }\n",
       "\n",
       "    .dataframe thead th {\n",
       "        text-align: right;\n",
       "    }\n",
       "</style>\n",
       "<table border=\"1\" class=\"dataframe\">\n",
       "  <thead>\n",
       "    <tr style=\"text-align: right;\">\n",
       "      <th></th>\n",
       "      <th>ID</th>\n",
       "      <th>Year_Birth</th>\n",
       "      <th>Education</th>\n",
       "      <th>Marital_Status</th>\n",
       "      <th>Income</th>\n",
       "      <th>Kidhome</th>\n",
       "      <th>Teenhome</th>\n",
       "      <th>Dt_Customer</th>\n",
       "      <th>Recency</th>\n",
       "      <th>MntWines</th>\n",
       "      <th>...</th>\n",
       "      <th>NumWebPurchases</th>\n",
       "      <th>NumCatalogPurchases</th>\n",
       "      <th>NumStorePurchases</th>\n",
       "      <th>NumWebVisitsMonth</th>\n",
       "      <th>AcceptedCmp3</th>\n",
       "      <th>AcceptedCmp4</th>\n",
       "      <th>AcceptedCmp5</th>\n",
       "      <th>AcceptedCmp1</th>\n",
       "      <th>AcceptedCmp2</th>\n",
       "      <th>Response</th>\n",
       "    </tr>\n",
       "  </thead>\n",
       "  <tbody>\n",
       "    <tr>\n",
       "      <th>0</th>\n",
       "      <td>5524</td>\n",
       "      <td>1957</td>\n",
       "      <td>Graduation</td>\n",
       "      <td>Single</td>\n",
       "      <td>58138.0</td>\n",
       "      <td>0</td>\n",
       "      <td>0</td>\n",
       "      <td>2012-09-04</td>\n",
       "      <td>58</td>\n",
       "      <td>635</td>\n",
       "      <td>...</td>\n",
       "      <td>8</td>\n",
       "      <td>10</td>\n",
       "      <td>4</td>\n",
       "      <td>7</td>\n",
       "      <td>0</td>\n",
       "      <td>0</td>\n",
       "      <td>0</td>\n",
       "      <td>0</td>\n",
       "      <td>0</td>\n",
       "      <td>1</td>\n",
       "    </tr>\n",
       "    <tr>\n",
       "      <th>1</th>\n",
       "      <td>2174</td>\n",
       "      <td>1954</td>\n",
       "      <td>Graduation</td>\n",
       "      <td>Single</td>\n",
       "      <td>46344.0</td>\n",
       "      <td>1</td>\n",
       "      <td>1</td>\n",
       "      <td>2014-03-08</td>\n",
       "      <td>38</td>\n",
       "      <td>11</td>\n",
       "      <td>...</td>\n",
       "      <td>1</td>\n",
       "      <td>1</td>\n",
       "      <td>2</td>\n",
       "      <td>5</td>\n",
       "      <td>0</td>\n",
       "      <td>0</td>\n",
       "      <td>0</td>\n",
       "      <td>0</td>\n",
       "      <td>0</td>\n",
       "      <td>0</td>\n",
       "    </tr>\n",
       "    <tr>\n",
       "      <th>2</th>\n",
       "      <td>4141</td>\n",
       "      <td>1965</td>\n",
       "      <td>Graduation</td>\n",
       "      <td>Together</td>\n",
       "      <td>71613.0</td>\n",
       "      <td>0</td>\n",
       "      <td>0</td>\n",
       "      <td>2013-08-21</td>\n",
       "      <td>26</td>\n",
       "      <td>426</td>\n",
       "      <td>...</td>\n",
       "      <td>8</td>\n",
       "      <td>2</td>\n",
       "      <td>10</td>\n",
       "      <td>4</td>\n",
       "      <td>0</td>\n",
       "      <td>0</td>\n",
       "      <td>0</td>\n",
       "      <td>0</td>\n",
       "      <td>0</td>\n",
       "      <td>0</td>\n",
       "    </tr>\n",
       "    <tr>\n",
       "      <th>3</th>\n",
       "      <td>6182</td>\n",
       "      <td>1984</td>\n",
       "      <td>Graduation</td>\n",
       "      <td>Together</td>\n",
       "      <td>26646.0</td>\n",
       "      <td>1</td>\n",
       "      <td>0</td>\n",
       "      <td>2014-02-10</td>\n",
       "      <td>26</td>\n",
       "      <td>11</td>\n",
       "      <td>...</td>\n",
       "      <td>2</td>\n",
       "      <td>0</td>\n",
       "      <td>4</td>\n",
       "      <td>6</td>\n",
       "      <td>0</td>\n",
       "      <td>0</td>\n",
       "      <td>0</td>\n",
       "      <td>0</td>\n",
       "      <td>0</td>\n",
       "      <td>0</td>\n",
       "    </tr>\n",
       "    <tr>\n",
       "      <th>4</th>\n",
       "      <td>5324</td>\n",
       "      <td>1981</td>\n",
       "      <td>PhD</td>\n",
       "      <td>Married</td>\n",
       "      <td>58293.0</td>\n",
       "      <td>1</td>\n",
       "      <td>0</td>\n",
       "      <td>2014-01-19</td>\n",
       "      <td>94</td>\n",
       "      <td>173</td>\n",
       "      <td>...</td>\n",
       "      <td>5</td>\n",
       "      <td>3</td>\n",
       "      <td>6</td>\n",
       "      <td>5</td>\n",
       "      <td>0</td>\n",
       "      <td>0</td>\n",
       "      <td>0</td>\n",
       "      <td>0</td>\n",
       "      <td>0</td>\n",
       "      <td>0</td>\n",
       "    </tr>\n",
       "  </tbody>\n",
       "</table>\n",
       "<p>5 rows × 26 columns</p>\n",
       "</div>"
      ],
      "text/plain": [
       "     ID  Year_Birth   Education Marital_Status   Income  Kidhome  Teenhome  \\\n",
       "0  5524        1957  Graduation         Single  58138.0        0         0   \n",
       "1  2174        1954  Graduation         Single  46344.0        1         1   \n",
       "2  4141        1965  Graduation       Together  71613.0        0         0   \n",
       "3  6182        1984  Graduation       Together  26646.0        1         0   \n",
       "4  5324        1981         PhD        Married  58293.0        1         0   \n",
       "\n",
       "  Dt_Customer  Recency  MntWines  ...  NumWebPurchases  NumCatalogPurchases  \\\n",
       "0  2012-09-04       58       635  ...                8                   10   \n",
       "1  2014-03-08       38        11  ...                1                    1   \n",
       "2  2013-08-21       26       426  ...                8                    2   \n",
       "3  2014-02-10       26        11  ...                2                    0   \n",
       "4  2014-01-19       94       173  ...                5                    3   \n",
       "\n",
       "   NumStorePurchases  NumWebVisitsMonth  AcceptedCmp3  AcceptedCmp4  \\\n",
       "0                  4                  7             0             0   \n",
       "1                  2                  5             0             0   \n",
       "2                 10                  4             0             0   \n",
       "3                  4                  6             0             0   \n",
       "4                  6                  5             0             0   \n",
       "\n",
       "   AcceptedCmp5  AcceptedCmp1  AcceptedCmp2  Response  \n",
       "0             0             0             0         1  \n",
       "1             0             0             0         0  \n",
       "2             0             0             0         0  \n",
       "3             0             0             0         0  \n",
       "4             0             0             0         0  \n",
       "\n",
       "[5 rows x 26 columns]"
      ]
     },
     "execution_count": 9,
     "metadata": {},
     "output_type": "execute_result"
    }
   ],
   "source": [
    "df.head(5)"
   ]
  },
  {
   "cell_type": "code",
   "execution_count": 10,
   "id": "3a386197-1c18-4d59-8e44-42474a5b0c89",
   "metadata": {},
   "outputs": [
    {
     "data": {
      "text/plain": [
       "0"
      ]
     },
     "execution_count": 10,
     "metadata": {},
     "output_type": "execute_result"
    }
   ],
   "source": [
    "# Remove duplicated rows by id\n",
    "df.duplicated(subset=['ID']).sum()"
   ]
  },
  {
   "cell_type": "code",
   "execution_count": 11,
   "id": "b1f80b3e-da9c-4250-926e-af1b2d651350",
   "metadata": {},
   "outputs": [],
   "source": [
    "# There's no duplicated row, so I'm gonna remove the ID. I'm not gonna use ID to do analysis\n",
    "df.drop(columns=['ID'], axis=1, inplace=True)"
   ]
  },
  {
   "cell_type": "code",
   "execution_count": 12,
   "id": "4e175e12-855e-463c-a5fa-28efeb96625f",
   "metadata": {},
   "outputs": [],
   "source": [
    "df['Marital_Status'].replace(to_replace={'YOLO':'Single', 'Absurd':'Single', 'Alone':'Single'}, inplace=True)"
   ]
  },
  {
   "cell_type": "code",
   "execution_count": 13,
   "id": "9cab0594-7b8c-4500-81c7-575061bd133d",
   "metadata": {},
   "outputs": [
    {
     "name": "stdout",
     "output_type": "stream",
     "text": [
      "<class 'pandas.core.frame.DataFrame'>\n",
      "RangeIndex: 2240 entries, 0 to 2239\n",
      "Data columns (total 25 columns):\n",
      " #   Column               Non-Null Count  Dtype         \n",
      "---  ------               --------------  -----         \n",
      " 0   Year_Birth           2240 non-null   int64         \n",
      " 1   Education            2240 non-null   object        \n",
      " 2   Marital_Status       2240 non-null   object        \n",
      " 3   Income               2216 non-null   float64       \n",
      " 4   Kidhome              2240 non-null   int64         \n",
      " 5   Teenhome             2240 non-null   int64         \n",
      " 6   Dt_Customer          2240 non-null   datetime64[ns]\n",
      " 7   Recency              2240 non-null   int64         \n",
      " 8   MntWines             2240 non-null   int64         \n",
      " 9   MntFruits            2240 non-null   int64         \n",
      " 10  MntMeatProducts      2240 non-null   int64         \n",
      " 11  MntFishProducts      2240 non-null   int64         \n",
      " 12  MntSweetProducts     2240 non-null   int64         \n",
      " 13  MntGoldProds         2240 non-null   int64         \n",
      " 14  NumDealsPurchases    2240 non-null   int64         \n",
      " 15  NumWebPurchases      2240 non-null   int64         \n",
      " 16  NumCatalogPurchases  2240 non-null   int64         \n",
      " 17  NumStorePurchases    2240 non-null   int64         \n",
      " 18  NumWebVisitsMonth    2240 non-null   int64         \n",
      " 19  AcceptedCmp3         2240 non-null   int64         \n",
      " 20  AcceptedCmp4         2240 non-null   int64         \n",
      " 21  AcceptedCmp5         2240 non-null   int64         \n",
      " 22  AcceptedCmp1         2240 non-null   int64         \n",
      " 23  AcceptedCmp2         2240 non-null   int64         \n",
      " 24  Response             2240 non-null   int64         \n",
      "dtypes: datetime64[ns](1), float64(1), int64(21), object(2)\n",
      "memory usage: 437.6+ KB\n"
     ]
    }
   ],
   "source": [
    "df.info()"
   ]
  },
  {
   "cell_type": "markdown",
   "id": "3502f9fd-b4e5-4be2-9bcb-81e5d24db8f3",
   "metadata": {
    "tags": []
   },
   "source": [
    "## Data Split"
   ]
  },
  {
   "cell_type": "code",
   "execution_count": 14,
   "id": "06700024-20a5-4598-a4e7-e1a7198466fd",
   "metadata": {},
   "outputs": [],
   "source": [
    "from sklearn.model_selection import train_test_split "
   ]
  },
  {
   "cell_type": "code",
   "execution_count": 15,
   "id": "7f9749ac-3a95-44f6-9a77-e14e830b0228",
   "metadata": {},
   "outputs": [],
   "source": [
    "df_train_full, df_test = train_test_split(df, test_size=0.2, random_state=1)"
   ]
  },
  {
   "cell_type": "code",
   "execution_count": 16,
   "id": "ee1f3342-49c1-4dfa-8eff-bce857edbb5c",
   "metadata": {},
   "outputs": [
    {
     "data": {
      "text/plain": [
       "(1792, 25)"
      ]
     },
     "execution_count": 16,
     "metadata": {},
     "output_type": "execute_result"
    }
   ],
   "source": [
    "df_train_full.shape"
   ]
  },
  {
   "cell_type": "code",
   "execution_count": 17,
   "id": "df5fd10c-9fe4-4698-8bc1-b2e973f46f30",
   "metadata": {},
   "outputs": [
    {
     "data": {
      "text/plain": [
       "(448, 25)"
      ]
     },
     "execution_count": 17,
     "metadata": {},
     "output_type": "execute_result"
    }
   ],
   "source": [
    "df_test.shape"
   ]
  },
  {
   "cell_type": "code",
   "execution_count": 18,
   "id": "88efb1e9-5e9c-4a5f-b507-c5953f71b2e2",
   "metadata": {},
   "outputs": [],
   "source": [
    "df_train, df_valid = train_test_split(df_train_full, test_size=0.25, random_state=1)"
   ]
  },
  {
   "cell_type": "code",
   "execution_count": 19,
   "id": "f923981d-a8ce-4b5d-b9ce-95ce2878e0d6",
   "metadata": {},
   "outputs": [
    {
     "data": {
      "text/plain": [
       "(1344, 25)"
      ]
     },
     "execution_count": 19,
     "metadata": {},
     "output_type": "execute_result"
    }
   ],
   "source": [
    "df_train.shape"
   ]
  },
  {
   "cell_type": "code",
   "execution_count": 20,
   "id": "6846672b-0027-4a3d-80e7-d164123bb74c",
   "metadata": {},
   "outputs": [
    {
     "data": {
      "text/plain": [
       "(448, 25)"
      ]
     },
     "execution_count": 20,
     "metadata": {},
     "output_type": "execute_result"
    }
   ],
   "source": [
    "df_valid.shape"
   ]
  },
  {
   "cell_type": "markdown",
   "id": "968b0bff-af93-48ba-8823-45390529feba",
   "metadata": {
    "tags": []
   },
   "source": [
    "## Data Preprocessing I (Before Split)\n",
    "This preprocessing is specially used for analysis using df."
   ]
  },
  {
   "cell_type": "code",
   "execution_count": 21,
   "id": "75c3043b-97f6-4e2b-b14c-236091230c23",
   "metadata": {},
   "outputs": [
    {
     "data": {
      "text/html": [
       "<div>\n",
       "<style scoped>\n",
       "    .dataframe tbody tr th:only-of-type {\n",
       "        vertical-align: middle;\n",
       "    }\n",
       "\n",
       "    .dataframe tbody tr th {\n",
       "        vertical-align: top;\n",
       "    }\n",
       "\n",
       "    .dataframe thead th {\n",
       "        text-align: right;\n",
       "    }\n",
       "</style>\n",
       "<table border=\"1\" class=\"dataframe\">\n",
       "  <thead>\n",
       "    <tr style=\"text-align: right;\">\n",
       "      <th></th>\n",
       "      <th>Year_Birth</th>\n",
       "      <th>Education</th>\n",
       "      <th>Marital_Status</th>\n",
       "      <th>Income</th>\n",
       "      <th>Kidhome</th>\n",
       "      <th>Teenhome</th>\n",
       "      <th>Dt_Customer</th>\n",
       "      <th>Recency</th>\n",
       "      <th>MntWines</th>\n",
       "      <th>MntFruits</th>\n",
       "      <th>...</th>\n",
       "      <th>NumWebPurchases</th>\n",
       "      <th>NumCatalogPurchases</th>\n",
       "      <th>NumStorePurchases</th>\n",
       "      <th>NumWebVisitsMonth</th>\n",
       "      <th>AcceptedCmp3</th>\n",
       "      <th>AcceptedCmp4</th>\n",
       "      <th>AcceptedCmp5</th>\n",
       "      <th>AcceptedCmp1</th>\n",
       "      <th>AcceptedCmp2</th>\n",
       "      <th>Response</th>\n",
       "    </tr>\n",
       "  </thead>\n",
       "  <tbody>\n",
       "    <tr>\n",
       "      <th>0</th>\n",
       "      <td>1957</td>\n",
       "      <td>Graduation</td>\n",
       "      <td>Single</td>\n",
       "      <td>58138.0</td>\n",
       "      <td>0</td>\n",
       "      <td>0</td>\n",
       "      <td>2012-09-04</td>\n",
       "      <td>58</td>\n",
       "      <td>635</td>\n",
       "      <td>88</td>\n",
       "      <td>...</td>\n",
       "      <td>8</td>\n",
       "      <td>10</td>\n",
       "      <td>4</td>\n",
       "      <td>7</td>\n",
       "      <td>0</td>\n",
       "      <td>0</td>\n",
       "      <td>0</td>\n",
       "      <td>0</td>\n",
       "      <td>0</td>\n",
       "      <td>1</td>\n",
       "    </tr>\n",
       "    <tr>\n",
       "      <th>1</th>\n",
       "      <td>1954</td>\n",
       "      <td>Graduation</td>\n",
       "      <td>Single</td>\n",
       "      <td>46344.0</td>\n",
       "      <td>1</td>\n",
       "      <td>1</td>\n",
       "      <td>2014-03-08</td>\n",
       "      <td>38</td>\n",
       "      <td>11</td>\n",
       "      <td>1</td>\n",
       "      <td>...</td>\n",
       "      <td>1</td>\n",
       "      <td>1</td>\n",
       "      <td>2</td>\n",
       "      <td>5</td>\n",
       "      <td>0</td>\n",
       "      <td>0</td>\n",
       "      <td>0</td>\n",
       "      <td>0</td>\n",
       "      <td>0</td>\n",
       "      <td>0</td>\n",
       "    </tr>\n",
       "    <tr>\n",
       "      <th>2</th>\n",
       "      <td>1965</td>\n",
       "      <td>Graduation</td>\n",
       "      <td>Together</td>\n",
       "      <td>71613.0</td>\n",
       "      <td>0</td>\n",
       "      <td>0</td>\n",
       "      <td>2013-08-21</td>\n",
       "      <td>26</td>\n",
       "      <td>426</td>\n",
       "      <td>49</td>\n",
       "      <td>...</td>\n",
       "      <td>8</td>\n",
       "      <td>2</td>\n",
       "      <td>10</td>\n",
       "      <td>4</td>\n",
       "      <td>0</td>\n",
       "      <td>0</td>\n",
       "      <td>0</td>\n",
       "      <td>0</td>\n",
       "      <td>0</td>\n",
       "      <td>0</td>\n",
       "    </tr>\n",
       "    <tr>\n",
       "      <th>3</th>\n",
       "      <td>1984</td>\n",
       "      <td>Graduation</td>\n",
       "      <td>Together</td>\n",
       "      <td>26646.0</td>\n",
       "      <td>1</td>\n",
       "      <td>0</td>\n",
       "      <td>2014-02-10</td>\n",
       "      <td>26</td>\n",
       "      <td>11</td>\n",
       "      <td>4</td>\n",
       "      <td>...</td>\n",
       "      <td>2</td>\n",
       "      <td>0</td>\n",
       "      <td>4</td>\n",
       "      <td>6</td>\n",
       "      <td>0</td>\n",
       "      <td>0</td>\n",
       "      <td>0</td>\n",
       "      <td>0</td>\n",
       "      <td>0</td>\n",
       "      <td>0</td>\n",
       "    </tr>\n",
       "    <tr>\n",
       "      <th>4</th>\n",
       "      <td>1981</td>\n",
       "      <td>PhD</td>\n",
       "      <td>Married</td>\n",
       "      <td>58293.0</td>\n",
       "      <td>1</td>\n",
       "      <td>0</td>\n",
       "      <td>2014-01-19</td>\n",
       "      <td>94</td>\n",
       "      <td>173</td>\n",
       "      <td>43</td>\n",
       "      <td>...</td>\n",
       "      <td>5</td>\n",
       "      <td>3</td>\n",
       "      <td>6</td>\n",
       "      <td>5</td>\n",
       "      <td>0</td>\n",
       "      <td>0</td>\n",
       "      <td>0</td>\n",
       "      <td>0</td>\n",
       "      <td>0</td>\n",
       "      <td>0</td>\n",
       "    </tr>\n",
       "  </tbody>\n",
       "</table>\n",
       "<p>5 rows × 25 columns</p>\n",
       "</div>"
      ],
      "text/plain": [
       "   Year_Birth   Education Marital_Status   Income  Kidhome  Teenhome  \\\n",
       "0        1957  Graduation         Single  58138.0        0         0   \n",
       "1        1954  Graduation         Single  46344.0        1         1   \n",
       "2        1965  Graduation       Together  71613.0        0         0   \n",
       "3        1984  Graduation       Together  26646.0        1         0   \n",
       "4        1981         PhD        Married  58293.0        1         0   \n",
       "\n",
       "  Dt_Customer  Recency  MntWines  MntFruits  ...  NumWebPurchases  \\\n",
       "0  2012-09-04       58       635         88  ...                8   \n",
       "1  2014-03-08       38        11          1  ...                1   \n",
       "2  2013-08-21       26       426         49  ...                8   \n",
       "3  2014-02-10       26        11          4  ...                2   \n",
       "4  2014-01-19       94       173         43  ...                5   \n",
       "\n",
       "   NumCatalogPurchases  NumStorePurchases  NumWebVisitsMonth  AcceptedCmp3  \\\n",
       "0                   10                  4                  7             0   \n",
       "1                    1                  2                  5             0   \n",
       "2                    2                 10                  4             0   \n",
       "3                    0                  4                  6             0   \n",
       "4                    3                  6                  5             0   \n",
       "\n",
       "   AcceptedCmp4  AcceptedCmp5  AcceptedCmp1  AcceptedCmp2  Response  \n",
       "0             0             0             0             0         1  \n",
       "1             0             0             0             0         0  \n",
       "2             0             0             0             0         0  \n",
       "3             0             0             0             0         0  \n",
       "4             0             0             0             0         0  \n",
       "\n",
       "[5 rows x 25 columns]"
      ]
     },
     "execution_count": 21,
     "metadata": {},
     "output_type": "execute_result"
    }
   ],
   "source": [
    "df.head(5)"
   ]
  },
  {
   "cell_type": "code",
   "execution_count": 22,
   "id": "2ebb22c6-57ac-4b58-a873-c92b661b1b77",
   "metadata": {},
   "outputs": [],
   "source": [
    "df_ = df[:][:].copy()"
   ]
  },
  {
   "cell_type": "code",
   "execution_count": 23,
   "id": "b4965e8a-3b5d-4904-9516-7da21293fd55",
   "metadata": {},
   "outputs": [
    {
     "data": {
      "text/plain": [
       "Year_Birth              0\n",
       "Education               0\n",
       "Marital_Status          0\n",
       "Income                 24\n",
       "Kidhome                 0\n",
       "Teenhome                0\n",
       "Dt_Customer             0\n",
       "Recency                 0\n",
       "MntWines                0\n",
       "MntFruits               0\n",
       "MntMeatProducts         0\n",
       "MntFishProducts         0\n",
       "MntSweetProducts        0\n",
       "MntGoldProds            0\n",
       "NumDealsPurchases       0\n",
       "NumWebPurchases         0\n",
       "NumCatalogPurchases     0\n",
       "NumStorePurchases       0\n",
       "NumWebVisitsMonth       0\n",
       "AcceptedCmp3            0\n",
       "AcceptedCmp4            0\n",
       "AcceptedCmp5            0\n",
       "AcceptedCmp1            0\n",
       "AcceptedCmp2            0\n",
       "Response                0\n",
       "dtype: int64"
      ]
     },
     "execution_count": 23,
     "metadata": {},
     "output_type": "execute_result"
    }
   ],
   "source": [
    "# next : create new column 'Age', 'TotalAmountSpent', 'TotalPurchasedItems'\n",
    "# todo : inspect the null value of the field in relation to the new column\n",
    "df_.isna().sum()"
   ]
  },
  {
   "cell_type": "code",
   "execution_count": 24,
   "id": "9fa6e561-9ffe-4ba4-b1e4-835ddd9e43ae",
   "metadata": {},
   "outputs": [],
   "source": [
    "df_['Income'] = df_['Income'].fillna(value=df_.Income.median())"
   ]
  },
  {
   "cell_type": "code",
   "execution_count": 25,
   "id": "738f0518-0342-4c19-8cdc-f57834b8143f",
   "metadata": {},
   "outputs": [],
   "source": [
    "total_amount_spent = [col for col in df_.columns if 'Mnt' in col]\n",
    "df_['Total_Amnt_Spent'] = df_[total_amount_spent].sum(axis=1)"
   ]
  },
  {
   "cell_type": "code",
   "execution_count": 26,
   "id": "e8c8850b-73a6-4d19-b124-29499a75ee80",
   "metadata": {},
   "outputs": [],
   "source": [
    "cols = ['NumDealsPurchases', 'NumWebPurchases', 'NumCatalogPurchases', 'NumStorePurchases']\n",
    "total_purch_items = df_.loc[:][cols].sum(axis=1)"
   ]
  },
  {
   "cell_type": "code",
   "execution_count": 27,
   "id": "b5d62c54-b6ce-4664-b85f-784346244f6a",
   "metadata": {},
   "outputs": [],
   "source": [
    "df_ = df_.assign(Cust_Age=(df_.Dt_Customer.dt.year-df_.Year_Birth), Total_Purchased_Items=total_purch_items)"
   ]
  },
  {
   "cell_type": "code",
   "execution_count": 28,
   "id": "6bc15ded-5a12-451d-9b73-b73b04013735",
   "metadata": {},
   "outputs": [
    {
     "data": {
      "text/plain": [
       "Year_Birth                  AxesSubplot(0.125,0.749828;0.133621x0.130172)\n",
       "Income                   AxesSubplot(0.285345,0.749828;0.133621x0.130172)\n",
       "Kidhome                   AxesSubplot(0.44569,0.749828;0.133621x0.130172)\n",
       "Teenhome                 AxesSubplot(0.606034,0.749828;0.133621x0.130172)\n",
       "Recency                  AxesSubplot(0.766379,0.749828;0.133621x0.130172)\n",
       "MntWines                    AxesSubplot(0.125,0.593621;0.133621x0.130172)\n",
       "MntFruits                AxesSubplot(0.285345,0.593621;0.133621x0.130172)\n",
       "MntMeatProducts           AxesSubplot(0.44569,0.593621;0.133621x0.130172)\n",
       "MntFishProducts          AxesSubplot(0.606034,0.593621;0.133621x0.130172)\n",
       "MntSweetProducts         AxesSubplot(0.766379,0.593621;0.133621x0.130172)\n",
       "MntGoldProds                AxesSubplot(0.125,0.437414;0.133621x0.130172)\n",
       "NumDealsPurchases        AxesSubplot(0.285345,0.437414;0.133621x0.130172)\n",
       "NumWebPurchases           AxesSubplot(0.44569,0.437414;0.133621x0.130172)\n",
       "NumCatalogPurchases      AxesSubplot(0.606034,0.437414;0.133621x0.130172)\n",
       "NumStorePurchases        AxesSubplot(0.766379,0.437414;0.133621x0.130172)\n",
       "NumWebVisitsMonth           AxesSubplot(0.125,0.281207;0.133621x0.130172)\n",
       "AcceptedCmp3             AxesSubplot(0.285345,0.281207;0.133621x0.130172)\n",
       "AcceptedCmp4              AxesSubplot(0.44569,0.281207;0.133621x0.130172)\n",
       "AcceptedCmp5             AxesSubplot(0.606034,0.281207;0.133621x0.130172)\n",
       "AcceptedCmp1             AxesSubplot(0.766379,0.281207;0.133621x0.130172)\n",
       "AcceptedCmp2                   AxesSubplot(0.125,0.125;0.133621x0.130172)\n",
       "Response                    AxesSubplot(0.285345,0.125;0.133621x0.130172)\n",
       "Total_Amnt_Spent             AxesSubplot(0.44569,0.125;0.133621x0.130172)\n",
       "Cust_Age                    AxesSubplot(0.606034,0.125;0.133621x0.130172)\n",
       "Total_Purchased_Items       AxesSubplot(0.766379,0.125;0.133621x0.130172)\n",
       "dtype: object"
      ]
     },
     "execution_count": 28,
     "metadata": {},
     "output_type": "execute_result"
    },
    {
     "data": {
      "image/png": "[encoded data removed]",
      "text/plain": [
       "<Figure size 1080x1440 with 25 Axes>"
      ]
     },
     "metadata": {
      "needs_background": "light"
     },
     "output_type": "display_data"
    }
   ],
   "source": [
    "# check outliers\n",
    "df_plot = df_.select_dtypes(include=['int64', 'float64'])\n",
    "df_plot.plot(kind='box', subplots=True, layout=(5,5), figsize=(15,20))"
   ]
  },
  {
   "cell_type": "code",
   "execution_count": 29,
   "id": "1d569d10-aff2-4353-8c6c-3e8307a31201",
   "metadata": {},
   "outputs": [
    {
     "name": "stdout",
     "output_type": "stream",
     "text": [
      "Year_Birth 1893 1996\n",
      "\n",
      "Income 1730.0 666666.0\n",
      "\n",
      "Kidhome 0 2\n",
      "\n",
      "Teenhome 0 2\n",
      "\n",
      "Recency 0 99\n",
      "\n",
      "MntWines 0 1493\n",
      "\n",
      "MntFruits 0 199\n",
      "\n",
      "MntMeatProducts 0 1725\n",
      "\n",
      "MntFishProducts 0 259\n",
      "\n",
      "MntSweetProducts 0 263\n",
      "\n",
      "MntGoldProds 0 362\n",
      "\n",
      "NumDealsPurchases 0 15\n",
      "\n",
      "NumWebPurchases 0 27\n",
      "\n",
      "NumCatalogPurchases 0 28\n",
      "\n",
      "NumStorePurchases 0 13\n",
      "\n",
      "NumWebVisitsMonth 0 20\n",
      "\n",
      "AcceptedCmp3 0 1\n",
      "\n",
      "AcceptedCmp4 0 1\n",
      "\n",
      "AcceptedCmp5 0 1\n",
      "\n",
      "AcceptedCmp1 0 1\n",
      "\n",
      "AcceptedCmp2 0 1\n",
      "\n",
      "Response 0 1\n",
      "\n",
      "Total_Amnt_Spent 5 2525\n",
      "\n",
      "Cust_Age 16 121\n",
      "\n",
      "Total_Purchased_Items 0 44\n",
      "\n"
     ]
    }
   ],
   "source": [
    "# check min max value\n",
    "for dtype, col in list(zip(df_.dtypes, df_.columns)):\n",
    "    if dtype == 'float64' or dtype == 'int64':\n",
    "        print(col, df_[col].min(), df_[col].max())\n",
    "        print()"
   ]
  },
  {
   "cell_type": "code",
   "execution_count": 30,
   "id": "801d0d4b-74d1-4a4d-8b6f-569ec4f031d5",
   "metadata": {},
   "outputs": [],
   "source": [
    "# Gonna remove people with year_birth < 1900\n",
    "df_ = df_[ df_['Year_Birth'] > 1900 ]"
   ]
  },
  {
   "cell_type": "code",
   "execution_count": 31,
   "id": "45be9dc8-8e7d-483e-a4fc-45f269b62644",
   "metadata": {},
   "outputs": [
    {
     "name": "stdout",
     "output_type": "stream",
     "text": [
      "1940 73\n"
     ]
    }
   ],
   "source": [
    "print(df_.Year_Birth.min(), df_.Cust_Age.max())"
   ]
  },
  {
   "cell_type": "code",
   "execution_count": 32,
   "id": "2df2aadf-1344-440e-8044-fa36b9941573",
   "metadata": {},
   "outputs": [
    {
     "data": {
      "text/plain": [
       "Year_Birth                  AxesSubplot(0.125,0.749828;0.133621x0.130172)\n",
       "Income                   AxesSubplot(0.285345,0.749828;0.133621x0.130172)\n",
       "Kidhome                   AxesSubplot(0.44569,0.749828;0.133621x0.130172)\n",
       "Teenhome                 AxesSubplot(0.606034,0.749828;0.133621x0.130172)\n",
       "Recency                  AxesSubplot(0.766379,0.749828;0.133621x0.130172)\n",
       "MntWines                    AxesSubplot(0.125,0.593621;0.133621x0.130172)\n",
       "MntFruits                AxesSubplot(0.285345,0.593621;0.133621x0.130172)\n",
       "MntMeatProducts           AxesSubplot(0.44569,0.593621;0.133621x0.130172)\n",
       "MntFishProducts          AxesSubplot(0.606034,0.593621;0.133621x0.130172)\n",
       "MntSweetProducts         AxesSubplot(0.766379,0.593621;0.133621x0.130172)\n",
       "MntGoldProds                AxesSubplot(0.125,0.437414;0.133621x0.130172)\n",
       "NumDealsPurchases        AxesSubplot(0.285345,0.437414;0.133621x0.130172)\n",
       "NumWebPurchases           AxesSubplot(0.44569,0.437414;0.133621x0.130172)\n",
       "NumCatalogPurchases      AxesSubplot(0.606034,0.437414;0.133621x0.130172)\n",
       "NumStorePurchases        AxesSubplot(0.766379,0.437414;0.133621x0.130172)\n",
       "NumWebVisitsMonth           AxesSubplot(0.125,0.281207;0.133621x0.130172)\n",
       "AcceptedCmp3             AxesSubplot(0.285345,0.281207;0.133621x0.130172)\n",
       "AcceptedCmp4              AxesSubplot(0.44569,0.281207;0.133621x0.130172)\n",
       "AcceptedCmp5             AxesSubplot(0.606034,0.281207;0.133621x0.130172)\n",
       "AcceptedCmp1             AxesSubplot(0.766379,0.281207;0.133621x0.130172)\n",
       "AcceptedCmp2                   AxesSubplot(0.125,0.125;0.133621x0.130172)\n",
       "Response                    AxesSubplot(0.285345,0.125;0.133621x0.130172)\n",
       "Total_Amnt_Spent             AxesSubplot(0.44569,0.125;0.133621x0.130172)\n",
       "Cust_Age                    AxesSubplot(0.606034,0.125;0.133621x0.130172)\n",
       "Total_Purchased_Items       AxesSubplot(0.766379,0.125;0.133621x0.130172)\n",
       "dtype: object"
      ]
     },
     "execution_count": 32,
     "metadata": {},
     "output_type": "execute_result"
    },
    {
     "data": {
      "image/png": "[encoded data removed]",
      "text/plain": [
       "<Figure size 1080x1440 with 25 Axes>"
      ]
     },
     "metadata": {
      "needs_background": "light"
     },
     "output_type": "display_data"
    }
   ],
   "source": [
    "df_plot = df_.select_dtypes(include=['int64', 'float64'])\n",
    "df_plot.plot(kind='box', subplots=True, layout=(5,5), figsize=(15,20))"
   ]
  },
  {
   "cell_type": "markdown",
   "id": "286674e8-a9ca-4a04-ae13-d91c74cd8886",
   "metadata": {
    "tags": [],
    "toc-hr-collapsed": true
   },
   "source": [
    "## Data Preprocessing II (After Split)"
   ]
  },
  {
   "cell_type": "code",
   "execution_count": 33,
   "id": "1a66d128-4e79-41b3-8fa9-1260cc08b259",
   "metadata": {},
   "outputs": [],
   "source": [
    "def check_nan(df):\n",
    "    list = []\n",
    "    for i in df:\n",
    "        isnan = True if (df[i].isna().sum() > 0) else False\n",
    "        if isnan:\n",
    "            list.append(i)\n",
    "    return list"
   ]
  },
  {
   "cell_type": "code",
   "execution_count": 34,
   "id": "07c52ef6-3886-4059-b5a4-ae0fb2351d2e",
   "metadata": {},
   "outputs": [
    {
     "name": "stdout",
     "output_type": "stream",
     "text": [
      "['Income'] ['Income'] ['Income']\n"
     ]
    }
   ],
   "source": [
    "train_isnan = check_nan(df_train)\n",
    "valid_isnan = check_nan(df_valid)\n",
    "test_isnan = check_nan(df_test)\n",
    "print(train_isnan, valid_isnan, test_isnan)"
   ]
  },
  {
   "cell_type": "code",
   "execution_count": 35,
   "id": "65d40721-ab69-41d4-875e-05002fb0ad6f",
   "metadata": {},
   "outputs": [],
   "source": [
    "# Mean: When your dataset is in a normal distribution, you can use mean to fill in the missing values.\n",
    "# Median: When your dataset is not in a normal distribution, you can use the median value to fill in the missing values.\n",
    "# Median is also preferred when the distribution is skewed, as it is less sensitive to outliers than the mean.\n",
    "# Mode: When the missing values in your data are categorical and discrete, you can use the mode value to fill in the missing values."
   ]
  },
  {
   "cell_type": "code",
   "execution_count": 36,
   "id": "a2532868-c034-41dc-a9a8-038a5d035c16",
   "metadata": {},
   "outputs": [
    {
     "data": {
      "text/plain": [
       "<seaborn.axisgrid.FacetGrid at 0x1e95a5b9820>"
      ]
     },
     "execution_count": 36,
     "metadata": {},
     "output_type": "execute_result"
    },
    {
     "data": {
      "image/png": "[encoded data removed]",
      "text/plain": [
       "<Figure size 360x360 with 1 Axes>"
      ]
     },
     "metadata": {
      "needs_background": "light"
     },
     "output_type": "display_data"
    }
   ],
   "source": [
    "# Check the distribution of data\n",
    "sns.displot(data=df_train, x='Income', kde=True)"
   ]
  },
  {
   "cell_type": "code",
   "execution_count": 37,
   "id": "c7f8617e-cb47-45c1-87af-9782b1d63743",
   "metadata": {},
   "outputs": [],
   "source": [
    "# Gonna use median, because it's preferrable for skewed distribution and outliers.\n",
    "df_train['Income'] = df_train['Income'].fillna(value=df_train.Income.median())\n",
    "df_valid['Income'] = df_valid['Income'].fillna(value=df_valid.Income.median())\n",
    "df_test['Income'] = df_test['Income'].fillna(value=df_test.Income.median())"
   ]
  },
  {
   "cell_type": "code",
   "execution_count": 38,
   "id": "0550f025-202e-4294-a91d-3b8ed2f5823e",
   "metadata": {},
   "outputs": [
    {
     "data": {
      "text/plain": [
       "Year_Birth                AxesSubplot(0.125,0.749828;0.133621x0.130172)\n",
       "Income                 AxesSubplot(0.285345,0.749828;0.133621x0.130172)\n",
       "Kidhome                 AxesSubplot(0.44569,0.749828;0.133621x0.130172)\n",
       "Teenhome               AxesSubplot(0.606034,0.749828;0.133621x0.130172)\n",
       "Recency                AxesSubplot(0.766379,0.749828;0.133621x0.130172)\n",
       "MntWines                  AxesSubplot(0.125,0.593621;0.133621x0.130172)\n",
       "MntFruits              AxesSubplot(0.285345,0.593621;0.133621x0.130172)\n",
       "MntMeatProducts         AxesSubplot(0.44569,0.593621;0.133621x0.130172)\n",
       "MntFishProducts        AxesSubplot(0.606034,0.593621;0.133621x0.130172)\n",
       "MntSweetProducts       AxesSubplot(0.766379,0.593621;0.133621x0.130172)\n",
       "MntGoldProds              AxesSubplot(0.125,0.437414;0.133621x0.130172)\n",
       "NumDealsPurchases      AxesSubplot(0.285345,0.437414;0.133621x0.130172)\n",
       "NumWebPurchases         AxesSubplot(0.44569,0.437414;0.133621x0.130172)\n",
       "NumCatalogPurchases    AxesSubplot(0.606034,0.437414;0.133621x0.130172)\n",
       "NumStorePurchases      AxesSubplot(0.766379,0.437414;0.133621x0.130172)\n",
       "NumWebVisitsMonth         AxesSubplot(0.125,0.281207;0.133621x0.130172)\n",
       "AcceptedCmp3           AxesSubplot(0.285345,0.281207;0.133621x0.130172)\n",
       "AcceptedCmp4            AxesSubplot(0.44569,0.281207;0.133621x0.130172)\n",
       "AcceptedCmp5           AxesSubplot(0.606034,0.281207;0.133621x0.130172)\n",
       "AcceptedCmp1           AxesSubplot(0.766379,0.281207;0.133621x0.130172)\n",
       "AcceptedCmp2                 AxesSubplot(0.125,0.125;0.133621x0.130172)\n",
       "Response                  AxesSubplot(0.285345,0.125;0.133621x0.130172)\n",
       "dtype: object"
      ]
     },
     "execution_count": 38,
     "metadata": {},
     "output_type": "execute_result"
    },
    {
     "data": {
      "image/png": "[encoded data removed]",
      "text/plain": [
       "<Figure size 1080x1440 with 25 Axes>"
      ]
     },
     "metadata": {
      "needs_background": "light"
     },
     "output_type": "display_data"
    }
   ],
   "source": [
    "# Check outliers\n",
    "# https://pandas.pydata.org/pandas-docs/stable/reference/api/pandas.DataFrame.plot.html#pandas.DataFrame.plot\n",
    "df_plot_train = df_train.select_dtypes(include=['float64','int64'])\n",
    "df_plot_train.plot(kind='box', subplots=True, layout=(5,5), figsize=(15,20))                                            "
   ]
  },
  {
   "cell_type": "code",
   "execution_count": 39,
   "id": "e427ab76-21cb-47bc-a6f7-d47035472304",
   "metadata": {},
   "outputs": [
    {
     "name": "stdout",
     "output_type": "stream",
     "text": [
      "1893 1995\n"
     ]
    }
   ],
   "source": [
    "print(df_train.Year_Birth.min(), df_train.Year_Birth.max())"
   ]
  },
  {
   "cell_type": "code",
   "execution_count": 40,
   "id": "523268e8-b258-4e4d-98c5-5d8e8688c5b2",
   "metadata": {},
   "outputs": [],
   "source": [
    "# Remove rows with birth year < 1900\n",
    "df_train = df_train[ (df_train['Year_Birth'] > 1900) ]"
   ]
  },
  {
   "cell_type": "code",
   "execution_count": 41,
   "id": "2c1b186f-1199-4c9f-bb97-edacbf45ee0a",
   "metadata": {},
   "outputs": [
    {
     "data": {
      "text/plain": [
       "Year_Birth                AxesSubplot(0.125,0.749828;0.133621x0.130172)\n",
       "Income                 AxesSubplot(0.285345,0.749828;0.133621x0.130172)\n",
       "Kidhome                 AxesSubplot(0.44569,0.749828;0.133621x0.130172)\n",
       "Teenhome               AxesSubplot(0.606034,0.749828;0.133621x0.130172)\n",
       "Recency                AxesSubplot(0.766379,0.749828;0.133621x0.130172)\n",
       "MntWines                  AxesSubplot(0.125,0.593621;0.133621x0.130172)\n",
       "MntFruits              AxesSubplot(0.285345,0.593621;0.133621x0.130172)\n",
       "MntMeatProducts         AxesSubplot(0.44569,0.593621;0.133621x0.130172)\n",
       "MntFishProducts        AxesSubplot(0.606034,0.593621;0.133621x0.130172)\n",
       "MntSweetProducts       AxesSubplot(0.766379,0.593621;0.133621x0.130172)\n",
       "MntGoldProds              AxesSubplot(0.125,0.437414;0.133621x0.130172)\n",
       "NumDealsPurchases      AxesSubplot(0.285345,0.437414;0.133621x0.130172)\n",
       "NumWebPurchases         AxesSubplot(0.44569,0.437414;0.133621x0.130172)\n",
       "NumCatalogPurchases    AxesSubplot(0.606034,0.437414;0.133621x0.130172)\n",
       "NumStorePurchases      AxesSubplot(0.766379,0.437414;0.133621x0.130172)\n",
       "NumWebVisitsMonth         AxesSubplot(0.125,0.281207;0.133621x0.130172)\n",
       "AcceptedCmp3           AxesSubplot(0.285345,0.281207;0.133621x0.130172)\n",
       "AcceptedCmp4            AxesSubplot(0.44569,0.281207;0.133621x0.130172)\n",
       "AcceptedCmp5           AxesSubplot(0.606034,0.281207;0.133621x0.130172)\n",
       "AcceptedCmp1           AxesSubplot(0.766379,0.281207;0.133621x0.130172)\n",
       "AcceptedCmp2                 AxesSubplot(0.125,0.125;0.133621x0.130172)\n",
       "Response                  AxesSubplot(0.285345,0.125;0.133621x0.130172)\n",
       "dtype: object"
      ]
     },
     "execution_count": 41,
     "metadata": {},
     "output_type": "execute_result"
    },
    {
     "data": {
      "image/png": "[encoded data removed]",
      "text/plain": [
       "<Figure size 1080x1440 with 25 Axes>"
      ]
     },
     "metadata": {
      "needs_background": "light"
     },
     "output_type": "display_data"
    }
   ],
   "source": [
    "df_plot_train = df_train.select_dtypes(include=['float64','int64'])\n",
    "df_plot_train.plot(kind='box', subplots=True, layout=(5,5), figsize=(15,20))   "
   ]
  },
  {
   "cell_type": "code",
   "execution_count": 42,
   "id": "100ad612-9a06-4d59-ba9e-9f6441db2dae",
   "metadata": {},
   "outputs": [],
   "source": [
    "df_valid = df_valid[(df_valid.Year_Birth > 1900)]\n",
    "df_test = df_test[(df_test.Year_Birth > 1900)]"
   ]
  },
  {
   "cell_type": "markdown",
   "id": "b62424ae-246e-4e21-b7d3-e3d0bcbc53b3",
   "metadata": {},
   "source": [
    "#### Categorical Preprocessing"
   ]
  },
  {
   "cell_type": "code",
   "execution_count": 43,
   "id": "e8869598-a9a0-4989-b808-b595a220e0f5",
   "metadata": {},
   "outputs": [
    {
     "data": {
      "text/html": [
       "<div>\n",
       "<style scoped>\n",
       "    .dataframe tbody tr th:only-of-type {\n",
       "        vertical-align: middle;\n",
       "    }\n",
       "\n",
       "    .dataframe tbody tr th {\n",
       "        vertical-align: top;\n",
       "    }\n",
       "\n",
       "    .dataframe thead th {\n",
       "        text-align: right;\n",
       "    }\n",
       "</style>\n",
       "<table border=\"1\" class=\"dataframe\">\n",
       "  <thead>\n",
       "    <tr style=\"text-align: right;\">\n",
       "      <th></th>\n",
       "      <th>Year_Birth</th>\n",
       "      <th>Education</th>\n",
       "      <th>Marital_Status</th>\n",
       "      <th>Income</th>\n",
       "      <th>Kidhome</th>\n",
       "      <th>Teenhome</th>\n",
       "      <th>Dt_Customer</th>\n",
       "      <th>Recency</th>\n",
       "      <th>MntWines</th>\n",
       "      <th>MntFruits</th>\n",
       "      <th>...</th>\n",
       "      <th>NumWebPurchases</th>\n",
       "      <th>NumCatalogPurchases</th>\n",
       "      <th>NumStorePurchases</th>\n",
       "      <th>NumWebVisitsMonth</th>\n",
       "      <th>AcceptedCmp3</th>\n",
       "      <th>AcceptedCmp4</th>\n",
       "      <th>AcceptedCmp5</th>\n",
       "      <th>AcceptedCmp1</th>\n",
       "      <th>AcceptedCmp2</th>\n",
       "      <th>Response</th>\n",
       "    </tr>\n",
       "  </thead>\n",
       "  <tbody>\n",
       "    <tr>\n",
       "      <th>1935</th>\n",
       "      <td>1975</td>\n",
       "      <td>2n Cycle</td>\n",
       "      <td>Together</td>\n",
       "      <td>34984.0</td>\n",
       "      <td>1</td>\n",
       "      <td>1</td>\n",
       "      <td>2012-09-06</td>\n",
       "      <td>40</td>\n",
       "      <td>8</td>\n",
       "      <td>4</td>\n",
       "      <td>...</td>\n",
       "      <td>1</td>\n",
       "      <td>0</td>\n",
       "      <td>3</td>\n",
       "      <td>7</td>\n",
       "      <td>0</td>\n",
       "      <td>0</td>\n",
       "      <td>0</td>\n",
       "      <td>0</td>\n",
       "      <td>0</td>\n",
       "      <td>0</td>\n",
       "    </tr>\n",
       "    <tr>\n",
       "      <th>1395</th>\n",
       "      <td>1956</td>\n",
       "      <td>Master</td>\n",
       "      <td>Married</td>\n",
       "      <td>63915.0</td>\n",
       "      <td>0</td>\n",
       "      <td>2</td>\n",
       "      <td>2013-07-30</td>\n",
       "      <td>2</td>\n",
       "      <td>622</td>\n",
       "      <td>7</td>\n",
       "      <td>...</td>\n",
       "      <td>6</td>\n",
       "      <td>3</td>\n",
       "      <td>12</td>\n",
       "      <td>5</td>\n",
       "      <td>0</td>\n",
       "      <td>0</td>\n",
       "      <td>0</td>\n",
       "      <td>0</td>\n",
       "      <td>0</td>\n",
       "      <td>0</td>\n",
       "    </tr>\n",
       "    <tr>\n",
       "      <th>1359</th>\n",
       "      <td>1971</td>\n",
       "      <td>Master</td>\n",
       "      <td>Single</td>\n",
       "      <td>33316.0</td>\n",
       "      <td>1</td>\n",
       "      <td>1</td>\n",
       "      <td>2013-10-04</td>\n",
       "      <td>34</td>\n",
       "      <td>79</td>\n",
       "      <td>1</td>\n",
       "      <td>...</td>\n",
       "      <td>2</td>\n",
       "      <td>1</td>\n",
       "      <td>4</td>\n",
       "      <td>6</td>\n",
       "      <td>0</td>\n",
       "      <td>0</td>\n",
       "      <td>0</td>\n",
       "      <td>0</td>\n",
       "      <td>0</td>\n",
       "      <td>0</td>\n",
       "    </tr>\n",
       "    <tr>\n",
       "      <th>74</th>\n",
       "      <td>1952</td>\n",
       "      <td>Graduation</td>\n",
       "      <td>Married</td>\n",
       "      <td>28332.0</td>\n",
       "      <td>0</td>\n",
       "      <td>0</td>\n",
       "      <td>2014-04-30</td>\n",
       "      <td>58</td>\n",
       "      <td>14</td>\n",
       "      <td>10</td>\n",
       "      <td>...</td>\n",
       "      <td>2</td>\n",
       "      <td>1</td>\n",
       "      <td>4</td>\n",
       "      <td>2</td>\n",
       "      <td>0</td>\n",
       "      <td>0</td>\n",
       "      <td>0</td>\n",
       "      <td>0</td>\n",
       "      <td>0</td>\n",
       "      <td>0</td>\n",
       "    </tr>\n",
       "    <tr>\n",
       "      <th>531</th>\n",
       "      <td>1969</td>\n",
       "      <td>Graduation</td>\n",
       "      <td>Single</td>\n",
       "      <td>72679.0</td>\n",
       "      <td>0</td>\n",
       "      <td>1</td>\n",
       "      <td>2013-09-18</td>\n",
       "      <td>65</td>\n",
       "      <td>619</td>\n",
       "      <td>54</td>\n",
       "      <td>...</td>\n",
       "      <td>4</td>\n",
       "      <td>7</td>\n",
       "      <td>5</td>\n",
       "      <td>1</td>\n",
       "      <td>0</td>\n",
       "      <td>0</td>\n",
       "      <td>0</td>\n",
       "      <td>0</td>\n",
       "      <td>0</td>\n",
       "      <td>0</td>\n",
       "    </tr>\n",
       "  </tbody>\n",
       "</table>\n",
       "<p>5 rows × 25 columns</p>\n",
       "</div>"
      ],
      "text/plain": [
       "      Year_Birth   Education Marital_Status   Income  Kidhome  Teenhome  \\\n",
       "1935        1975    2n Cycle       Together  34984.0        1         1   \n",
       "1395        1956      Master        Married  63915.0        0         2   \n",
       "1359        1971      Master         Single  33316.0        1         1   \n",
       "74          1952  Graduation        Married  28332.0        0         0   \n",
       "531         1969  Graduation         Single  72679.0        0         1   \n",
       "\n",
       "     Dt_Customer  Recency  MntWines  MntFruits  ...  NumWebPurchases  \\\n",
       "1935  2012-09-06       40         8          4  ...                1   \n",
       "1395  2013-07-30        2       622          7  ...                6   \n",
       "1359  2013-10-04       34        79          1  ...                2   \n",
       "74    2014-04-30       58        14         10  ...                2   \n",
       "531   2013-09-18       65       619         54  ...                4   \n",
       "\n",
       "      NumCatalogPurchases  NumStorePurchases  NumWebVisitsMonth  AcceptedCmp3  \\\n",
       "1935                    0                  3                  7             0   \n",
       "1395                    3                 12                  5             0   \n",
       "1359                    1                  4                  6             0   \n",
       "74                      1                  4                  2             0   \n",
       "531                     7                  5                  1             0   \n",
       "\n",
       "      AcceptedCmp4  AcceptedCmp5  AcceptedCmp1  AcceptedCmp2  Response  \n",
       "1935             0             0             0             0         0  \n",
       "1395             0             0             0             0         0  \n",
       "1359             0             0             0             0         0  \n",
       "74               0             0             0             0         0  \n",
       "531              0             0             0             0         0  \n",
       "\n",
       "[5 rows x 25 columns]"
      ]
     },
     "execution_count": 43,
     "metadata": {},
     "output_type": "execute_result"
    }
   ],
   "source": [
    "df_train.head(5)"
   ]
  },
  {
   "cell_type": "code",
   "execution_count": 44,
   "id": "49483d83-5937-4717-a7de-81eefa70d595",
   "metadata": {},
   "outputs": [
    {
     "name": "stdout",
     "output_type": "stream",
     "text": [
      "['Single' 'Together' 'Married' 'Divorced' 'Widow']\n",
      "['Graduation' 'PhD' 'Master' 'Basic' '2n Cycle']\n"
     ]
    }
   ],
   "source": [
    "print(df.Marital_Status.unique())\n",
    "print(df.Education.unique())"
   ]
  },
  {
   "cell_type": "code",
   "execution_count": 45,
   "id": "dd2830da-10ab-482d-af21-1c3510921294",
   "metadata": {},
   "outputs": [],
   "source": [
    "# ordinal (tingkatan)\n",
    "cols_education = {\n",
    "    'Basic':1,\n",
    "    '2n Cycle':2,\n",
    "    'Graduation':3,\n",
    "    'Master':4,\n",
    "    'PhD':5\n",
    "}"
   ]
  },
  {
   "cell_type": "code",
   "execution_count": 46,
   "id": "26527ae3-02fc-4681-8eaf-2128cec17ea9",
   "metadata": {},
   "outputs": [],
   "source": [
    "df_train_encode = df_train[:][:].copy()\n",
    "df_test_encode = df_test[:][:].copy()\n",
    "df_valid_encode = df_valid[:][:].copy()"
   ]
  },
  {
   "cell_type": "code",
   "execution_count": 47,
   "id": "f0ad0ce2-706a-4d98-881e-82927333eb1a",
   "metadata": {},
   "outputs": [],
   "source": [
    "df_train_encode['Education'] = df_train_encode['Education'].map(cols_education)\n",
    "df_test_encode['Education'] = df_test_encode['Education'].map(cols_education)\n",
    "df_valid_encode['Education'] = df_valid_encode['Education'].map(cols_education)"
   ]
  },
  {
   "cell_type": "code",
   "execution_count": 48,
   "id": "5aa42823-2693-4e25-bbd8-d8816f3c2111",
   "metadata": {},
   "outputs": [
    {
     "data": {
      "text/html": [
       "<div>\n",
       "<style scoped>\n",
       "    .dataframe tbody tr th:only-of-type {\n",
       "        vertical-align: middle;\n",
       "    }\n",
       "\n",
       "    .dataframe tbody tr th {\n",
       "        vertical-align: top;\n",
       "    }\n",
       "\n",
       "    .dataframe thead th {\n",
       "        text-align: right;\n",
       "    }\n",
       "</style>\n",
       "<table border=\"1\" class=\"dataframe\">\n",
       "  <thead>\n",
       "    <tr style=\"text-align: right;\">\n",
       "      <th></th>\n",
       "      <th>Year_Birth</th>\n",
       "      <th>Education</th>\n",
       "      <th>Marital_Status</th>\n",
       "      <th>Income</th>\n",
       "      <th>Kidhome</th>\n",
       "      <th>Teenhome</th>\n",
       "      <th>Dt_Customer</th>\n",
       "      <th>Recency</th>\n",
       "      <th>MntWines</th>\n",
       "      <th>MntFruits</th>\n",
       "      <th>...</th>\n",
       "      <th>NumWebPurchases</th>\n",
       "      <th>NumCatalogPurchases</th>\n",
       "      <th>NumStorePurchases</th>\n",
       "      <th>NumWebVisitsMonth</th>\n",
       "      <th>AcceptedCmp3</th>\n",
       "      <th>AcceptedCmp4</th>\n",
       "      <th>AcceptedCmp5</th>\n",
       "      <th>AcceptedCmp1</th>\n",
       "      <th>AcceptedCmp2</th>\n",
       "      <th>Response</th>\n",
       "    </tr>\n",
       "  </thead>\n",
       "  <tbody>\n",
       "    <tr>\n",
       "      <th>1935</th>\n",
       "      <td>1975</td>\n",
       "      <td>2</td>\n",
       "      <td>Together</td>\n",
       "      <td>34984.0</td>\n",
       "      <td>1</td>\n",
       "      <td>1</td>\n",
       "      <td>2012-09-06</td>\n",
       "      <td>40</td>\n",
       "      <td>8</td>\n",
       "      <td>4</td>\n",
       "      <td>...</td>\n",
       "      <td>1</td>\n",
       "      <td>0</td>\n",
       "      <td>3</td>\n",
       "      <td>7</td>\n",
       "      <td>0</td>\n",
       "      <td>0</td>\n",
       "      <td>0</td>\n",
       "      <td>0</td>\n",
       "      <td>0</td>\n",
       "      <td>0</td>\n",
       "    </tr>\n",
       "    <tr>\n",
       "      <th>1395</th>\n",
       "      <td>1956</td>\n",
       "      <td>4</td>\n",
       "      <td>Married</td>\n",
       "      <td>63915.0</td>\n",
       "      <td>0</td>\n",
       "      <td>2</td>\n",
       "      <td>2013-07-30</td>\n",
       "      <td>2</td>\n",
       "      <td>622</td>\n",
       "      <td>7</td>\n",
       "      <td>...</td>\n",
       "      <td>6</td>\n",
       "      <td>3</td>\n",
       "      <td>12</td>\n",
       "      <td>5</td>\n",
       "      <td>0</td>\n",
       "      <td>0</td>\n",
       "      <td>0</td>\n",
       "      <td>0</td>\n",
       "      <td>0</td>\n",
       "      <td>0</td>\n",
       "    </tr>\n",
       "    <tr>\n",
       "      <th>1359</th>\n",
       "      <td>1971</td>\n",
       "      <td>4</td>\n",
       "      <td>Single</td>\n",
       "      <td>33316.0</td>\n",
       "      <td>1</td>\n",
       "      <td>1</td>\n",
       "      <td>2013-10-04</td>\n",
       "      <td>34</td>\n",
       "      <td>79</td>\n",
       "      <td>1</td>\n",
       "      <td>...</td>\n",
       "      <td>2</td>\n",
       "      <td>1</td>\n",
       "      <td>4</td>\n",
       "      <td>6</td>\n",
       "      <td>0</td>\n",
       "      <td>0</td>\n",
       "      <td>0</td>\n",
       "      <td>0</td>\n",
       "      <td>0</td>\n",
       "      <td>0</td>\n",
       "    </tr>\n",
       "    <tr>\n",
       "      <th>74</th>\n",
       "      <td>1952</td>\n",
       "      <td>3</td>\n",
       "      <td>Married</td>\n",
       "      <td>28332.0</td>\n",
       "      <td>0</td>\n",
       "      <td>0</td>\n",
       "      <td>2014-04-30</td>\n",
       "      <td>58</td>\n",
       "      <td>14</td>\n",
       "      <td>10</td>\n",
       "      <td>...</td>\n",
       "      <td>2</td>\n",
       "      <td>1</td>\n",
       "      <td>4</td>\n",
       "      <td>2</td>\n",
       "      <td>0</td>\n",
       "      <td>0</td>\n",
       "      <td>0</td>\n",
       "      <td>0</td>\n",
       "      <td>0</td>\n",
       "      <td>0</td>\n",
       "    </tr>\n",
       "    <tr>\n",
       "      <th>531</th>\n",
       "      <td>1969</td>\n",
       "      <td>3</td>\n",
       "      <td>Single</td>\n",
       "      <td>72679.0</td>\n",
       "      <td>0</td>\n",
       "      <td>1</td>\n",
       "      <td>2013-09-18</td>\n",
       "      <td>65</td>\n",
       "      <td>619</td>\n",
       "      <td>54</td>\n",
       "      <td>...</td>\n",
       "      <td>4</td>\n",
       "      <td>7</td>\n",
       "      <td>5</td>\n",
       "      <td>1</td>\n",
       "      <td>0</td>\n",
       "      <td>0</td>\n",
       "      <td>0</td>\n",
       "      <td>0</td>\n",
       "      <td>0</td>\n",
       "      <td>0</td>\n",
       "    </tr>\n",
       "  </tbody>\n",
       "</table>\n",
       "<p>5 rows × 25 columns</p>\n",
       "</div>"
      ],
      "text/plain": [
       "      Year_Birth  Education Marital_Status   Income  Kidhome  Teenhome  \\\n",
       "1935        1975          2       Together  34984.0        1         1   \n",
       "1395        1956          4        Married  63915.0        0         2   \n",
       "1359        1971          4         Single  33316.0        1         1   \n",
       "74          1952          3        Married  28332.0        0         0   \n",
       "531         1969          3         Single  72679.0        0         1   \n",
       "\n",
       "     Dt_Customer  Recency  MntWines  MntFruits  ...  NumWebPurchases  \\\n",
       "1935  2012-09-06       40         8          4  ...                1   \n",
       "1395  2013-07-30        2       622          7  ...                6   \n",
       "1359  2013-10-04       34        79          1  ...                2   \n",
       "74    2014-04-30       58        14         10  ...                2   \n",
       "531   2013-09-18       65       619         54  ...                4   \n",
       "\n",
       "      NumCatalogPurchases  NumStorePurchases  NumWebVisitsMonth  AcceptedCmp3  \\\n",
       "1935                    0                  3                  7             0   \n",
       "1395                    3                 12                  5             0   \n",
       "1359                    1                  4                  6             0   \n",
       "74                      1                  4                  2             0   \n",
       "531                     7                  5                  1             0   \n",
       "\n",
       "      AcceptedCmp4  AcceptedCmp5  AcceptedCmp1  AcceptedCmp2  Response  \n",
       "1935             0             0             0             0         0  \n",
       "1395             0             0             0             0         0  \n",
       "1359             0             0             0             0         0  \n",
       "74               0             0             0             0         0  \n",
       "531              0             0             0             0         0  \n",
       "\n",
       "[5 rows x 25 columns]"
      ]
     },
     "execution_count": 48,
     "metadata": {},
     "output_type": "execute_result"
    }
   ],
   "source": [
    "df_train_encode.head(5)"
   ]
  },
  {
   "cell_type": "code",
   "execution_count": 49,
   "id": "ee9c31e1-78dd-487d-a4cd-be34f47989c8",
   "metadata": {},
   "outputs": [],
   "source": [
    "df_train_encode = df_train_encode.assign(Dt_Customer_Year=df_train_encode.Dt_Customer.dt.year, Dt_Customer_Month=df_train_encode.Dt_Customer.dt.month, \n",
    "                       Dt_Customer_Date=df_train_encode.Dt_Customer.dt.day)\n",
    "df_test_encode = df_test_encode.assign(Dt_Customer_Year=df_test_encode.Dt_Customer.dt.year, Dt_Customer_Month=df_test_encode.Dt_Customer.dt.month, \n",
    "                       Dt_Customer_Date=df_test_encode.Dt_Customer.dt.day)\n",
    "df_valid_encode = df_valid_encode.assign(Dt_Customer_Year=df_valid_encode.Dt_Customer.dt.year, Dt_Customer_Month=df_valid_encode.Dt_Customer.dt.month, \n",
    "                       Dt_Customer_Date=df_valid_encode.Dt_Customer.dt.day)"
   ]
  },
  {
   "cell_type": "code",
   "execution_count": 50,
   "id": "a7c7a3c1-dfcb-4626-814d-0c3fa34f96fc",
   "metadata": {},
   "outputs": [],
   "source": [
    "df_train_encode = df_train_encode.drop(columns=['Dt_Customer'], axis=1, inplace=False)\n",
    "df_test_encode = df_test_encode.drop(columns=['Dt_Customer'], axis=1, inplace=False)\n",
    "df_valid_encode = df_valid_encode.drop(columns=['Dt_Customer'], axis=1, inplace=False)"
   ]
  },
  {
   "cell_type": "code",
   "execution_count": 51,
   "id": "07acec02-9a3f-49f4-9bb2-42744a9957f3",
   "metadata": {},
   "outputs": [
    {
     "data": {
      "text/html": [
       "<div>\n",
       "<style scoped>\n",
       "    .dataframe tbody tr th:only-of-type {\n",
       "        vertical-align: middle;\n",
       "    }\n",
       "\n",
       "    .dataframe tbody tr th {\n",
       "        vertical-align: top;\n",
       "    }\n",
       "\n",
       "    .dataframe thead th {\n",
       "        text-align: right;\n",
       "    }\n",
       "</style>\n",
       "<table border=\"1\" class=\"dataframe\">\n",
       "  <thead>\n",
       "    <tr style=\"text-align: right;\">\n",
       "      <th></th>\n",
       "      <th>Year_Birth</th>\n",
       "      <th>Education</th>\n",
       "      <th>Marital_Status</th>\n",
       "      <th>Income</th>\n",
       "      <th>Kidhome</th>\n",
       "      <th>Teenhome</th>\n",
       "      <th>Recency</th>\n",
       "      <th>MntWines</th>\n",
       "      <th>MntFruits</th>\n",
       "      <th>MntMeatProducts</th>\n",
       "      <th>...</th>\n",
       "      <th>NumWebVisitsMonth</th>\n",
       "      <th>AcceptedCmp3</th>\n",
       "      <th>AcceptedCmp4</th>\n",
       "      <th>AcceptedCmp5</th>\n",
       "      <th>AcceptedCmp1</th>\n",
       "      <th>AcceptedCmp2</th>\n",
       "      <th>Response</th>\n",
       "      <th>Dt_Customer_Year</th>\n",
       "      <th>Dt_Customer_Month</th>\n",
       "      <th>Dt_Customer_Date</th>\n",
       "    </tr>\n",
       "  </thead>\n",
       "  <tbody>\n",
       "    <tr>\n",
       "      <th>1935</th>\n",
       "      <td>1975</td>\n",
       "      <td>2</td>\n",
       "      <td>Together</td>\n",
       "      <td>34984.0</td>\n",
       "      <td>1</td>\n",
       "      <td>1</td>\n",
       "      <td>40</td>\n",
       "      <td>8</td>\n",
       "      <td>4</td>\n",
       "      <td>15</td>\n",
       "      <td>...</td>\n",
       "      <td>7</td>\n",
       "      <td>0</td>\n",
       "      <td>0</td>\n",
       "      <td>0</td>\n",
       "      <td>0</td>\n",
       "      <td>0</td>\n",
       "      <td>0</td>\n",
       "      <td>2012</td>\n",
       "      <td>9</td>\n",
       "      <td>6</td>\n",
       "    </tr>\n",
       "    <tr>\n",
       "      <th>1395</th>\n",
       "      <td>1956</td>\n",
       "      <td>4</td>\n",
       "      <td>Married</td>\n",
       "      <td>63915.0</td>\n",
       "      <td>0</td>\n",
       "      <td>2</td>\n",
       "      <td>2</td>\n",
       "      <td>622</td>\n",
       "      <td>7</td>\n",
       "      <td>115</td>\n",
       "      <td>...</td>\n",
       "      <td>5</td>\n",
       "      <td>0</td>\n",
       "      <td>0</td>\n",
       "      <td>0</td>\n",
       "      <td>0</td>\n",
       "      <td>0</td>\n",
       "      <td>0</td>\n",
       "      <td>2013</td>\n",
       "      <td>7</td>\n",
       "      <td>30</td>\n",
       "    </tr>\n",
       "    <tr>\n",
       "      <th>1359</th>\n",
       "      <td>1971</td>\n",
       "      <td>4</td>\n",
       "      <td>Single</td>\n",
       "      <td>33316.0</td>\n",
       "      <td>1</td>\n",
       "      <td>1</td>\n",
       "      <td>34</td>\n",
       "      <td>79</td>\n",
       "      <td>1</td>\n",
       "      <td>31</td>\n",
       "      <td>...</td>\n",
       "      <td>6</td>\n",
       "      <td>0</td>\n",
       "      <td>0</td>\n",
       "      <td>0</td>\n",
       "      <td>0</td>\n",
       "      <td>0</td>\n",
       "      <td>0</td>\n",
       "      <td>2013</td>\n",
       "      <td>10</td>\n",
       "      <td>4</td>\n",
       "    </tr>\n",
       "    <tr>\n",
       "      <th>74</th>\n",
       "      <td>1952</td>\n",
       "      <td>3</td>\n",
       "      <td>Married</td>\n",
       "      <td>28332.0</td>\n",
       "      <td>0</td>\n",
       "      <td>0</td>\n",
       "      <td>58</td>\n",
       "      <td>14</td>\n",
       "      <td>10</td>\n",
       "      <td>13</td>\n",
       "      <td>...</td>\n",
       "      <td>2</td>\n",
       "      <td>0</td>\n",
       "      <td>0</td>\n",
       "      <td>0</td>\n",
       "      <td>0</td>\n",
       "      <td>0</td>\n",
       "      <td>0</td>\n",
       "      <td>2014</td>\n",
       "      <td>4</td>\n",
       "      <td>30</td>\n",
       "    </tr>\n",
       "    <tr>\n",
       "      <th>531</th>\n",
       "      <td>1969</td>\n",
       "      <td>3</td>\n",
       "      <td>Single</td>\n",
       "      <td>72679.0</td>\n",
       "      <td>0</td>\n",
       "      <td>1</td>\n",
       "      <td>65</td>\n",
       "      <td>619</td>\n",
       "      <td>54</td>\n",
       "      <td>260</td>\n",
       "      <td>...</td>\n",
       "      <td>1</td>\n",
       "      <td>0</td>\n",
       "      <td>0</td>\n",
       "      <td>0</td>\n",
       "      <td>0</td>\n",
       "      <td>0</td>\n",
       "      <td>0</td>\n",
       "      <td>2013</td>\n",
       "      <td>9</td>\n",
       "      <td>18</td>\n",
       "    </tr>\n",
       "  </tbody>\n",
       "</table>\n",
       "<p>5 rows × 27 columns</p>\n",
       "</div>"
      ],
      "text/plain": [
       "      Year_Birth  Education Marital_Status   Income  Kidhome  Teenhome  \\\n",
       "1935        1975          2       Together  34984.0        1         1   \n",
       "1395        1956          4        Married  63915.0        0         2   \n",
       "1359        1971          4         Single  33316.0        1         1   \n",
       "74          1952          3        Married  28332.0        0         0   \n",
       "531         1969          3         Single  72679.0        0         1   \n",
       "\n",
       "      Recency  MntWines  MntFruits  MntMeatProducts  ...  NumWebVisitsMonth  \\\n",
       "1935       40         8          4               15  ...                  7   \n",
       "1395        2       622          7              115  ...                  5   \n",
       "1359       34        79          1               31  ...                  6   \n",
       "74         58        14         10               13  ...                  2   \n",
       "531        65       619         54              260  ...                  1   \n",
       "\n",
       "      AcceptedCmp3  AcceptedCmp4  AcceptedCmp5  AcceptedCmp1  AcceptedCmp2  \\\n",
       "1935             0             0             0             0             0   \n",
       "1395             0             0             0             0             0   \n",
       "1359             0             0             0             0             0   \n",
       "74               0             0             0             0             0   \n",
       "531              0             0             0             0             0   \n",
       "\n",
       "      Response  Dt_Customer_Year  Dt_Customer_Month  Dt_Customer_Date  \n",
       "1935         0              2012                  9                 6  \n",
       "1395         0              2013                  7                30  \n",
       "1359         0              2013                 10                 4  \n",
       "74           0              2014                  4                30  \n",
       "531          0              2013                  9                18  \n",
       "\n",
       "[5 rows x 27 columns]"
      ]
     },
     "execution_count": 51,
     "metadata": {},
     "output_type": "execute_result"
    }
   ],
   "source": [
    "df_train_encode.head()"
   ]
  },
  {
   "cell_type": "code",
   "execution_count": 52,
   "id": "0ea2a69c-9214-494b-a358-1c7d6e5d47e3",
   "metadata": {},
   "outputs": [],
   "source": [
    "# nominal \n",
    "from sklearn.feature_extraction import DictVectorizer"
   ]
  },
  {
   "cell_type": "code",
   "execution_count": 53,
   "id": "0003ca45-e90c-44a8-a07b-7734c18f4c28",
   "metadata": {},
   "outputs": [],
   "source": [
    "v = DictVectorizer(sparse=False)"
   ]
  },
  {
   "cell_type": "code",
   "execution_count": 54,
   "id": "f815dd48-4a09-467f-9a1d-edaca8d78d6e",
   "metadata": {},
   "outputs": [],
   "source": [
    "df_train_list_dicts = df_train_encode.to_dict(orient='records') # Transforms lists of feature-value\n",
    "df_test_list_dicts = df_test_encode.to_dict(orient='records') # Transforms lists of feature-value\n",
    "df_valid_list_dicts = df_valid_encode.to_dict(orient='records') # Transforms lists of feature-value"
   ]
  },
  {
   "cell_type": "code",
   "execution_count": 55,
   "id": "0daddb29-dbad-4afb-92eb-2884c77297cd",
   "metadata": {},
   "outputs": [
    {
     "data": {
      "text/plain": [
       "[{'Year_Birth': 1975,\n",
       "  'Education': 2,\n",
       "  'Marital_Status': 'Together',\n",
       "  'Income': 34984.0,\n",
       "  'Kidhome': 1,\n",
       "  'Teenhome': 1,\n",
       "  'Recency': 40,\n",
       "  'MntWines': 8,\n",
       "  'MntFruits': 4,\n",
       "  'MntMeatProducts': 15,\n",
       "  'MntFishProducts': 3,\n",
       "  'MntSweetProducts': 5,\n",
       "  'MntGoldProds': 3,\n",
       "  'NumDealsPurchases': 2,\n",
       "  'NumWebPurchases': 1,\n",
       "  'NumCatalogPurchases': 0,\n",
       "  'NumStorePurchases': 3,\n",
       "  'NumWebVisitsMonth': 7,\n",
       "  'AcceptedCmp3': 0,\n",
       "  'AcceptedCmp4': 0,\n",
       "  'AcceptedCmp5': 0,\n",
       "  'AcceptedCmp1': 0,\n",
       "  'AcceptedCmp2': 0,\n",
       "  'Response': 0,\n",
       "  'Dt_Customer_Year': 2012,\n",
       "  'Dt_Customer_Month': 9,\n",
       "  'Dt_Customer_Date': 6}]"
      ]
     },
     "execution_count": 55,
     "metadata": {},
     "output_type": "execute_result"
    }
   ],
   "source": [
    "df_train_list_dicts[:1]"
   ]
  },
  {
   "cell_type": "code",
   "execution_count": 56,
   "id": "b0525fe6-d7e3-4381-88b3-2b3bcf32bd74",
   "metadata": {},
   "outputs": [
    {
     "data": {
      "text/plain": [
       "array([[0.000e+00, 0.000e+00, 0.000e+00, ..., 0.000e+00, 1.000e+00,\n",
       "        1.975e+03],\n",
       "       [0.000e+00, 0.000e+00, 0.000e+00, ..., 0.000e+00, 2.000e+00,\n",
       "        1.956e+03],\n",
       "       [0.000e+00, 0.000e+00, 0.000e+00, ..., 0.000e+00, 1.000e+00,\n",
       "        1.971e+03],\n",
       "       ...,\n",
       "       [0.000e+00, 0.000e+00, 0.000e+00, ..., 0.000e+00, 2.000e+00,\n",
       "        1.960e+03],\n",
       "       [0.000e+00, 0.000e+00, 0.000e+00, ..., 0.000e+00, 1.000e+00,\n",
       "        1.971e+03],\n",
       "       [0.000e+00, 0.000e+00, 0.000e+00, ..., 0.000e+00, 1.000e+00,\n",
       "        1.968e+03]])"
      ]
     },
     "execution_count": 56,
     "metadata": {},
     "output_type": "execute_result"
    }
   ],
   "source": [
    "df_train_ = v.fit_transform(df_train_list_dicts)\n",
    "df_train_"
   ]
  },
  {
   "cell_type": "code",
   "execution_count": 57,
   "id": "2524e351-b322-4418-9fa0-1388e145a66f",
   "metadata": {},
   "outputs": [],
   "source": [
    "df_test_ = v.transform(df_test_list_dicts)\n",
    "df_valid_ = v.transform(df_valid_list_dicts)"
   ]
  },
  {
   "cell_type": "code",
   "execution_count": 58,
   "id": "da334b34-6574-49b1-b0f9-73a41570a5e6",
   "metadata": {},
   "outputs": [],
   "source": [
    "df_train_temp = pd.DataFrame(data=df_train_, columns=v.get_feature_names())\n",
    "df_test_temp = pd.DataFrame(data=df_test_, columns=v.get_feature_names())\n",
    "df_valid_temp = pd.DataFrame(data=df_valid_, columns=v.get_feature_names())"
   ]
  },
  {
   "cell_type": "code",
   "execution_count": 59,
   "id": "52ddccc1-2f5a-419a-a587-9049c3274eb9",
   "metadata": {},
   "outputs": [
    {
     "data": {
      "text/html": [
       "<div>\n",
       "<style scoped>\n",
       "    .dataframe tbody tr th:only-of-type {\n",
       "        vertical-align: middle;\n",
       "    }\n",
       "\n",
       "    .dataframe tbody tr th {\n",
       "        vertical-align: top;\n",
       "    }\n",
       "\n",
       "    .dataframe thead th {\n",
       "        text-align: right;\n",
       "    }\n",
       "</style>\n",
       "<table border=\"1\" class=\"dataframe\">\n",
       "  <thead>\n",
       "    <tr style=\"text-align: right;\">\n",
       "      <th></th>\n",
       "      <th>Year_Birth</th>\n",
       "      <th>Education</th>\n",
       "      <th>Marital_Status</th>\n",
       "      <th>Income</th>\n",
       "      <th>Kidhome</th>\n",
       "      <th>Teenhome</th>\n",
       "      <th>Recency</th>\n",
       "      <th>MntWines</th>\n",
       "      <th>MntFruits</th>\n",
       "      <th>MntMeatProducts</th>\n",
       "      <th>...</th>\n",
       "      <th>NumWebVisitsMonth</th>\n",
       "      <th>AcceptedCmp3</th>\n",
       "      <th>AcceptedCmp4</th>\n",
       "      <th>AcceptedCmp5</th>\n",
       "      <th>AcceptedCmp1</th>\n",
       "      <th>AcceptedCmp2</th>\n",
       "      <th>Response</th>\n",
       "      <th>Dt_Customer_Year</th>\n",
       "      <th>Dt_Customer_Month</th>\n",
       "      <th>Dt_Customer_Date</th>\n",
       "    </tr>\n",
       "  </thead>\n",
       "  <tbody>\n",
       "    <tr>\n",
       "      <th>1935</th>\n",
       "      <td>1975</td>\n",
       "      <td>2</td>\n",
       "      <td>Together</td>\n",
       "      <td>34984.0</td>\n",
       "      <td>1</td>\n",
       "      <td>1</td>\n",
       "      <td>40</td>\n",
       "      <td>8</td>\n",
       "      <td>4</td>\n",
       "      <td>15</td>\n",
       "      <td>...</td>\n",
       "      <td>7</td>\n",
       "      <td>0</td>\n",
       "      <td>0</td>\n",
       "      <td>0</td>\n",
       "      <td>0</td>\n",
       "      <td>0</td>\n",
       "      <td>0</td>\n",
       "      <td>2012</td>\n",
       "      <td>9</td>\n",
       "      <td>6</td>\n",
       "    </tr>\n",
       "    <tr>\n",
       "      <th>1395</th>\n",
       "      <td>1956</td>\n",
       "      <td>4</td>\n",
       "      <td>Married</td>\n",
       "      <td>63915.0</td>\n",
       "      <td>0</td>\n",
       "      <td>2</td>\n",
       "      <td>2</td>\n",
       "      <td>622</td>\n",
       "      <td>7</td>\n",
       "      <td>115</td>\n",
       "      <td>...</td>\n",
       "      <td>5</td>\n",
       "      <td>0</td>\n",
       "      <td>0</td>\n",
       "      <td>0</td>\n",
       "      <td>0</td>\n",
       "      <td>0</td>\n",
       "      <td>0</td>\n",
       "      <td>2013</td>\n",
       "      <td>7</td>\n",
       "      <td>30</td>\n",
       "    </tr>\n",
       "    <tr>\n",
       "      <th>1359</th>\n",
       "      <td>1971</td>\n",
       "      <td>4</td>\n",
       "      <td>Single</td>\n",
       "      <td>33316.0</td>\n",
       "      <td>1</td>\n",
       "      <td>1</td>\n",
       "      <td>34</td>\n",
       "      <td>79</td>\n",
       "      <td>1</td>\n",
       "      <td>31</td>\n",
       "      <td>...</td>\n",
       "      <td>6</td>\n",
       "      <td>0</td>\n",
       "      <td>0</td>\n",
       "      <td>0</td>\n",
       "      <td>0</td>\n",
       "      <td>0</td>\n",
       "      <td>0</td>\n",
       "      <td>2013</td>\n",
       "      <td>10</td>\n",
       "      <td>4</td>\n",
       "    </tr>\n",
       "    <tr>\n",
       "      <th>74</th>\n",
       "      <td>1952</td>\n",
       "      <td>3</td>\n",
       "      <td>Married</td>\n",
       "      <td>28332.0</td>\n",
       "      <td>0</td>\n",
       "      <td>0</td>\n",
       "      <td>58</td>\n",
       "      <td>14</td>\n",
       "      <td>10</td>\n",
       "      <td>13</td>\n",
       "      <td>...</td>\n",
       "      <td>2</td>\n",
       "      <td>0</td>\n",
       "      <td>0</td>\n",
       "      <td>0</td>\n",
       "      <td>0</td>\n",
       "      <td>0</td>\n",
       "      <td>0</td>\n",
       "      <td>2014</td>\n",
       "      <td>4</td>\n",
       "      <td>30</td>\n",
       "    </tr>\n",
       "    <tr>\n",
       "      <th>531</th>\n",
       "      <td>1969</td>\n",
       "      <td>3</td>\n",
       "      <td>Single</td>\n",
       "      <td>72679.0</td>\n",
       "      <td>0</td>\n",
       "      <td>1</td>\n",
       "      <td>65</td>\n",
       "      <td>619</td>\n",
       "      <td>54</td>\n",
       "      <td>260</td>\n",
       "      <td>...</td>\n",
       "      <td>1</td>\n",
       "      <td>0</td>\n",
       "      <td>0</td>\n",
       "      <td>0</td>\n",
       "      <td>0</td>\n",
       "      <td>0</td>\n",
       "      <td>0</td>\n",
       "      <td>2013</td>\n",
       "      <td>9</td>\n",
       "      <td>18</td>\n",
       "    </tr>\n",
       "  </tbody>\n",
       "</table>\n",
       "<p>5 rows × 27 columns</p>\n",
       "</div>"
      ],
      "text/plain": [
       "      Year_Birth  Education Marital_Status   Income  Kidhome  Teenhome  \\\n",
       "1935        1975          2       Together  34984.0        1         1   \n",
       "1395        1956          4        Married  63915.0        0         2   \n",
       "1359        1971          4         Single  33316.0        1         1   \n",
       "74          1952          3        Married  28332.0        0         0   \n",
       "531         1969          3         Single  72679.0        0         1   \n",
       "\n",
       "      Recency  MntWines  MntFruits  MntMeatProducts  ...  NumWebVisitsMonth  \\\n",
       "1935       40         8          4               15  ...                  7   \n",
       "1395        2       622          7              115  ...                  5   \n",
       "1359       34        79          1               31  ...                  6   \n",
       "74         58        14         10               13  ...                  2   \n",
       "531        65       619         54              260  ...                  1   \n",
       "\n",
       "      AcceptedCmp3  AcceptedCmp4  AcceptedCmp5  AcceptedCmp1  AcceptedCmp2  \\\n",
       "1935             0             0             0             0             0   \n",
       "1395             0             0             0             0             0   \n",
       "1359             0             0             0             0             0   \n",
       "74               0             0             0             0             0   \n",
       "531              0             0             0             0             0   \n",
       "\n",
       "      Response  Dt_Customer_Year  Dt_Customer_Month  Dt_Customer_Date  \n",
       "1935         0              2012                  9                 6  \n",
       "1395         0              2013                  7                30  \n",
       "1359         0              2013                 10                 4  \n",
       "74           0              2014                  4                30  \n",
       "531          0              2013                  9                18  \n",
       "\n",
       "[5 rows x 27 columns]"
      ]
     },
     "metadata": {},
     "output_type": "display_data"
    },
    {
     "name": "stdout",
     "output_type": "stream",
     "text": [
      "(1343, 27)\n"
     ]
    }
   ],
   "source": [
    "display(df_train_encode[:5])\n",
    "print(df_train_encode.shape)"
   ]
  },
  {
   "cell_type": "code",
   "execution_count": 60,
   "id": "728df4bd-afef-470a-b00f-95fcc6ea9f4e",
   "metadata": {},
   "outputs": [
    {
     "data": {
      "text/html": [
       "<div>\n",
       "<style scoped>\n",
       "    .dataframe tbody tr th:only-of-type {\n",
       "        vertical-align: middle;\n",
       "    }\n",
       "\n",
       "    .dataframe tbody tr th {\n",
       "        vertical-align: top;\n",
       "    }\n",
       "\n",
       "    .dataframe thead th {\n",
       "        text-align: right;\n",
       "    }\n",
       "</style>\n",
       "<table border=\"1\" class=\"dataframe\">\n",
       "  <thead>\n",
       "    <tr style=\"text-align: right;\">\n",
       "      <th></th>\n",
       "      <th>AcceptedCmp1</th>\n",
       "      <th>AcceptedCmp2</th>\n",
       "      <th>AcceptedCmp3</th>\n",
       "      <th>AcceptedCmp4</th>\n",
       "      <th>AcceptedCmp5</th>\n",
       "      <th>Dt_Customer_Date</th>\n",
       "      <th>Dt_Customer_Month</th>\n",
       "      <th>Dt_Customer_Year</th>\n",
       "      <th>Education</th>\n",
       "      <th>Income</th>\n",
       "      <th>...</th>\n",
       "      <th>MntWines</th>\n",
       "      <th>NumCatalogPurchases</th>\n",
       "      <th>NumDealsPurchases</th>\n",
       "      <th>NumStorePurchases</th>\n",
       "      <th>NumWebPurchases</th>\n",
       "      <th>NumWebVisitsMonth</th>\n",
       "      <th>Recency</th>\n",
       "      <th>Response</th>\n",
       "      <th>Teenhome</th>\n",
       "      <th>Year_Birth</th>\n",
       "    </tr>\n",
       "  </thead>\n",
       "  <tbody>\n",
       "    <tr>\n",
       "      <th>0</th>\n",
       "      <td>0.0</td>\n",
       "      <td>0.0</td>\n",
       "      <td>0.0</td>\n",
       "      <td>0.0</td>\n",
       "      <td>0.0</td>\n",
       "      <td>6.0</td>\n",
       "      <td>9.0</td>\n",
       "      <td>2012.0</td>\n",
       "      <td>2.0</td>\n",
       "      <td>34984.0</td>\n",
       "      <td>...</td>\n",
       "      <td>8.0</td>\n",
       "      <td>0.0</td>\n",
       "      <td>2.0</td>\n",
       "      <td>3.0</td>\n",
       "      <td>1.0</td>\n",
       "      <td>7.0</td>\n",
       "      <td>40.0</td>\n",
       "      <td>0.0</td>\n",
       "      <td>1.0</td>\n",
       "      <td>1975.0</td>\n",
       "    </tr>\n",
       "    <tr>\n",
       "      <th>1</th>\n",
       "      <td>0.0</td>\n",
       "      <td>0.0</td>\n",
       "      <td>0.0</td>\n",
       "      <td>0.0</td>\n",
       "      <td>0.0</td>\n",
       "      <td>30.0</td>\n",
       "      <td>7.0</td>\n",
       "      <td>2013.0</td>\n",
       "      <td>4.0</td>\n",
       "      <td>63915.0</td>\n",
       "      <td>...</td>\n",
       "      <td>622.0</td>\n",
       "      <td>3.0</td>\n",
       "      <td>2.0</td>\n",
       "      <td>12.0</td>\n",
       "      <td>6.0</td>\n",
       "      <td>5.0</td>\n",
       "      <td>2.0</td>\n",
       "      <td>0.0</td>\n",
       "      <td>2.0</td>\n",
       "      <td>1956.0</td>\n",
       "    </tr>\n",
       "    <tr>\n",
       "      <th>2</th>\n",
       "      <td>0.0</td>\n",
       "      <td>0.0</td>\n",
       "      <td>0.0</td>\n",
       "      <td>0.0</td>\n",
       "      <td>0.0</td>\n",
       "      <td>4.0</td>\n",
       "      <td>10.0</td>\n",
       "      <td>2013.0</td>\n",
       "      <td>4.0</td>\n",
       "      <td>33316.0</td>\n",
       "      <td>...</td>\n",
       "      <td>79.0</td>\n",
       "      <td>1.0</td>\n",
       "      <td>3.0</td>\n",
       "      <td>4.0</td>\n",
       "      <td>2.0</td>\n",
       "      <td>6.0</td>\n",
       "      <td>34.0</td>\n",
       "      <td>0.0</td>\n",
       "      <td>1.0</td>\n",
       "      <td>1971.0</td>\n",
       "    </tr>\n",
       "    <tr>\n",
       "      <th>3</th>\n",
       "      <td>0.0</td>\n",
       "      <td>0.0</td>\n",
       "      <td>0.0</td>\n",
       "      <td>0.0</td>\n",
       "      <td>0.0</td>\n",
       "      <td>30.0</td>\n",
       "      <td>4.0</td>\n",
       "      <td>2014.0</td>\n",
       "      <td>3.0</td>\n",
       "      <td>28332.0</td>\n",
       "      <td>...</td>\n",
       "      <td>14.0</td>\n",
       "      <td>1.0</td>\n",
       "      <td>1.0</td>\n",
       "      <td>4.0</td>\n",
       "      <td>2.0</td>\n",
       "      <td>2.0</td>\n",
       "      <td>58.0</td>\n",
       "      <td>0.0</td>\n",
       "      <td>0.0</td>\n",
       "      <td>1952.0</td>\n",
       "    </tr>\n",
       "    <tr>\n",
       "      <th>4</th>\n",
       "      <td>0.0</td>\n",
       "      <td>0.0</td>\n",
       "      <td>0.0</td>\n",
       "      <td>0.0</td>\n",
       "      <td>0.0</td>\n",
       "      <td>18.0</td>\n",
       "      <td>9.0</td>\n",
       "      <td>2013.0</td>\n",
       "      <td>3.0</td>\n",
       "      <td>72679.0</td>\n",
       "      <td>...</td>\n",
       "      <td>619.0</td>\n",
       "      <td>7.0</td>\n",
       "      <td>1.0</td>\n",
       "      <td>5.0</td>\n",
       "      <td>4.0</td>\n",
       "      <td>1.0</td>\n",
       "      <td>65.0</td>\n",
       "      <td>0.0</td>\n",
       "      <td>1.0</td>\n",
       "      <td>1969.0</td>\n",
       "    </tr>\n",
       "  </tbody>\n",
       "</table>\n",
       "<p>5 rows × 31 columns</p>\n",
       "</div>"
      ],
      "text/plain": [
       "   AcceptedCmp1  AcceptedCmp2  AcceptedCmp3  AcceptedCmp4  AcceptedCmp5  \\\n",
       "0           0.0           0.0           0.0           0.0           0.0   \n",
       "1           0.0           0.0           0.0           0.0           0.0   \n",
       "2           0.0           0.0           0.0           0.0           0.0   \n",
       "3           0.0           0.0           0.0           0.0           0.0   \n",
       "4           0.0           0.0           0.0           0.0           0.0   \n",
       "\n",
       "   Dt_Customer_Date  Dt_Customer_Month  Dt_Customer_Year  Education   Income  \\\n",
       "0               6.0                9.0            2012.0        2.0  34984.0   \n",
       "1              30.0                7.0            2013.0        4.0  63915.0   \n",
       "2               4.0               10.0            2013.0        4.0  33316.0   \n",
       "3              30.0                4.0            2014.0        3.0  28332.0   \n",
       "4              18.0                9.0            2013.0        3.0  72679.0   \n",
       "\n",
       "   ...  MntWines  NumCatalogPurchases  NumDealsPurchases  NumStorePurchases  \\\n",
       "0  ...       8.0                  0.0                2.0                3.0   \n",
       "1  ...     622.0                  3.0                2.0               12.0   \n",
       "2  ...      79.0                  1.0                3.0                4.0   \n",
       "3  ...      14.0                  1.0                1.0                4.0   \n",
       "4  ...     619.0                  7.0                1.0                5.0   \n",
       "\n",
       "   NumWebPurchases  NumWebVisitsMonth  Recency  Response  Teenhome  Year_Birth  \n",
       "0              1.0                7.0     40.0       0.0       1.0      1975.0  \n",
       "1              6.0                5.0      2.0       0.0       2.0      1956.0  \n",
       "2              2.0                6.0     34.0       0.0       1.0      1971.0  \n",
       "3              2.0                2.0     58.0       0.0       0.0      1952.0  \n",
       "4              4.0                1.0     65.0       0.0       1.0      1969.0  \n",
       "\n",
       "[5 rows x 31 columns]"
      ]
     },
     "execution_count": 60,
     "metadata": {},
     "output_type": "execute_result"
    }
   ],
   "source": [
    "df_train_temp[:5]"
   ]
  },
  {
   "cell_type": "code",
   "execution_count": 61,
   "id": "a981e39c-05c0-4545-859e-4a19a9f3a40b",
   "metadata": {},
   "outputs": [
    {
     "data": {
      "text/html": [
       "<div>\n",
       "<style scoped>\n",
       "    .dataframe tbody tr th:only-of-type {\n",
       "        vertical-align: middle;\n",
       "    }\n",
       "\n",
       "    .dataframe tbody tr th {\n",
       "        vertical-align: top;\n",
       "    }\n",
       "\n",
       "    .dataframe thead th {\n",
       "        text-align: right;\n",
       "    }\n",
       "</style>\n",
       "<table border=\"1\" class=\"dataframe\">\n",
       "  <thead>\n",
       "    <tr style=\"text-align: right;\">\n",
       "      <th></th>\n",
       "      <th>Marital_Status=Divorced</th>\n",
       "      <th>Marital_Status=Married</th>\n",
       "      <th>Marital_Status=Single</th>\n",
       "      <th>Marital_Status=Together</th>\n",
       "      <th>Marital_Status=Widow</th>\n",
       "    </tr>\n",
       "  </thead>\n",
       "  <tbody>\n",
       "    <tr>\n",
       "      <th>0</th>\n",
       "      <td>0.0</td>\n",
       "      <td>0.0</td>\n",
       "      <td>0.0</td>\n",
       "      <td>1.0</td>\n",
       "      <td>0.0</td>\n",
       "    </tr>\n",
       "    <tr>\n",
       "      <th>1</th>\n",
       "      <td>0.0</td>\n",
       "      <td>1.0</td>\n",
       "      <td>0.0</td>\n",
       "      <td>0.0</td>\n",
       "      <td>0.0</td>\n",
       "    </tr>\n",
       "    <tr>\n",
       "      <th>2</th>\n",
       "      <td>0.0</td>\n",
       "      <td>0.0</td>\n",
       "      <td>1.0</td>\n",
       "      <td>0.0</td>\n",
       "      <td>0.0</td>\n",
       "    </tr>\n",
       "    <tr>\n",
       "      <th>3</th>\n",
       "      <td>0.0</td>\n",
       "      <td>1.0</td>\n",
       "      <td>0.0</td>\n",
       "      <td>0.0</td>\n",
       "      <td>0.0</td>\n",
       "    </tr>\n",
       "    <tr>\n",
       "      <th>4</th>\n",
       "      <td>0.0</td>\n",
       "      <td>0.0</td>\n",
       "      <td>1.0</td>\n",
       "      <td>0.0</td>\n",
       "      <td>0.0</td>\n",
       "    </tr>\n",
       "  </tbody>\n",
       "</table>\n",
       "</div>"
      ],
      "text/plain": [
       "   Marital_Status=Divorced  Marital_Status=Married  Marital_Status=Single  \\\n",
       "0                      0.0                     0.0                    0.0   \n",
       "1                      0.0                     1.0                    0.0   \n",
       "2                      0.0                     0.0                    1.0   \n",
       "3                      0.0                     1.0                    0.0   \n",
       "4                      0.0                     0.0                    1.0   \n",
       "\n",
       "   Marital_Status=Together  Marital_Status=Widow  \n",
       "0                      1.0                   0.0  \n",
       "1                      0.0                   0.0  \n",
       "2                      0.0                   0.0  \n",
       "3                      0.0                   0.0  \n",
       "4                      0.0                   0.0  "
      ]
     },
     "metadata": {},
     "output_type": "display_data"
    },
    {
     "name": "stdout",
     "output_type": "stream",
     "text": [
      "(1343, 31)\n"
     ]
    }
   ],
   "source": [
    "display(df_train_temp[:5][ [c for c in df_train_temp.columns if 'Marital_Status' in str(c)] ])\n",
    "print(df_train_temp.shape)"
   ]
  },
  {
   "cell_type": "markdown",
   "id": "aa4976d8-e11b-4c04-a19e-32e45f29c65a",
   "metadata": {
    "tags": [],
    "toc-hr-collapsed": true
   },
   "source": [
    "## Data Insight I"
   ]
  },
  {
   "cell_type": "code",
   "execution_count": 62,
   "id": "e840195d-b402-4082-bcef-8f85e326191d",
   "metadata": {},
   "outputs": [],
   "source": [
    "from matplotlib import pyplot as plt"
   ]
  },
  {
   "cell_type": "code",
   "execution_count": 63,
   "id": "81483efd-1676-4a54-8660-b44b5e717f37",
   "metadata": {},
   "outputs": [],
   "source": [
    "# Pearson corr: For the Pearson correlation, an absolute value of 1 indicates a perfect linear relationship between the variables.\n",
    "# The larger the absolute value of the coefficient, the stronger the relationship between the variables"
   ]
  },
  {
   "cell_type": "code",
   "execution_count": 64,
   "id": "52e2dd9b-05fb-4a2f-910f-0ef231077747",
   "metadata": {},
   "outputs": [
    {
     "data": {
      "text/html": [
       "<div>\n",
       "<style scoped>\n",
       "    .dataframe tbody tr th:only-of-type {\n",
       "        vertical-align: middle;\n",
       "    }\n",
       "\n",
       "    .dataframe tbody tr th {\n",
       "        vertical-align: top;\n",
       "    }\n",
       "\n",
       "    .dataframe thead th {\n",
       "        text-align: right;\n",
       "    }\n",
       "</style>\n",
       "<table border=\"1\" class=\"dataframe\">\n",
       "  <thead>\n",
       "    <tr style=\"text-align: right;\">\n",
       "      <th></th>\n",
       "      <th>Year_Birth</th>\n",
       "      <th>Education</th>\n",
       "      <th>Marital_Status</th>\n",
       "      <th>Income</th>\n",
       "      <th>Kidhome</th>\n",
       "      <th>Teenhome</th>\n",
       "      <th>Dt_Customer</th>\n",
       "      <th>Recency</th>\n",
       "      <th>MntWines</th>\n",
       "      <th>MntFruits</th>\n",
       "      <th>...</th>\n",
       "      <th>NumWebVisitsMonth</th>\n",
       "      <th>AcceptedCmp3</th>\n",
       "      <th>AcceptedCmp4</th>\n",
       "      <th>AcceptedCmp5</th>\n",
       "      <th>AcceptedCmp1</th>\n",
       "      <th>AcceptedCmp2</th>\n",
       "      <th>Response</th>\n",
       "      <th>Total_Amnt_Spent</th>\n",
       "      <th>Cust_Age</th>\n",
       "      <th>Total_Purchased_Items</th>\n",
       "    </tr>\n",
       "  </thead>\n",
       "  <tbody>\n",
       "    <tr>\n",
       "      <th>0</th>\n",
       "      <td>1957</td>\n",
       "      <td>Graduation</td>\n",
       "      <td>Single</td>\n",
       "      <td>58138.0</td>\n",
       "      <td>0</td>\n",
       "      <td>0</td>\n",
       "      <td>2012-09-04</td>\n",
       "      <td>58</td>\n",
       "      <td>635</td>\n",
       "      <td>88</td>\n",
       "      <td>...</td>\n",
       "      <td>7</td>\n",
       "      <td>0</td>\n",
       "      <td>0</td>\n",
       "      <td>0</td>\n",
       "      <td>0</td>\n",
       "      <td>0</td>\n",
       "      <td>1</td>\n",
       "      <td>1617</td>\n",
       "      <td>55</td>\n",
       "      <td>25</td>\n",
       "    </tr>\n",
       "    <tr>\n",
       "      <th>1</th>\n",
       "      <td>1954</td>\n",
       "      <td>Graduation</td>\n",
       "      <td>Single</td>\n",
       "      <td>46344.0</td>\n",
       "      <td>1</td>\n",
       "      <td>1</td>\n",
       "      <td>2014-03-08</td>\n",
       "      <td>38</td>\n",
       "      <td>11</td>\n",
       "      <td>1</td>\n",
       "      <td>...</td>\n",
       "      <td>5</td>\n",
       "      <td>0</td>\n",
       "      <td>0</td>\n",
       "      <td>0</td>\n",
       "      <td>0</td>\n",
       "      <td>0</td>\n",
       "      <td>0</td>\n",
       "      <td>27</td>\n",
       "      <td>60</td>\n",
       "      <td>6</td>\n",
       "    </tr>\n",
       "    <tr>\n",
       "      <th>2</th>\n",
       "      <td>1965</td>\n",
       "      <td>Graduation</td>\n",
       "      <td>Together</td>\n",
       "      <td>71613.0</td>\n",
       "      <td>0</td>\n",
       "      <td>0</td>\n",
       "      <td>2013-08-21</td>\n",
       "      <td>26</td>\n",
       "      <td>426</td>\n",
       "      <td>49</td>\n",
       "      <td>...</td>\n",
       "      <td>4</td>\n",
       "      <td>0</td>\n",
       "      <td>0</td>\n",
       "      <td>0</td>\n",
       "      <td>0</td>\n",
       "      <td>0</td>\n",
       "      <td>0</td>\n",
       "      <td>776</td>\n",
       "      <td>48</td>\n",
       "      <td>21</td>\n",
       "    </tr>\n",
       "    <tr>\n",
       "      <th>3</th>\n",
       "      <td>1984</td>\n",
       "      <td>Graduation</td>\n",
       "      <td>Together</td>\n",
       "      <td>26646.0</td>\n",
       "      <td>1</td>\n",
       "      <td>0</td>\n",
       "      <td>2014-02-10</td>\n",
       "      <td>26</td>\n",
       "      <td>11</td>\n",
       "      <td>4</td>\n",
       "      <td>...</td>\n",
       "      <td>6</td>\n",
       "      <td>0</td>\n",
       "      <td>0</td>\n",
       "      <td>0</td>\n",
       "      <td>0</td>\n",
       "      <td>0</td>\n",
       "      <td>0</td>\n",
       "      <td>53</td>\n",
       "      <td>30</td>\n",
       "      <td>8</td>\n",
       "    </tr>\n",
       "    <tr>\n",
       "      <th>4</th>\n",
       "      <td>1981</td>\n",
       "      <td>PhD</td>\n",
       "      <td>Married</td>\n",
       "      <td>58293.0</td>\n",
       "      <td>1</td>\n",
       "      <td>0</td>\n",
       "      <td>2014-01-19</td>\n",
       "      <td>94</td>\n",
       "      <td>173</td>\n",
       "      <td>43</td>\n",
       "      <td>...</td>\n",
       "      <td>5</td>\n",
       "      <td>0</td>\n",
       "      <td>0</td>\n",
       "      <td>0</td>\n",
       "      <td>0</td>\n",
       "      <td>0</td>\n",
       "      <td>0</td>\n",
       "      <td>422</td>\n",
       "      <td>33</td>\n",
       "      <td>19</td>\n",
       "    </tr>\n",
       "  </tbody>\n",
       "</table>\n",
       "<p>5 rows × 28 columns</p>\n",
       "</div>"
      ],
      "text/plain": [
       "   Year_Birth   Education Marital_Status   Income  Kidhome  Teenhome  \\\n",
       "0        1957  Graduation         Single  58138.0        0         0   \n",
       "1        1954  Graduation         Single  46344.0        1         1   \n",
       "2        1965  Graduation       Together  71613.0        0         0   \n",
       "3        1984  Graduation       Together  26646.0        1         0   \n",
       "4        1981         PhD        Married  58293.0        1         0   \n",
       "\n",
       "  Dt_Customer  Recency  MntWines  MntFruits  ...  NumWebVisitsMonth  \\\n",
       "0  2012-09-04       58       635         88  ...                  7   \n",
       "1  2014-03-08       38        11          1  ...                  5   \n",
       "2  2013-08-21       26       426         49  ...                  4   \n",
       "3  2014-02-10       26        11          4  ...                  6   \n",
       "4  2014-01-19       94       173         43  ...                  5   \n",
       "\n",
       "   AcceptedCmp3  AcceptedCmp4  AcceptedCmp5  AcceptedCmp1  AcceptedCmp2  \\\n",
       "0             0             0             0             0             0   \n",
       "1             0             0             0             0             0   \n",
       "2             0             0             0             0             0   \n",
       "3             0             0             0             0             0   \n",
       "4             0             0             0             0             0   \n",
       "\n",
       "   Response  Total_Amnt_Spent  Cust_Age  Total_Purchased_Items  \n",
       "0         1              1617        55                     25  \n",
       "1         0                27        60                      6  \n",
       "2         0               776        48                     21  \n",
       "3         0                53        30                      8  \n",
       "4         0               422        33                     19  \n",
       "\n",
       "[5 rows x 28 columns]"
      ]
     },
     "execution_count": 64,
     "metadata": {},
     "output_type": "execute_result"
    }
   ],
   "source": [
    "df_.head(5)"
   ]
  },
  {
   "cell_type": "markdown",
   "id": "632fac08-7be4-40d2-8c1f-264f7bbea2c1",
   "metadata": {
    "tags": []
   },
   "source": [
    "### Correlation Age with Response"
   ]
  },
  {
   "cell_type": "code",
   "execution_count": 65,
   "id": "3bc06572-b698-49c3-97c0-6f3d79208fe2",
   "metadata": {},
   "outputs": [
    {
     "data": {
      "text/plain": [
       "<AxesSubplot:xlabel='Cust_Age', ylabel='Count'>"
      ]
     },
     "execution_count": 65,
     "metadata": {},
     "output_type": "execute_result"
    },
    {
     "data": {
      "image/png": "[encoded data removed]",
      "text/plain": [
       "<Figure size 432x288 with 1 Axes>"
      ]
     },
     "metadata": {
      "needs_background": "light"
     },
     "output_type": "display_data"
    }
   ],
   "source": [
    "sns.histplot(data=df_, x='Cust_Age', hue='Response', multiple='stack')\n",
    "# customer di rentang usia pertengahan 30 - 50 menerima penawaran campaign lebih banyak"
   ]
  },
  {
   "cell_type": "code",
   "execution_count": 66,
   "id": "3bc4d2c0-ca65-44e8-8f7a-8f20bc14555d",
   "metadata": {},
   "outputs": [
    {
     "data": {
      "text/html": [
       "<div>\n",
       "<style scoped>\n",
       "    .dataframe tbody tr th:only-of-type {\n",
       "        vertical-align: middle;\n",
       "    }\n",
       "\n",
       "    .dataframe tbody tr th {\n",
       "        vertical-align: top;\n",
       "    }\n",
       "\n",
       "    .dataframe thead th {\n",
       "        text-align: right;\n",
       "    }\n",
       "</style>\n",
       "<table border=\"1\" class=\"dataframe\">\n",
       "  <thead>\n",
       "    <tr style=\"text-align: right;\">\n",
       "      <th></th>\n",
       "      <th>Cust_Age</th>\n",
       "      <th>Response</th>\n",
       "    </tr>\n",
       "  </thead>\n",
       "  <tbody>\n",
       "    <tr>\n",
       "      <th>Cust_Age</th>\n",
       "      <td>1.000000</td>\n",
       "      <td>-0.028333</td>\n",
       "    </tr>\n",
       "    <tr>\n",
       "      <th>Response</th>\n",
       "      <td>-0.028333</td>\n",
       "      <td>1.000000</td>\n",
       "    </tr>\n",
       "  </tbody>\n",
       "</table>\n",
       "</div>"
      ],
      "text/plain": [
       "          Cust_Age  Response\n",
       "Cust_Age  1.000000 -0.028333\n",
       "Response -0.028333  1.000000"
      ]
     },
     "execution_count": 66,
     "metadata": {},
     "output_type": "execute_result"
    }
   ],
   "source": [
    "df__corr = df_.corr(method='pearson')[['Cust_Age','Response']]\n",
    "df__corr.loc[['Cust_Age', 'Response'], :]\n",
    "# korelasi antara umur terhadap variable 'yang menerima penawaran campaign' hampir atau bisa dikatakan tidak ada karena korelasi -0.02 mendekati 0"
   ]
  },
  {
   "cell_type": "code",
   "execution_count": 67,
   "id": "5c90e803-2f57-412e-9318-ae1d344e5840",
   "metadata": {},
   "outputs": [],
   "source": [
    "import scipy.stats as st"
   ]
  },
  {
   "cell_type": "code",
   "execution_count": 68,
   "id": "5cb8c46d-7626-426e-9bf7-fceeacdaa661",
   "metadata": {},
   "outputs": [
    {
     "data": {
      "text/plain": [
       "PointbiserialrResult(correlation=-0.028332854129393095, pvalue=0.18038288712265607)"
      ]
     },
     "execution_count": 68,
     "metadata": {},
     "output_type": "execute_result"
    }
   ],
   "source": [
    "np_resp = df_['Response'].to_numpy()\n",
    "np_age = df_['Cust_Age'].to_numpy()\n",
    "st.pointbiserialr(np_resp, np_age)"
   ]
  },
  {
   "cell_type": "markdown",
   "id": "7f06720f-82fc-4210-a206-c12f32197dd5",
   "metadata": {
    "tags": []
   },
   "source": [
    "### Correlation Education with Response"
   ]
  },
  {
   "cell_type": "code",
   "execution_count": 69,
   "id": "a7f2993c-0c78-45f3-bba7-0bc5a802ecae",
   "metadata": {},
   "outputs": [
    {
     "data": {
      "text/plain": [
       "5"
      ]
     },
     "execution_count": 69,
     "metadata": {},
     "output_type": "execute_result"
    }
   ],
   "source": [
    "cats = 0 \n",
    "for i in df_['Education'].unique():\n",
    "    cats=cats+1\n",
    "cats"
   ]
  },
  {
   "cell_type": "code",
   "execution_count": 70,
   "id": "fa6c4133-30b1-4985-8f51-7a38d72ca751",
   "metadata": {},
   "outputs": [
    {
     "data": {
      "image/png": "[encoded data removed]",
      "text/plain": [
       "<Figure size 504x360 with 1 Axes>"
      ]
     },
     "metadata": {
      "needs_background": "light"
     },
     "output_type": "display_data"
    }
   ],
   "source": [
    "orders = ['Graduation', 'PhD', 'Master', '2n Cycle', 'Basic']\n",
    "fig, ax = plt.subplots(figsize=(7,5)) # Create just a figure and only one subplot\n",
    "\n",
    "ax = sns.countplot(ax=ax, data=df_, x='Education', hue='Response', order=orders)\n",
    "n_hues = 2 #hue: response(0, 1)\n",
    "_bars = [p for p in ax.patches] \n",
    "h_bars = [p.get_height() for p in ax.patches]\n",
    "for i in range(cats):\n",
    "    total_values = df_['Education'].value_counts().sort_values(ascending=False).values[i]\n",
    "    for j in range(n_hues):\n",
    "        percent = '{:.1f}%'.format(100 * h_bars[(j*cats + i)]/total_values)\n",
    "        x = _bars[(j*cats + i)].get_x() + _bars[(j*cats + i)].get_width() / 2 - 0.2\n",
    "        y = _bars[(j*cats + i)].get_y() + _bars[(j*cats + i)].get_height() + 10.5\n",
    "        ax.annotate(percent, (x, y), size = 11)\n",
    "fig.show()\n",
    "\n",
    "# Mayoritas data customer pada Ifood merupakan lulusan 'Graduation'\n",
    "# Mereka yang menerima penawaran campaign Ifood, mayoritas lulusan 'Graduation'"
   ]
  },
  {
   "cell_type": "code",
   "execution_count": 71,
   "id": "afe14a98-bcb0-4a54-b0c7-19dddb74a69b",
   "metadata": {},
   "outputs": [
    {
     "data": {
      "text/plain": [
       "Graduation    1127\n",
       "PhD            485\n",
       "Master         370\n",
       "2n Cycle       201\n",
       "Basic           54\n",
       "Name: Education, dtype: int64"
      ]
     },
     "execution_count": 71,
     "metadata": {},
     "output_type": "execute_result"
    }
   ],
   "source": [
    "df_['Education'].value_counts().sort_values(ascending=False)"
   ]
  },
  {
   "cell_type": "code",
   "execution_count": 72,
   "id": "f6a5fdec-7685-4fdd-831b-8dd68b199ba0",
   "metadata": {},
   "outputs": [
    {
     "data": {
      "text/plain": [
       "[975, 384, 313, 179, 52, 152, 101, 57, 22, 2]"
      ]
     },
     "execution_count": 72,
     "metadata": {},
     "output_type": "execute_result"
    }
   ],
   "source": [
    "# notes\n",
    "p_ = [p.get_height() for p in ax.patches]\n",
    "p_\n",
    "# first 5: resp 0, last 5: resp 1 [index]\n",
    "# 0, 1, 2, 3, 4 -> cats\n",
    "# 0, 1, 2, 3, 4 -> 0-pair-height\n",
    "# 5, 6, 7, 8, 9 -> 1-pair_height"
   ]
  },
  {
   "cell_type": "markdown",
   "id": "56f383c8-ab89-4d11-b460-0176d27b0c67",
   "metadata": {
    "jp-MarkdownHeadingCollapsed": true,
    "tags": []
   },
   "source": [
    "### Correlation Marital Status with Response"
   ]
  },
  {
   "cell_type": "code",
   "execution_count": 73,
   "id": "fcf4e824-e761-47dc-9248-56848d450f4d",
   "metadata": {},
   "outputs": [
    {
     "data": {
      "text/plain": [
       "<AxesSubplot:xlabel='Marital_Status', ylabel='Count'>"
      ]
     },
     "execution_count": 73,
     "metadata": {},
     "output_type": "execute_result"
    },
    {
     "data": {
      "image/png": "[encoded data removed]",
      "text/plain": [
       "<Figure size 432x288 with 1 Axes>"
      ]
     },
     "metadata": {
      "needs_background": "light"
     },
     "output_type": "display_data"
    }
   ],
   "source": [
    "sns.histplot(data=df_, x='Marital_Status', hue='Response', multiple='stack')"
   ]
  },
  {
   "cell_type": "markdown",
   "id": "65e22aaa-1931-44ee-b30a-32aa8a917cbf",
   "metadata": {
    "tags": []
   },
   "source": [
    "### Correlation Recency with Response"
   ]
  },
  {
   "cell_type": "code",
   "execution_count": 74,
   "id": "35cbc017-edb8-4e48-bf4e-cf842247b54b",
   "metadata": {},
   "outputs": [
    {
     "data": {
      "text/plain": [
       "<AxesSubplot:xlabel='Recency', ylabel='Count'>"
      ]
     },
     "execution_count": 74,
     "metadata": {},
     "output_type": "execute_result"
    },
    {
     "data": {
      "image/png": "[encoded data removed]",
      "text/plain": [
       "<Figure size 432x288 with 1 Axes>"
      ]
     },
     "metadata": {
      "needs_background": "light"
     },
     "output_type": "display_data"
    }
   ],
   "source": [
    "sns.histplot(data=df_, x='Recency', hue='Response', multiple='stack')\n",
    "#next: siapa mereka yang melakukan pembelian dengan last purchased 40 hari terakhir "
   ]
  },
  {
   "cell_type": "code",
   "execution_count": 75,
   "id": "8b796a56-ef05-4181-9d91-a0d14e279bcd",
   "metadata": {},
   "outputs": [
    {
     "data": {
      "text/plain": [
       "PointbiserialrResult(correlation=-0.19856777504710288, pvalue=2.5196420514366122e-21)"
      ]
     },
     "execution_count": 75,
     "metadata": {},
     "output_type": "execute_result"
    }
   ],
   "source": [
    "np_recency = df_['Recency'].to_numpy()\n",
    "st.pointbiserialr(np_resp, np_recency)"
   ]
  },
  {
   "cell_type": "markdown",
   "id": "faedf678-66fa-4998-af4d-8995569f8234",
   "metadata": {
    "jp-MarkdownHeadingCollapsed": true,
    "tags": []
   },
   "source": [
    "### Correlation Join Date with Response"
   ]
  },
  {
   "cell_type": "code",
   "execution_count": 76,
   "id": "d9f34ca7-578b-491d-b1b7-5b5e35291618",
   "metadata": {},
   "outputs": [
    {
     "data": {
      "text/plain": [
       "<AxesSubplot:xlabel='Dt_Customer', ylabel='Count'>"
      ]
     },
     "execution_count": 76,
     "metadata": {},
     "output_type": "execute_result"
    },
    {
     "data": {
      "image/png": "[encoded data removed]",
      "text/plain": [
       "<Figure size 504x288 with 1 Axes>"
      ]
     },
     "metadata": {
      "needs_background": "light"
     },
     "output_type": "display_data"
    }
   ],
   "source": [
    "#sns.set(rc={'figure.figsize':(7,4)})\n",
    "fig, ax = plt.subplots(figsize=(7,4)) # Create just a figure and only one subplot\n",
    "\n",
    "sns.histplot(ax=ax, data=df_, x='Dt_Customer', hue='Response', multiple='stack')\n",
    "# 2 tahun terakhir (2012 -2014) yang bergabung dan menerima penawaran campaign mengalami penurunan"
   ]
  },
  {
   "cell_type": "code",
   "execution_count": 77,
   "id": "5fa0377e-aa36-410d-9248-64b7c564d936",
   "metadata": {},
   "outputs": [
    {
     "name": "stdout",
     "output_type": "stream",
     "text": [
      "2012-07-30 00:00:00\n",
      "2014-06-29 00:00:00\n"
     ]
    }
   ],
   "source": [
    "print(df_.Dt_Customer.min())\n",
    "print(df_.Dt_Customer.max())"
   ]
  },
  {
   "cell_type": "markdown",
   "id": "d8ed5ccc-4bea-4154-b5bf-bc85b996828c",
   "metadata": {
    "tags": []
   },
   "source": [
    "### Correlation Income with Response"
   ]
  },
  {
   "cell_type": "code",
   "execution_count": 78,
   "id": "99741b35-f486-4639-bb2f-787bf2f6fe9c",
   "metadata": {},
   "outputs": [
    {
     "data": {
      "text/plain": [
       "<AxesSubplot:xlabel='Income'>"
      ]
     },
     "execution_count": 78,
     "metadata": {},
     "output_type": "execute_result"
    },
    {
     "data": {
      "image/png": "[encoded data removed]",
      "text/plain": [
       "<Figure size 432x288 with 1 Axes>"
      ]
     },
     "metadata": {
      "needs_background": "light"
     },
     "output_type": "display_data"
    }
   ],
   "source": [
    "sns.boxplot(data=df_, x='Income')\n",
    "# Customer yang banyak menerima penawaran merupakan customer yang memiliki income tahunan berada pada kisaran 40k+ "
   ]
  },
  {
   "cell_type": "code",
   "execution_count": 79,
   "id": "72cf3473-985d-41f1-a28e-84ea0c4cd0b1",
   "metadata": {},
   "outputs": [
    {
     "data": {
      "text/plain": [
       "<seaborn.axisgrid.FacetGrid at 0x1e95e2c1430>"
      ]
     },
     "execution_count": 79,
     "metadata": {},
     "output_type": "execute_result"
    },
    {
     "data": {
      "image/png": "[encoded data removed]",
      "text/plain": [
       "<Figure size 415.75x360 with 1 Axes>"
      ]
     },
     "metadata": {
      "needs_background": "light"
     },
     "output_type": "display_data"
    }
   ],
   "source": [
    "fg = sns.displot(data=df_, x='Income', hue='Response', multiple='stack')\n",
    "fg.set(xlim=(0,150000))"
   ]
  },
  {
   "cell_type": "code",
   "execution_count": 80,
   "id": "6bab17f6-528c-492c-b408-7bb843e75148",
   "metadata": {},
   "outputs": [
    {
     "data": {
      "text/plain": [
       "PointbiserialrResult(correlation=0.13312076067681594, pvalue=2.6015364127441355e-10)"
      ]
     },
     "execution_count": 80,
     "metadata": {},
     "output_type": "execute_result"
    }
   ],
   "source": [
    "np_income = df_.Income.to_numpy()\n",
    "st.pointbiserialr(np_resp, np_income)"
   ]
  },
  {
   "cell_type": "markdown",
   "id": "115a557c-bcb6-4de5-b084-2dfed8460ea8",
   "metadata": {
    "jp-MarkdownHeadingCollapsed": true,
    "tags": []
   },
   "source": [
    "### Correlation Total Children with Response"
   ]
  },
  {
   "cell_type": "code",
   "execution_count": 81,
   "id": "b3b0ff4a-7953-43f4-b15c-6dc3e233568c",
   "metadata": {},
   "outputs": [],
   "source": [
    "cols = ['Kidhome', 'Teenhome']\n",
    "total_child = df_.loc[:][cols].sum(axis=1)"
   ]
  },
  {
   "cell_type": "code",
   "execution_count": 82,
   "id": "592c0415-30b7-4797-9b7a-6fd28e13d8f8",
   "metadata": {},
   "outputs": [],
   "source": [
    "df_['Total_Child'] = total_child"
   ]
  },
  {
   "cell_type": "code",
   "execution_count": 83,
   "id": "bafccba0-13bb-47b9-a03d-fd7a7f17c108",
   "metadata": {},
   "outputs": [
    {
     "data": {
      "text/html": [
       "<div>\n",
       "<style scoped>\n",
       "    .dataframe tbody tr th:only-of-type {\n",
       "        vertical-align: middle;\n",
       "    }\n",
       "\n",
       "    .dataframe tbody tr th {\n",
       "        vertical-align: top;\n",
       "    }\n",
       "\n",
       "    .dataframe thead th {\n",
       "        text-align: right;\n",
       "    }\n",
       "</style>\n",
       "<table border=\"1\" class=\"dataframe\">\n",
       "  <thead>\n",
       "    <tr style=\"text-align: right;\">\n",
       "      <th></th>\n",
       "      <th>Year_Birth</th>\n",
       "      <th>Education</th>\n",
       "      <th>Marital_Status</th>\n",
       "      <th>Income</th>\n",
       "      <th>Kidhome</th>\n",
       "      <th>Teenhome</th>\n",
       "      <th>Dt_Customer</th>\n",
       "      <th>Recency</th>\n",
       "      <th>MntWines</th>\n",
       "      <th>MntFruits</th>\n",
       "      <th>...</th>\n",
       "      <th>AcceptedCmp3</th>\n",
       "      <th>AcceptedCmp4</th>\n",
       "      <th>AcceptedCmp5</th>\n",
       "      <th>AcceptedCmp1</th>\n",
       "      <th>AcceptedCmp2</th>\n",
       "      <th>Response</th>\n",
       "      <th>Total_Amnt_Spent</th>\n",
       "      <th>Cust_Age</th>\n",
       "      <th>Total_Purchased_Items</th>\n",
       "      <th>Total_Child</th>\n",
       "    </tr>\n",
       "  </thead>\n",
       "  <tbody>\n",
       "    <tr>\n",
       "      <th>0</th>\n",
       "      <td>1957</td>\n",
       "      <td>Graduation</td>\n",
       "      <td>Single</td>\n",
       "      <td>58138.0</td>\n",
       "      <td>0</td>\n",
       "      <td>0</td>\n",
       "      <td>2012-09-04</td>\n",
       "      <td>58</td>\n",
       "      <td>635</td>\n",
       "      <td>88</td>\n",
       "      <td>...</td>\n",
       "      <td>0</td>\n",
       "      <td>0</td>\n",
       "      <td>0</td>\n",
       "      <td>0</td>\n",
       "      <td>0</td>\n",
       "      <td>1</td>\n",
       "      <td>1617</td>\n",
       "      <td>55</td>\n",
       "      <td>25</td>\n",
       "      <td>0</td>\n",
       "    </tr>\n",
       "    <tr>\n",
       "      <th>1</th>\n",
       "      <td>1954</td>\n",
       "      <td>Graduation</td>\n",
       "      <td>Single</td>\n",
       "      <td>46344.0</td>\n",
       "      <td>1</td>\n",
       "      <td>1</td>\n",
       "      <td>2014-03-08</td>\n",
       "      <td>38</td>\n",
       "      <td>11</td>\n",
       "      <td>1</td>\n",
       "      <td>...</td>\n",
       "      <td>0</td>\n",
       "      <td>0</td>\n",
       "      <td>0</td>\n",
       "      <td>0</td>\n",
       "      <td>0</td>\n",
       "      <td>0</td>\n",
       "      <td>27</td>\n",
       "      <td>60</td>\n",
       "      <td>6</td>\n",
       "      <td>2</td>\n",
       "    </tr>\n",
       "    <tr>\n",
       "      <th>2</th>\n",
       "      <td>1965</td>\n",
       "      <td>Graduation</td>\n",
       "      <td>Together</td>\n",
       "      <td>71613.0</td>\n",
       "      <td>0</td>\n",
       "      <td>0</td>\n",
       "      <td>2013-08-21</td>\n",
       "      <td>26</td>\n",
       "      <td>426</td>\n",
       "      <td>49</td>\n",
       "      <td>...</td>\n",
       "      <td>0</td>\n",
       "      <td>0</td>\n",
       "      <td>0</td>\n",
       "      <td>0</td>\n",
       "      <td>0</td>\n",
       "      <td>0</td>\n",
       "      <td>776</td>\n",
       "      <td>48</td>\n",
       "      <td>21</td>\n",
       "      <td>0</td>\n",
       "    </tr>\n",
       "    <tr>\n",
       "      <th>3</th>\n",
       "      <td>1984</td>\n",
       "      <td>Graduation</td>\n",
       "      <td>Together</td>\n",
       "      <td>26646.0</td>\n",
       "      <td>1</td>\n",
       "      <td>0</td>\n",
       "      <td>2014-02-10</td>\n",
       "      <td>26</td>\n",
       "      <td>11</td>\n",
       "      <td>4</td>\n",
       "      <td>...</td>\n",
       "      <td>0</td>\n",
       "      <td>0</td>\n",
       "      <td>0</td>\n",
       "      <td>0</td>\n",
       "      <td>0</td>\n",
       "      <td>0</td>\n",
       "      <td>53</td>\n",
       "      <td>30</td>\n",
       "      <td>8</td>\n",
       "      <td>1</td>\n",
       "    </tr>\n",
       "    <tr>\n",
       "      <th>4</th>\n",
       "      <td>1981</td>\n",
       "      <td>PhD</td>\n",
       "      <td>Married</td>\n",
       "      <td>58293.0</td>\n",
       "      <td>1</td>\n",
       "      <td>0</td>\n",
       "      <td>2014-01-19</td>\n",
       "      <td>94</td>\n",
       "      <td>173</td>\n",
       "      <td>43</td>\n",
       "      <td>...</td>\n",
       "      <td>0</td>\n",
       "      <td>0</td>\n",
       "      <td>0</td>\n",
       "      <td>0</td>\n",
       "      <td>0</td>\n",
       "      <td>0</td>\n",
       "      <td>422</td>\n",
       "      <td>33</td>\n",
       "      <td>19</td>\n",
       "      <td>1</td>\n",
       "    </tr>\n",
       "  </tbody>\n",
       "</table>\n",
       "<p>5 rows × 29 columns</p>\n",
       "</div>"
      ],
      "text/plain": [
       "   Year_Birth   Education Marital_Status   Income  Kidhome  Teenhome  \\\n",
       "0        1957  Graduation         Single  58138.0        0         0   \n",
       "1        1954  Graduation         Single  46344.0        1         1   \n",
       "2        1965  Graduation       Together  71613.0        0         0   \n",
       "3        1984  Graduation       Together  26646.0        1         0   \n",
       "4        1981         PhD        Married  58293.0        1         0   \n",
       "\n",
       "  Dt_Customer  Recency  MntWines  MntFruits  ...  AcceptedCmp3  AcceptedCmp4  \\\n",
       "0  2012-09-04       58       635         88  ...             0             0   \n",
       "1  2014-03-08       38        11          1  ...             0             0   \n",
       "2  2013-08-21       26       426         49  ...             0             0   \n",
       "3  2014-02-10       26        11          4  ...             0             0   \n",
       "4  2014-01-19       94       173         43  ...             0             0   \n",
       "\n",
       "   AcceptedCmp5  AcceptedCmp1  AcceptedCmp2  Response  Total_Amnt_Spent  \\\n",
       "0             0             0             0         1              1617   \n",
       "1             0             0             0         0                27   \n",
       "2             0             0             0         0               776   \n",
       "3             0             0             0         0                53   \n",
       "4             0             0             0         0               422   \n",
       "\n",
       "   Cust_Age  Total_Purchased_Items  Total_Child  \n",
       "0        55                     25            0  \n",
       "1        60                      6            2  \n",
       "2        48                     21            0  \n",
       "3        30                      8            1  \n",
       "4        33                     19            1  \n",
       "\n",
       "[5 rows x 29 columns]"
      ]
     },
     "execution_count": 83,
     "metadata": {},
     "output_type": "execute_result"
    }
   ],
   "source": [
    "df_.head(5)"
   ]
  },
  {
   "cell_type": "code",
   "execution_count": 84,
   "id": "967ccefa-1f49-4a35-9d57-b2a04f0fb513",
   "metadata": {},
   "outputs": [
    {
     "data": {
      "text/plain": [
       "<AxesSubplot:xlabel='Total_Child', ylabel='Count'>"
      ]
     },
     "execution_count": 84,
     "metadata": {},
     "output_type": "execute_result"
    },
    {
     "data": {
      "image/png": "[encoded data removed]",
      "text/plain": [
       "<Figure size 432x288 with 1 Axes>"
      ]
     },
     "metadata": {
      "needs_background": "light"
     },
     "output_type": "display_data"
    }
   ],
   "source": [
    "sns.histplot(data=df_, x='Total_Child', hue='Response', multiple='stack', discrete=True, shrink=.6)\n",
    "# hypothesis: Buyers yang memiliki sedikit anak cenderung lebih banyak menerima penawaran campaign"
   ]
  },
  {
   "cell_type": "code",
   "execution_count": 85,
   "id": "e611102d-ed28-4adb-af32-8d13e680b05c",
   "metadata": {},
   "outputs": [
    {
     "data": {
      "text/plain": [
       "PointbiserialrResult(correlation=-0.16945616189508145, pvalue=7.105284641383969e-16)"
      ]
     },
     "execution_count": 85,
     "metadata": {},
     "output_type": "execute_result"
    }
   ],
   "source": [
    "np_tot_child = df_['Total_Child'].to_numpy()\n",
    "st.pointbiserialr(np_resp, np_tot_child)"
   ]
  },
  {
   "cell_type": "markdown",
   "id": "4879e83e-120f-4785-848e-8b61aceef747",
   "metadata": {
    "tags": []
   },
   "source": [
    "### Correlation Total Amount Spent with Response"
   ]
  },
  {
   "cell_type": "code",
   "execution_count": 86,
   "id": "792a719b-b217-4a5e-9860-a16f92307092",
   "metadata": {},
   "outputs": [
    {
     "data": {
      "text/plain": [
       "<AxesSubplot:xlabel='Count', ylabel='Total_Amnt_Spent'>"
      ]
     },
     "execution_count": 86,
     "metadata": {},
     "output_type": "execute_result"
    },
    {
     "data": {
      "image/png": "[encoded data removed]",
      "text/plain": [
       "<Figure size 432x288 with 1 Axes>"
      ]
     },
     "metadata": {
      "needs_background": "light"
     },
     "output_type": "display_data"
    }
   ],
   "source": [
    "sns.histplot(data=df_, y='Total_Amnt_Spent', hue='Response', multiple='stack')\n",
    "# total product yang dibeli customers paling banyak sekitaran 1000-2000 product "
   ]
  },
  {
   "cell_type": "code",
   "execution_count": 87,
   "id": "ae648781-11bf-4546-9fa9-4aeb1c13b9fb",
   "metadata": {},
   "outputs": [
    {
     "data": {
      "text/plain": [
       "PointbiserialrResult(correlation=0.26572563785642345, pvalue=1.8259979410186725e-37)"
      ]
     },
     "execution_count": 87,
     "metadata": {},
     "output_type": "execute_result"
    }
   ],
   "source": [
    "np_tot_amnt = df_['Total_Amnt_Spent'].to_numpy()\n",
    "st.pointbiserialr(np_resp, np_tot_amnt)"
   ]
  },
  {
   "cell_type": "markdown",
   "id": "10f40559-58bd-4549-832b-97c94be9abb1",
   "metadata": {},
   "source": [
    "### Correlation NumWebVisitsMonth with Response"
   ]
  },
  {
   "cell_type": "code",
   "execution_count": 88,
   "id": "17915ace-a374-4e6b-abd6-05c96ba95c44",
   "metadata": {},
   "outputs": [
    {
     "data": {
      "text/plain": [
       "PointbiserialrResult(correlation=-0.004449481523440198, pvalue=0.8334099256233367)"
      ]
     },
     "execution_count": 88,
     "metadata": {},
     "output_type": "execute_result"
    }
   ],
   "source": [
    "np_web_visits = df_['NumWebVisitsMonth'].to_numpy()\n",
    "st.pointbiserialr(np_resp, np_web_visits)\n",
    "# Banyak jumlah web dikunjungi tidak ada korelasi dengan response"
   ]
  },
  {
   "cell_type": "code",
   "execution_count": 89,
   "id": "f65ad698-5714-47ad-ae11-00a18bfe1a4b",
   "metadata": {},
   "outputs": [],
   "source": [
    "#...."
   ]
  },
  {
   "cell_type": "markdown",
   "id": "f2a79a2d-51f6-4db0-8c5e-7558d22e5058",
   "metadata": {
    "tags": [],
    "toc-hr-collapsed": true
   },
   "source": [
    "## Data Insight II"
   ]
  },
  {
   "cell_type": "code",
   "execution_count": 90,
   "id": "7ffd86de-62b4-4ef5-8a6c-ba155b5753a9",
   "metadata": {},
   "outputs": [],
   "source": [
    "from matplotlib.patches import ConnectionPatch"
   ]
  },
  {
   "cell_type": "code",
   "execution_count": 91,
   "id": "dfa2e2a0-bb63-4fca-a05e-302b3d2b41de",
   "metadata": {},
   "outputs": [
    {
     "name": "stdout",
     "output_type": "stream",
     "text": [
      "5205 5956 12962 9143\n",
      "33266\n"
     ]
    }
   ],
   "source": [
    "tot_item_wdisc = df_.NumDealsPurchases.sum()\n",
    "tot_item_wcatalog = df_.NumCatalogPurchases.sum()\n",
    "tot_item_wdirstore = df_.NumStorePurchases.sum()\n",
    "tot_item_wweb = df_.NumWebPurchases.sum()\n",
    "sum_tot_items = df_.Total_Purchased_Items.sum()\n",
    "\n",
    "print(tot_item_wdisc, tot_item_wcatalog, tot_item_wdirstore, tot_item_wweb)\n",
    "print(sum_tot_items)"
   ]
  },
  {
   "cell_type": "markdown",
   "id": "91329fb4-537f-4fad-968a-5cb573c5798d",
   "metadata": {
    "tags": []
   },
   "source": [
    "### Who's the buyers"
   ]
  },
  {
   "cell_type": "code",
   "execution_count": 92,
   "id": "598bf43f-71d1-4c0a-bad2-1c3ee549899a",
   "metadata": {},
   "outputs": [],
   "source": [
    "df_buyers = df_[:][:].copy()"
   ]
  },
  {
   "cell_type": "markdown",
   "id": "ce0ee754-b353-413e-97cb-818414e9670f",
   "metadata": {
    "tags": []
   },
   "source": [
    "#### Average Ages Across Different Education Levels"
   ]
  },
  {
   "cell_type": "code",
   "execution_count": 93,
   "id": "8e4fe36c-d8a4-4060-ad35-6cc7d4f55532",
   "metadata": {},
   "outputs": [
    {
     "name": "stdout",
     "output_type": "stream",
     "text": [
      "42.60526315789474 45.0 43.96491228070175 39.5 39.40909090909091\n"
     ]
    }
   ],
   "source": [
    "df_buyers_grad_1 = df_buyers.loc[(df_buyers['Education'] == 'Graduation') & (df_buyers['Response'] == 1)]\n",
    "df_buyers_phd_1 = df_buyers.loc[(df_buyers['Education'] == 'PhD') & (df_buyers['Response'] == 1)]\n",
    "df_buyers_master_1 = df_buyers.loc[(df_buyers['Education'] == 'Master') & (df_buyers['Response'] == 1)]\n",
    "df_buyers_basic_1 = df_buyers.loc[(df_buyers['Education'] == 'Basic') & (df_buyers['Response'] == 1)]\n",
    "df_buyers_2n_1 = df_buyers.loc[(df_buyers['Education'] == '2n Cycle') & (df_buyers['Response'] == 1)]\n",
    "\n",
    "print(df_buyers_grad_1.Cust_Age.mean(), df_buyers_phd_1.Cust_Age.mean(), \n",
    "      df_buyers_master_1.Cust_Age.mean(), df_buyers_basic_1.Cust_Age.mean(),\n",
    "     df_buyers_2n_1.Cust_Age.mean())"
   ]
  },
  {
   "cell_type": "code",
   "execution_count": 94,
   "id": "fc79f747-5bf4-45e4-8855-ec6a8917daa7",
   "metadata": {},
   "outputs": [
    {
     "data": {
      "text/plain": [
       "<AxesSubplot:xlabel='Education', ylabel='Cust_Age'>"
      ]
     },
     "execution_count": 94,
     "metadata": {},
     "output_type": "execute_result"
    },
    {
     "data": {
      "image/png": "[encoded data removed]",
      "text/plain": [
       "<Figure size 432x288 with 1 Axes>"
      ]
     },
     "metadata": {
      "needs_background": "light"
     },
     "output_type": "display_data"
    }
   ],
   "source": [
    "sns.barplot(data=df_buyers, x='Education', y='Cust_Age', hue='Response')\n",
    "# rata usia customer ketika bergabung dalam penawaran campaign(1) pada setiap lulusan"
   ]
  },
  {
   "cell_type": "code",
   "execution_count": 95,
   "id": "48dd1a9b-2bac-4768-ac69-d84c8b3fdfd5",
   "metadata": {},
   "outputs": [
    {
     "name": "stdout",
     "output_type": "stream",
     "text": [
      "16 73\n"
     ]
    }
   ],
   "source": [
    "print(df_buyers.Cust_Age.min(), df_buyers.Cust_Age.max())"
   ]
  },
  {
   "cell_type": "code",
   "execution_count": 96,
   "id": "8868b34e-ef4c-48f3-abb1-828219cd0e57",
   "metadata": {},
   "outputs": [
    {
     "data": {
      "text/plain": [
       "[3, 43, 63, 43]"
      ]
     },
     "execution_count": 96,
     "metadata": {},
     "output_type": "execute_result"
    }
   ],
   "source": [
    "tot_data = df_buyers.shape[0]\n",
    "tot_data_1 = df_buyers[:][df_buyers.Response == 1].shape[0]\n",
    "\n",
    "_age = ['Under 20', '21-35', '36-50', 'Over 50']\n",
    "bar_data_age_grad = [\n",
    "    df_buyers.loc[(df_buyers['Cust_Age'] < 21) & (df_buyers['Education'] == 'Graduation') & (df_buyers['Response']==1)].Cust_Age.count(),\n",
    "    df_buyers.loc[(df_buyers['Cust_Age'] > 20) & (df_buyers['Cust_Age'] < 36) & (df_buyers['Education'] == 'Graduation') & (df_buyers['Response']==1)].Cust_Age.count(),\n",
    "    df_buyers.loc[(df_buyers['Cust_Age'] > 35) & (df_buyers['Cust_Age'] < 51) & (df_buyers['Education'] == 'Graduation') & (df_buyers['Response']==1)].Cust_Age.count(),\n",
    "    df_buyers.loc[(df_buyers['Cust_Age'] > 50) & (df_buyers['Education'] == 'Graduation') & (df_buyers['Response']==1)].Cust_Age.count()\n",
    "]\n",
    "bar_data_age_grad"
   ]
  },
  {
   "cell_type": "code",
   "execution_count": 97,
   "id": "d4c1378c-0506-4e2e-8ed9-82ac22056531",
   "metadata": {},
   "outputs": [
    {
     "data": {
      "text/plain": [
       "[152, 101, 57, 2, 22]"
      ]
     },
     "execution_count": 97,
     "metadata": {},
     "output_type": "execute_result"
    }
   ],
   "source": [
    "_edu = []\n",
    "for u in df_buyers.Education.unique():\n",
    "    _edu.append(u)\n",
    "# >>> ['Graduation', 'PhD', 'Master', 'Basic', '2n Cycle']\n",
    "\n",
    "df_buyers_edu = df_buyers[df_buyers['Response']==1].Education.value_counts()\n",
    "data_edu = [\n",
    "    df_buyers_edu['Graduation'],\n",
    "    df_buyers_edu['PhD'],\n",
    "    df_buyers_edu['Master'],\n",
    "    df_buyers_edu['Basic'],\n",
    "    df_buyers_edu['2n Cycle'],\n",
    "]\n",
    "data_edu"
   ]
  },
  {
   "cell_type": "code",
   "execution_count": 98,
   "id": "2988d0a0-30fc-4b91-9c5b-7329ef4a6fd4",
   "metadata": {},
   "outputs": [
    {
     "data": {
      "image/png": "[encoded data removed]",
      "text/plain": [
       "<Figure size 504x360 with 1 Axes>"
      ]
     },
     "metadata": {},
     "output_type": "display_data"
    }
   ],
   "source": [
    "edu_chart_percentage = [float(x) for x in ([\n",
    "    '{:.1f}'.format((data_edu[0]/tot_data_1)*100),\n",
    "    '{:.1f}'.format((data_edu[1]/tot_data_1)*100),\n",
    "    '{:.1f}'.format((data_edu[2]/tot_data_1)*100),\n",
    "    '{:.1f}'.format((data_edu[3]/tot_data_1)*100),\n",
    "    '{:.1f}'.format((data_edu[4]/tot_data_1)*100),\n",
    "])]\n",
    "\n",
    "fig, ax = plt.subplots(figsize=(7,5))\n",
    "ax.pie(edu_chart_percentage, autopct='%1.1f%%', labels=_edu, colors=['#349464','#5FB3BB','yellow','#E77BE5','orange'], textprops={'size':12}) \n",
    "fig.show()"
   ]
  },
  {
   "cell_type": "code",
   "execution_count": 99,
   "id": "d6ac1bea-45da-43ba-8344-af0ddd6b8eb4",
   "metadata": {},
   "outputs": [
    {
     "data": {
      "text/plain": [
       "[0.9, 12.9, 18.9, 12.9]"
      ]
     },
     "execution_count": 99,
     "metadata": {},
     "output_type": "execute_result"
    }
   ],
   "source": [
    "age_chart_percentage_grad = [float(x) for x in([\n",
    "    '{:.1f}'.format((bar_data_age_grad[0]/tot_data_1)*100),\n",
    "    '{:.1f}'.format((bar_data_age_grad[1]/tot_data_1)*100),\n",
    "    '{:.1f}'.format((bar_data_age_grad[2]/tot_data_1)*100),\n",
    "    '{:.1f}'.format((bar_data_age_grad[3]/tot_data_1)*100),\n",
    "])]\n",
    "age_chart_percentage_grad"
   ]
  },
  {
   "cell_type": "code",
   "execution_count": 100,
   "id": "c81fd46c-a279-4d34-8d88-e208b5816839",
   "metadata": {},
   "outputs": [
    {
     "data": {
      "image/png": "[encoded data removed]",
      "text/plain": [
       "<Figure size 576x432 with 2 Axes>"
      ]
     },
     "metadata": {
      "needs_background": "light"
     },
     "output_type": "display_data"
    }
   ],
   "source": [
    "fig, (ax1, ax2) = plt.subplots(1,2,figsize=(8,6))\n",
    "fig.subplots_adjust(wspace=0.1)\n",
    "\n",
    "wedges, *_  = ax1.pie(edu_chart_percentage, autopct='%1.1f%%', labels=['Graduation', '', '', '', ''], explode=[.1,0,0,0,0], startangle=270,\n",
    "        colors=['#349464','#5FB3BB','yellow','#E77BE5','orange'], textprops={'size':10}) \n",
    "\n",
    "w = .2\n",
    "b = 1\n",
    "for j, (h, label) in enumerate(reversed([*zip(age_chart_percentage_grad,_age)])):\n",
    "    b -= h\n",
    "    barContainer = ax2.bar(0, height=h, width=w, bottom=b, color='C3', label=label, alpha=0.1+0.25 * j)\n",
    "    ax2.bar_label(barContainer, labels=[f'{h}%'], label_type='center')\n",
    "\n",
    "ax2.set_title('Age of Graduate')\n",
    "ax2.legend()\n",
    "ax2.axis('off')\n",
    "ax2.set_xlim(-1.5*w, 2.5*w)\n",
    "\n",
    "theta1, theta2 = wedges[0].theta1, wedges[0].theta2\n",
    "center, r = wedges[0].center, wedges[0].r\n",
    "bar_height = sum(age_chart_percentage_grad)\n",
    "\n",
    "# draw top connecting line\n",
    "x = r * np.cos(np.pi / 323 * theta2) + center[0]\n",
    "y = r * np.sin(np.pi / 180 * theta2) + center[1]\n",
    "con = ConnectionPatch(xyA=(-w / 2, 1), coordsA=ax2.transData,\n",
    "                      xyB=(-x, y), coordsB=ax1.transData)\n",
    "con.set_color([0, 0, 0])\n",
    "con.set_linewidth(2)\n",
    "ax2.add_artist(con)\n",
    "\n",
    "# draw bottom connecting line\n",
    "x = r * np.cos(np.pi / 20 * theta1) + center[0]\n",
    "y = r * np.sin(np.pi / 20 * theta1) + center[1]\n",
    "con = ConnectionPatch(xyA=(-w / 2, -44.5), coordsA=ax2.transData,\n",
    "                      xyB=(x, y), coordsB=ax1.transData)\n",
    "con.set_color([0, 0, 0])\n",
    "ax2.add_artist(con)\n",
    "con.set_linewidth(2)\n",
    "\n",
    "fig.show()"
   ]
  },
  {
   "cell_type": "code",
   "execution_count": 101,
   "id": "94e05876-56d8-4965-9a8d-0790c3639ab2",
   "metadata": {},
   "outputs": [],
   "source": [
    "select_cols = ['Cust_Age', 'Education', 'Income', 'Response']\n",
    "df_buyers_ = df_buyers[:][select_cols]"
   ]
  },
  {
   "cell_type": "code",
   "execution_count": 102,
   "id": "dfc446d9-6dfb-4294-b237-306e8a40ffac",
   "metadata": {},
   "outputs": [],
   "source": [
    "df_buyers_1 = df_buyers_[df_buyers_['Response']==1]"
   ]
  },
  {
   "cell_type": "code",
   "execution_count": 103,
   "id": "62dab364-f219-4278-831f-7f9d1745996d",
   "metadata": {},
   "outputs": [
    {
     "data": {
      "text/html": [
       "<div>\n",
       "<style scoped>\n",
       "    .dataframe tbody tr th:only-of-type {\n",
       "        vertical-align: middle;\n",
       "    }\n",
       "\n",
       "    .dataframe tbody tr th {\n",
       "        vertical-align: top;\n",
       "    }\n",
       "\n",
       "    .dataframe thead th {\n",
       "        text-align: right;\n",
       "    }\n",
       "</style>\n",
       "<table border=\"1\" class=\"dataframe\">\n",
       "  <thead>\n",
       "    <tr style=\"text-align: right;\">\n",
       "      <th></th>\n",
       "      <th>Cust_Age</th>\n",
       "      <th>Education</th>\n",
       "      <th>Income</th>\n",
       "      <th>Response</th>\n",
       "    </tr>\n",
       "  </thead>\n",
       "  <tbody>\n",
       "    <tr>\n",
       "      <th>0</th>\n",
       "      <td>55</td>\n",
       "      <td>Graduation</td>\n",
       "      <td>58138.0</td>\n",
       "      <td>1</td>\n",
       "    </tr>\n",
       "    <tr>\n",
       "      <th>8</th>\n",
       "      <td>39</td>\n",
       "      <td>PhD</td>\n",
       "      <td>30351.0</td>\n",
       "      <td>1</td>\n",
       "    </tr>\n",
       "    <tr>\n",
       "      <th>15</th>\n",
       "      <td>66</td>\n",
       "      <td>PhD</td>\n",
       "      <td>82800.0</td>\n",
       "      <td>1</td>\n",
       "    </tr>\n",
       "    <tr>\n",
       "      <th>33</th>\n",
       "      <td>60</td>\n",
       "      <td>PhD</td>\n",
       "      <td>46610.0</td>\n",
       "      <td>1</td>\n",
       "    </tr>\n",
       "    <tr>\n",
       "      <th>39</th>\n",
       "      <td>70</td>\n",
       "      <td>PhD</td>\n",
       "      <td>48948.0</td>\n",
       "      <td>1</td>\n",
       "    </tr>\n",
       "  </tbody>\n",
       "</table>\n",
       "</div>"
      ],
      "text/plain": [
       "    Cust_Age   Education   Income  Response\n",
       "0         55  Graduation  58138.0         1\n",
       "8         39         PhD  30351.0         1\n",
       "15        66         PhD  82800.0         1\n",
       "33        60         PhD  46610.0         1\n",
       "39        70         PhD  48948.0         1"
      ]
     },
     "execution_count": 103,
     "metadata": {},
     "output_type": "execute_result"
    }
   ],
   "source": [
    "df_buyers_1.head(5)"
   ]
  },
  {
   "cell_type": "code",
   "execution_count": 104,
   "id": "c5c39068-1926-415f-83e4-390f820dbc31",
   "metadata": {},
   "outputs": [],
   "source": [
    "df_under_20_grad = df_buyers_1.loc[(df_buyers_1.Cust_Age < 21) & (df_buyers_1.Education=='Graduation')]\n",
    "df_21_35_grad = df_buyers_1.loc[(df_buyers_1.Cust_Age > 20 ) & (df_buyers_1.Cust_Age < 36) & (df_buyers_1.Education=='Graduation')]\n",
    "df_36_50_grad = df_buyers_1.loc[(df_buyers_1.Cust_Age > 35 ) & (df_buyers_1.Cust_Age < 51) & (df_buyers_1.Education=='Graduation')]\n",
    "df_over_50_grad = df_buyers_1.loc[(df_buyers_1.Cust_Age > 50 ) & (df_buyers_1.Education=='Graduation')]"
   ]
  },
  {
   "cell_type": "code",
   "execution_count": 105,
   "id": "b1fd5525-e154-4495-bdc3-339a4f2ff51c",
   "metadata": {},
   "outputs": [
    {
     "data": {
      "text/html": [
       "<div>\n",
       "<style scoped>\n",
       "    .dataframe tbody tr th:only-of-type {\n",
       "        vertical-align: middle;\n",
       "    }\n",
       "\n",
       "    .dataframe tbody tr th {\n",
       "        vertical-align: top;\n",
       "    }\n",
       "\n",
       "    .dataframe thead th {\n",
       "        text-align: right;\n",
       "    }\n",
       "</style>\n",
       "<table border=\"1\" class=\"dataframe\">\n",
       "  <thead>\n",
       "    <tr style=\"text-align: right;\">\n",
       "      <th></th>\n",
       "      <th>Income(mean)</th>\n",
       "      <th>Age</th>\n",
       "    </tr>\n",
       "  </thead>\n",
       "  <tbody>\n",
       "    <tr>\n",
       "      <th>0</th>\n",
       "      <td>81762.666667</td>\n",
       "      <td>Under 20</td>\n",
       "    </tr>\n",
       "    <tr>\n",
       "      <th>1</th>\n",
       "      <td>54269.651163</td>\n",
       "      <td>21-35</td>\n",
       "    </tr>\n",
       "    <tr>\n",
       "      <th>2</th>\n",
       "      <td>58603.190476</td>\n",
       "      <td>36-50</td>\n",
       "    </tr>\n",
       "    <tr>\n",
       "      <th>3</th>\n",
       "      <td>69512.232558</td>\n",
       "      <td>Over 50</td>\n",
       "    </tr>\n",
       "  </tbody>\n",
       "</table>\n",
       "</div>"
      ],
      "text/plain": [
       "   Income(mean)       Age\n",
       "0  81762.666667  Under 20\n",
       "1  54269.651163     21-35\n",
       "2  58603.190476     36-50\n",
       "3  69512.232558   Over 50"
      ]
     },
     "execution_count": 105,
     "metadata": {},
     "output_type": "execute_result"
    }
   ],
   "source": [
    "mean_items = {\n",
    "    'Income(mean)':(df_under_20_grad.Income.mean(), df_21_35_grad.Income.mean(), df_36_50_grad.Income.mean(), df_over_50_grad.Income.mean()),\n",
    "    'Age':_age\n",
    "}\n",
    "\n",
    "dx = pd.DataFrame(mean_items)\n",
    "dx"
   ]
  },
  {
   "cell_type": "code",
   "execution_count": 106,
   "id": "1b654d8c-44e3-4829-b969-6645f477465c",
   "metadata": {},
   "outputs": [
    {
     "data": {
      "image/png": "[encoded data removed]",
      "text/plain": [
       "<Figure size 936x432 with 3 Axes>"
      ]
     },
     "metadata": {
      "needs_background": "light"
     },
     "output_type": "display_data"
    }
   ],
   "source": [
    "fig, (ax1, ax2, ax3) = plt.subplots(1,3,figsize=(13,6))\n",
    "fig.subplots_adjust(wspace=0.2)\n",
    "\n",
    "wedges, *_  = ax1.pie(edu_chart_percentage, autopct='%1.1f%%', labels=['Graduation', '', '', '', ''], explode=[.1,0,0,0,0], startangle=270,\n",
    "        colors=['#349464','#5FB3BB','yellow','#E77BE5','orange'], textprops={'size':10}) \n",
    "\n",
    "w = .2\n",
    "b = 1\n",
    "for j, (h, label) in enumerate(reversed([*zip(age_chart_percentage_grad,_age)])):\n",
    "    b -= h\n",
    "    barContainer = ax2.bar(0, height=h, width=w, bottom=b, color='C3', label=label, alpha=0.1+0.25 * j)\n",
    "    ax2.bar_label(barContainer, labels=[f'{h}%'], label_type='center')\n",
    "\n",
    "ax2.set_title('Age of Graduate')\n",
    "ax2.legend()\n",
    "ax2.axis('off')\n",
    "ax2.set_xlim(-1.5*w, 2.5*w)\n",
    "\n",
    "dx.plot.bar(ax=ax3, x='Age', y='Income(mean)', rot=0, color='#E97D82')\n",
    "\n",
    "theta1, theta2 = wedges[0].theta1, wedges[0].theta2\n",
    "center, r = wedges[0].center, wedges[0].r\n",
    "bar_height = sum(age_chart_percentage_grad)\n",
    "\n",
    "# draw top connecting line\n",
    "x = r * np.cos(np.pi / 323 * theta2) + center[0]\n",
    "y = r * np.sin(np.pi / 180 * theta2) + center[1]\n",
    "con = ConnectionPatch(xyA=(-w / 2, 1), coordsA=ax2.transData,\n",
    "                      xyB=(-x, y), coordsB=ax1.transData)\n",
    "con.set_color([0, 0, 0])\n",
    "con.set_linewidth(2)\n",
    "ax2.add_artist(con)\n",
    "\n",
    "# draw bottom connecting line\n",
    "x = r * np.cos(np.pi / 20 * theta1) + center[0]\n",
    "y = r * np.sin(np.pi / 20 * theta1) + center[1]\n",
    "con = ConnectionPatch(xyA=(-w / 2, -44.5), coordsA=ax2.transData,\n",
    "                      xyB=(x, y), coordsB=ax1.transData)\n",
    "con.set_color([0, 0, 0])\n",
    "ax2.add_artist(con)\n",
    "con.set_linewidth(2)\n",
    "\n",
    "fig.show()"
   ]
  },
  {
   "cell_type": "markdown",
   "id": "1e2453a1-15c5-4683-9042-fe8452578217",
   "metadata": {},
   "source": [
    "#### Average Income "
   ]
  },
  {
   "cell_type": "code",
   "execution_count": 107,
   "id": "22901065-8049-4b49-9aba-9eb06ec54c52",
   "metadata": {},
   "outputs": [
    {
     "data": {
      "text/plain": [
       "<AxesSubplot:xlabel='Education', ylabel='Income'>"
      ]
     },
     "execution_count": 107,
     "metadata": {},
     "output_type": "execute_result"
    },
    {
     "data": {
      "image/png": "[encoded data removed]",
      "text/plain": [
       "<Figure size 432x288 with 1 Axes>"
      ]
     },
     "metadata": {
      "needs_background": "light"
     },
     "output_type": "display_data"
    }
   ],
   "source": [
    "sns.barplot(data=df_buyers, x='Education', y='Income', hue='Response')\n",
    "# rata income customer pertahun yang menerima penawaran campaign"
   ]
  },
  {
   "cell_type": "markdown",
   "id": "cab64f4a-dae0-4329-873e-184179cbebb0",
   "metadata": {
    "tags": []
   },
   "source": [
    "### Purchases Made"
   ]
  },
  {
   "cell_type": "code",
   "execution_count": 108,
   "id": "317d8175-b3e7-42a9-99ff-779cb4a7c810",
   "metadata": {},
   "outputs": [
    {
     "data": {
      "image/png": "[encoded data removed]",
      "text/plain": [
       "<Figure size 576x360 with 1 Axes>"
      ]
     },
     "metadata": {},
     "output_type": "display_data"
    }
   ],
   "source": [
    "fig, ax1 = plt.subplots(figsize=(8,5))\n",
    "\n",
    "chart_percentage = [float(x) for x in ([\n",
    "    '{:.1f}'.format((tot_item_wdisc/sum_tot_items)*100),\n",
    "    '{:.1f}'.format((tot_item_wcatalog/sum_tot_items)*100),\n",
    "    '{:.1f}'.format((tot_item_wdirstore/sum_tot_items)*100),\n",
    "    '{:.1f}'.format((tot_item_wweb/sum_tot_items)*100)\n",
    "])]\n",
    "\n",
    "labels = ['Discount', 'Catalog', 'Direct in Store', 'Web']\n",
    "explode = [0, 0, 0.1, 0]\n",
    "angle = 60 * chart_percentage[2]\n",
    "wedges, *_ = ax1.pie(chart_percentage, autopct='%1.1f%%', startangle=angle,\n",
    "                     labels=labels, explode=explode, colors=['#4EA178','yellow','#99bbff','orange'], textprops={'size': 13})\n",
    "\n",
    "fig.show()\n"
   ]
  },
  {
   "cell_type": "code",
   "execution_count": 109,
   "id": "6a797534-a43c-43ee-b013-b9a488a0db59",
   "metadata": {},
   "outputs": [],
   "source": [
    "df_purch_dis = df_[df_.NumDealsPurchases != 0]\n",
    "df_purch_cat = df_[df_.NumCatalogPurchases != 0]\n",
    "df_purch_web = df_[df_.NumWebPurchases != 0]\n",
    "df_purch_store = df_[df_.NumStorePurchases != 0]"
   ]
  },
  {
   "cell_type": "code",
   "execution_count": 110,
   "id": "f8e10baa-ae84-41ba-a386-39fffcb3ce53",
   "metadata": {},
   "outputs": [
    {
     "data": {
      "text/html": [
       "<div>\n",
       "<style scoped>\n",
       "    .dataframe tbody tr th:only-of-type {\n",
       "        vertical-align: middle;\n",
       "    }\n",
       "\n",
       "    .dataframe tbody tr th {\n",
       "        vertical-align: top;\n",
       "    }\n",
       "\n",
       "    .dataframe thead th {\n",
       "        text-align: right;\n",
       "    }\n",
       "</style>\n",
       "<table border=\"1\" class=\"dataframe\">\n",
       "  <thead>\n",
       "    <tr style=\"text-align: right;\">\n",
       "      <th></th>\n",
       "      <th>Label</th>\n",
       "      <th>Age(mean)</th>\n",
       "    </tr>\n",
       "  </thead>\n",
       "  <tbody>\n",
       "    <tr>\n",
       "      <th>0</th>\n",
       "      <td>Discount</td>\n",
       "      <td>44.090370</td>\n",
       "    </tr>\n",
       "    <tr>\n",
       "      <th>1</th>\n",
       "      <td>Catalog</td>\n",
       "      <td>45.350484</td>\n",
       "    </tr>\n",
       "    <tr>\n",
       "      <th>2</th>\n",
       "      <td>Website</td>\n",
       "      <td>44.168647</td>\n",
       "    </tr>\n",
       "    <tr>\n",
       "      <th>3</th>\n",
       "      <td>Direct In Store</td>\n",
       "      <td>44.127363</td>\n",
       "    </tr>\n",
       "  </tbody>\n",
       "</table>\n",
       "</div>"
      ],
      "text/plain": [
       "             Label  Age(mean)\n",
       "0         Discount  44.090370\n",
       "1          Catalog  45.350484\n",
       "2          Website  44.168647\n",
       "3  Direct In Store  44.127363"
      ]
     },
     "execution_count": 110,
     "metadata": {},
     "output_type": "execute_result"
    }
   ],
   "source": [
    "mean_purch_age = [df_purch_dis.Cust_Age.mean(), df_purch_cat.Cust_Age.mean(), df_purch_web.Cust_Age.mean(), df_purch_store.Cust_Age.mean()]\n",
    "line_age = {\n",
    "    'Label':['Discount','Catalog','Website','Direct In Store'],\n",
    "    'Age(mean)':mean_purch_age,\n",
    "}\n",
    "pd.DataFrame(line_age)"
   ]
  },
  {
   "cell_type": "markdown",
   "id": "d31fdff8-e09c-4def-b8e9-0fc92b1bbab9",
   "metadata": {},
   "source": [
    "### Previous Campaign"
   ]
  },
  {
   "cell_type": "code",
   "execution_count": 111,
   "id": "d8b933e5-e0c7-40ca-a899-5b1d01766918",
   "metadata": {},
   "outputs": [
    {
     "data": {
      "text/plain": [
       "Index(['Year_Birth', 'Education', 'Marital_Status', 'Income', 'Kidhome',\n",
       "       'Teenhome', 'Dt_Customer', 'Recency', 'MntWines', 'MntFruits',\n",
       "       'MntMeatProducts', 'MntFishProducts', 'MntSweetProducts',\n",
       "       'MntGoldProds', 'NumDealsPurchases', 'NumWebPurchases',\n",
       "       'NumCatalogPurchases', 'NumStorePurchases', 'NumWebVisitsMonth',\n",
       "       'AcceptedCmp3', 'AcceptedCmp4', 'AcceptedCmp5', 'AcceptedCmp1',\n",
       "       'AcceptedCmp2', 'Response', 'Total_Amnt_Spent', 'Cust_Age',\n",
       "       'Total_Purchased_Items', 'Total_Child'],\n",
       "      dtype='object')"
      ]
     },
     "execution_count": 111,
     "metadata": {},
     "output_type": "execute_result"
    }
   ],
   "source": [
    "df_buyers.columns"
   ]
  },
  {
   "cell_type": "code",
   "execution_count": 112,
   "id": "0132708a-567e-448b-b94e-7ad3b59e0c23",
   "metadata": {},
   "outputs": [
    {
     "data": {
      "text/html": [
       "<div>\n",
       "<style scoped>\n",
       "    .dataframe tbody tr th:only-of-type {\n",
       "        vertical-align: middle;\n",
       "    }\n",
       "\n",
       "    .dataframe tbody tr th {\n",
       "        vertical-align: top;\n",
       "    }\n",
       "\n",
       "    .dataframe thead th {\n",
       "        text-align: right;\n",
       "    }\n",
       "</style>\n",
       "<table border=\"1\" class=\"dataframe\">\n",
       "  <thead>\n",
       "    <tr style=\"text-align: right;\">\n",
       "      <th></th>\n",
       "      <th>AcceptedCmp3</th>\n",
       "      <th>AcceptedCmp4</th>\n",
       "      <th>AcceptedCmp5</th>\n",
       "      <th>AcceptedCmp1</th>\n",
       "      <th>AcceptedCmp2</th>\n",
       "    </tr>\n",
       "  </thead>\n",
       "  <tbody>\n",
       "    <tr>\n",
       "      <th>2235</th>\n",
       "      <td>0</td>\n",
       "      <td>0</td>\n",
       "      <td>0</td>\n",
       "      <td>0</td>\n",
       "      <td>0</td>\n",
       "    </tr>\n",
       "    <tr>\n",
       "      <th>2236</th>\n",
       "      <td>0</td>\n",
       "      <td>0</td>\n",
       "      <td>0</td>\n",
       "      <td>1</td>\n",
       "      <td>0</td>\n",
       "    </tr>\n",
       "    <tr>\n",
       "      <th>2237</th>\n",
       "      <td>0</td>\n",
       "      <td>1</td>\n",
       "      <td>0</td>\n",
       "      <td>0</td>\n",
       "      <td>0</td>\n",
       "    </tr>\n",
       "    <tr>\n",
       "      <th>2238</th>\n",
       "      <td>0</td>\n",
       "      <td>0</td>\n",
       "      <td>0</td>\n",
       "      <td>0</td>\n",
       "      <td>0</td>\n",
       "    </tr>\n",
       "    <tr>\n",
       "      <th>2239</th>\n",
       "      <td>0</td>\n",
       "      <td>0</td>\n",
       "      <td>0</td>\n",
       "      <td>0</td>\n",
       "      <td>0</td>\n",
       "    </tr>\n",
       "  </tbody>\n",
       "</table>\n",
       "</div>"
      ],
      "text/plain": [
       "      AcceptedCmp3  AcceptedCmp4  AcceptedCmp5  AcceptedCmp1  AcceptedCmp2\n",
       "2235             0             0             0             0             0\n",
       "2236             0             0             0             1             0\n",
       "2237             0             1             0             0             0\n",
       "2238             0             0             0             0             0\n",
       "2239             0             0             0             0             0"
      ]
     },
     "execution_count": 112,
     "metadata": {},
     "output_type": "execute_result"
    }
   ],
   "source": [
    "prev_campaign = ['AcceptedCmp3', 'AcceptedCmp4', 'AcceptedCmp5', 'AcceptedCmp1', 'AcceptedCmp2']\n",
    "df_buyers[:][prev_campaign].tail(5) # 1: accept; 0: otherwise"
   ]
  },
  {
   "cell_type": "code",
   "execution_count": 113,
   "id": "ffb67fa8-03c1-47a5-b3f9-b1c6f0501b36",
   "metadata": {},
   "outputs": [
    {
     "data": {
      "text/html": [
       "<div>\n",
       "<style scoped>\n",
       "    .dataframe tbody tr th:only-of-type {\n",
       "        vertical-align: middle;\n",
       "    }\n",
       "\n",
       "    .dataframe tbody tr th {\n",
       "        vertical-align: top;\n",
       "    }\n",
       "\n",
       "    .dataframe thead th {\n",
       "        text-align: right;\n",
       "    }\n",
       "</style>\n",
       "<table border=\"1\" class=\"dataframe\">\n",
       "  <thead>\n",
       "    <tr style=\"text-align: right;\">\n",
       "      <th></th>\n",
       "      <th>Campaign</th>\n",
       "      <th>Corr</th>\n",
       "      <th>PVal</th>\n",
       "    </tr>\n",
       "  </thead>\n",
       "  <tbody>\n",
       "    <tr>\n",
       "      <th>4</th>\n",
       "      <td>Campaign 5</td>\n",
       "      <td>0.328182</td>\n",
       "      <td>2.532524e-57</td>\n",
       "    </tr>\n",
       "    <tr>\n",
       "      <th>0</th>\n",
       "      <td>Campaign 1</td>\n",
       "      <td>0.293882</td>\n",
       "      <td>8.309339e-46</td>\n",
       "    </tr>\n",
       "    <tr>\n",
       "      <th>2</th>\n",
       "      <td>Campaign 3</td>\n",
       "      <td>0.254144</td>\n",
       "      <td>2.597240e-34</td>\n",
       "    </tr>\n",
       "    <tr>\n",
       "      <th>3</th>\n",
       "      <td>Campaign 4</td>\n",
       "      <td>0.176890</td>\n",
       "      <td>3.510116e-17</td>\n",
       "    </tr>\n",
       "    <tr>\n",
       "      <th>1</th>\n",
       "      <td>Campaign 2</td>\n",
       "      <td>0.169249</td>\n",
       "      <td>7.712782e-16</td>\n",
       "    </tr>\n",
       "  </tbody>\n",
       "</table>\n",
       "</div>"
      ],
      "text/plain": [
       "     Campaign      Corr          PVal\n",
       "4  Campaign 5  0.328182  2.532524e-57\n",
       "0  Campaign 1  0.293882  8.309339e-46\n",
       "2  Campaign 3  0.254144  2.597240e-34\n",
       "3  Campaign 4  0.176890  3.510116e-17\n",
       "1  Campaign 2  0.169249  7.712782e-16"
      ]
     },
     "execution_count": 113,
     "metadata": {},
     "output_type": "execute_result"
    }
   ],
   "source": [
    "np_camp_1 = df_buyers['AcceptedCmp1'].to_numpy()\n",
    "np_camp_2 = df_buyers['AcceptedCmp2'].to_numpy()\n",
    "np_camp_3 = df_buyers['AcceptedCmp3'].to_numpy()\n",
    "np_camp_4 = df_buyers['AcceptedCmp4'].to_numpy()\n",
    "np_camp_5 = df_buyers['AcceptedCmp5'].to_numpy()\n",
    "\n",
    "pt_camp_1 = st.pointbiserialr(np_resp, np_camp_1)\n",
    "pt_camp_2 = st.pointbiserialr(np_resp, np_camp_2)\n",
    "pt_camp_3 = st.pointbiserialr(np_resp, np_camp_3)\n",
    "pt_camp_4 = st.pointbiserialr(np_resp, np_camp_4)\n",
    "pt_camp_5 = st.pointbiserialr(np_resp, np_camp_5)\n",
    "\n",
    "data = {\n",
    "    'Campaign': ['Campaign 1','Campaign 2','Campaign 3','Campaign 4','Campaign 5'],\n",
    "    'Corr':[pt_camp_1[0], pt_camp_2[0], pt_camp_3[0], pt_camp_4[0], pt_camp_5[0]],\n",
    "    'PVal':[pt_camp_1[1],pt_camp_2[1],pt_camp_3[1],pt_camp_4[1],pt_camp_5[1]]\n",
    "}\n",
    "pd.DataFrame(data).sort_values(by='Corr', ascending=False)"
   ]
  },
  {
   "cell_type": "markdown",
   "id": "f5e6605e-866a-46d4-a9f9-16d9669069c9",
   "metadata": {},
   "source": [
    "## Modelling"
   ]
  },
  {
   "cell_type": "code",
   "execution_count": 115,
   "id": "3ad439e9-d66e-4318-89d7-0c50a162804f",
   "metadata": {},
   "outputs": [],
   "source": [
    "y_train = df_train_temp.Response\n",
    "y_test = df_test_temp.Response\n",
    "y_valid = df_valid_temp.Response"
   ]
  },
  {
   "cell_type": "code",
   "execution_count": 126,
   "id": "7398b057-3334-4770-b96a-5dfb48f170c7",
   "metadata": {},
   "outputs": [],
   "source": [
    "x_train = df_train_temp.loc[:, ~(df_train_temp.columns.isin(['Response'])) ]\n",
    "x_test = df_test_temp.loc[:, ~(df_test_temp.columns.isin(['Response'])) ]\n",
    "x_valid = df_valid_temp.loc[:, ~(df_valid_temp.columns.isin(['Response'])) ]"
   ]
  },
  {
   "cell_type": "code",
   "execution_count": 127,
   "id": "f83450cd-58e4-4af6-bbe8-7280ab4993f7",
   "metadata": {},
   "outputs": [],
   "source": [
    "# The response is a classification model\n",
    "from sklearn.linear_model import LogisticRegression"
   ]
  },
  {
   "cell_type": "code",
   "execution_count": 128,
   "id": "a0de124e-01da-4127-b986-a43b0b4d7d29",
   "metadata": {},
   "outputs": [],
   "source": [
    "# Metrics accuracy \n",
    "from sklearn.metrics import roc_auc_score"
   ]
  },
  {
   "cell_type": "code",
   "execution_count": 129,
   "id": "0cdc3cb1-2d11-43b2-95ac-56799d47595e",
   "metadata": {},
   "outputs": [],
   "source": [
    "l = LogisticRegression(random_state=42)"
   ]
  },
  {
   "cell_type": "code",
   "execution_count": 130,
   "id": "dd2095bc-8808-44f6-8636-968d372d5eae",
   "metadata": {},
   "outputs": [
    {
     "data": {
      "text/plain": [
       "LogisticRegression(random_state=42)"
      ]
     },
     "execution_count": 130,
     "metadata": {},
     "output_type": "execute_result"
    }
   ],
   "source": [
    "l.fit(x_train, y_train)"
   ]
  },
  {
   "cell_type": "code",
   "execution_count": 131,
   "id": "744fe87f-2220-4785-b4df-82094f221102",
   "metadata": {},
   "outputs": [],
   "source": [
    "y_valid_pred = l.predict_proba(x_valid)"
   ]
  },
  {
   "cell_type": "code",
   "execution_count": 177,
   "id": "1a103af2-cb8b-4ade-9f64-3b6de40f60e5",
   "metadata": {},
   "outputs": [
    {
     "data": {
      "text/plain": [
       "array([[0.83179781, 0.16820219]])"
      ]
     },
     "execution_count": 177,
     "metadata": {},
     "output_type": "execute_result"
    }
   ],
   "source": [
    "y_valid_pred[:1]\n",
    "# 0.81/1.00 is the probability of the first data would be recognized by 0\n",
    "# 0.16/1.00 is the probability of the first data would be recognized by 1"
   ]
  },
  {
   "cell_type": "code",
   "execution_count": 178,
   "id": "2c3a24a4-40bd-4230-b835-7f32119c1a27",
   "metadata": {},
   "outputs": [
    {
     "data": {
      "text/plain": [
       "0.7683118386243386"
      ]
     },
     "execution_count": 178,
     "metadata": {},
     "output_type": "execute_result"
    }
   ],
   "source": [
    "# mterics to check how well the classifier distinguishes the + class from - class\n",
    "roc_auc_score(y_valid, y_valid_pred[:,1])"
   ]
  }
 ],
 "metadata": {
  "kernelspec": {
   "display_name": "Python 3 (ipykernel)",
   "language": "python",
   "name": "python3"
  },
  "language_info": {
   "codemirror_mode": {
    "name": "ipython",
    "version": 3
   },
   "file_extension": ".py",
   "mimetype": "text/x-python",
   "name": "python",
   "nbconvert_exporter": "python",
   "pygments_lexer": "ipython3",
   "version": "3.9.7"
  }
 },
 "nbformat": 4,
 "nbformat_minor": 5
}
