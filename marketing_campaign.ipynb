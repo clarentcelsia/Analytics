{
 "cells": [
  {
   "cell_type": "markdown",
   "id": "363012b2-5f3b-4ab3-9cb4-abdc410d5715",
   "metadata": {},
   "source": [
    "# Marketing Analysis"
   ]
  },
  {
   "cell_type": "code",
   "execution_count": 1,
   "id": "a5ab75e9-0877-4c50-9476-da043751f027",
   "metadata": {},
   "outputs": [],
   "source": [
    "# A company wants to run a campaign of a new product\n",
    "# and asks for the analysis to get an optimized campaign \n",
    "# for this season from previous campaign data result."
   ]
  },
  {
   "cell_type": "code",
   "execution_count": 2,
   "id": "500aa154-4504-4f1e-a1f2-936cdcce1ccf",
   "metadata": {},
   "outputs": [],
   "source": [
    "import os\n",
    "import pandas as pd\n",
    "import numpy as np\n",
    "import seaborn as sns\n",
    "sns.set_style='whitegrid'\n",
    "\n",
    "import warnings\n",
    "warnings.filterwarnings(\"ignore\")"
   ]
  },
  {
   "cell_type": "code",
   "execution_count": 3,
   "id": "707c5ff9-22fa-41b2-b499-6397152c482e",
   "metadata": {},
   "outputs": [],
   "source": [
    "csv = os.getcwd() + r'/datasets/marketing_campaign.csv'"
   ]
  },
  {
   "cell_type": "code",
   "execution_count": 4,
   "id": "512c11b2-5b78-419e-8934-cbe5122ff0b2",
   "metadata": {},
   "outputs": [
    {
     "data": {
      "text/html": [
       "<div>\n",
       "<style scoped>\n",
       "    .dataframe tbody tr th:only-of-type {\n",
       "        vertical-align: middle;\n",
       "    }\n",
       "\n",
       "    .dataframe tbody tr th {\n",
       "        vertical-align: top;\n",
       "    }\n",
       "\n",
       "    .dataframe thead th {\n",
       "        text-align: right;\n",
       "    }\n",
       "</style>\n",
       "<table border=\"1\" class=\"dataframe\">\n",
       "  <thead>\n",
       "    <tr style=\"text-align: right;\">\n",
       "      <th></th>\n",
       "      <th>ID</th>\n",
       "      <th>Year_Birth</th>\n",
       "      <th>Education</th>\n",
       "      <th>Marital_Status</th>\n",
       "      <th>Income</th>\n",
       "      <th>Kidhome</th>\n",
       "      <th>Teenhome</th>\n",
       "      <th>Dt_Customer</th>\n",
       "      <th>Recency</th>\n",
       "      <th>MntWines</th>\n",
       "      <th>...</th>\n",
       "      <th>NumWebVisitsMonth</th>\n",
       "      <th>AcceptedCmp3</th>\n",
       "      <th>AcceptedCmp4</th>\n",
       "      <th>AcceptedCmp5</th>\n",
       "      <th>AcceptedCmp1</th>\n",
       "      <th>AcceptedCmp2</th>\n",
       "      <th>Complain</th>\n",
       "      <th>Z_CostContact</th>\n",
       "      <th>Z_Revenue</th>\n",
       "      <th>Response</th>\n",
       "    </tr>\n",
       "  </thead>\n",
       "  <tbody>\n",
       "    <tr>\n",
       "      <th>0</th>\n",
       "      <td>5524</td>\n",
       "      <td>1957</td>\n",
       "      <td>Graduation</td>\n",
       "      <td>Single</td>\n",
       "      <td>58138.0</td>\n",
       "      <td>0</td>\n",
       "      <td>0</td>\n",
       "      <td>2012-09-04</td>\n",
       "      <td>58</td>\n",
       "      <td>635</td>\n",
       "      <td>...</td>\n",
       "      <td>7</td>\n",
       "      <td>0</td>\n",
       "      <td>0</td>\n",
       "      <td>0</td>\n",
       "      <td>0</td>\n",
       "      <td>0</td>\n",
       "      <td>0</td>\n",
       "      <td>3</td>\n",
       "      <td>11</td>\n",
       "      <td>1</td>\n",
       "    </tr>\n",
       "    <tr>\n",
       "      <th>1</th>\n",
       "      <td>2174</td>\n",
       "      <td>1954</td>\n",
       "      <td>Graduation</td>\n",
       "      <td>Single</td>\n",
       "      <td>46344.0</td>\n",
       "      <td>1</td>\n",
       "      <td>1</td>\n",
       "      <td>2014-03-08</td>\n",
       "      <td>38</td>\n",
       "      <td>11</td>\n",
       "      <td>...</td>\n",
       "      <td>5</td>\n",
       "      <td>0</td>\n",
       "      <td>0</td>\n",
       "      <td>0</td>\n",
       "      <td>0</td>\n",
       "      <td>0</td>\n",
       "      <td>0</td>\n",
       "      <td>3</td>\n",
       "      <td>11</td>\n",
       "      <td>0</td>\n",
       "    </tr>\n",
       "    <tr>\n",
       "      <th>2</th>\n",
       "      <td>4141</td>\n",
       "      <td>1965</td>\n",
       "      <td>Graduation</td>\n",
       "      <td>Together</td>\n",
       "      <td>71613.0</td>\n",
       "      <td>0</td>\n",
       "      <td>0</td>\n",
       "      <td>2013-08-21</td>\n",
       "      <td>26</td>\n",
       "      <td>426</td>\n",
       "      <td>...</td>\n",
       "      <td>4</td>\n",
       "      <td>0</td>\n",
       "      <td>0</td>\n",
       "      <td>0</td>\n",
       "      <td>0</td>\n",
       "      <td>0</td>\n",
       "      <td>0</td>\n",
       "      <td>3</td>\n",
       "      <td>11</td>\n",
       "      <td>0</td>\n",
       "    </tr>\n",
       "    <tr>\n",
       "      <th>3</th>\n",
       "      <td>6182</td>\n",
       "      <td>1984</td>\n",
       "      <td>Graduation</td>\n",
       "      <td>Together</td>\n",
       "      <td>26646.0</td>\n",
       "      <td>1</td>\n",
       "      <td>0</td>\n",
       "      <td>2014-02-10</td>\n",
       "      <td>26</td>\n",
       "      <td>11</td>\n",
       "      <td>...</td>\n",
       "      <td>6</td>\n",
       "      <td>0</td>\n",
       "      <td>0</td>\n",
       "      <td>0</td>\n",
       "      <td>0</td>\n",
       "      <td>0</td>\n",
       "      <td>0</td>\n",
       "      <td>3</td>\n",
       "      <td>11</td>\n",
       "      <td>0</td>\n",
       "    </tr>\n",
       "    <tr>\n",
       "      <th>4</th>\n",
       "      <td>5324</td>\n",
       "      <td>1981</td>\n",
       "      <td>PhD</td>\n",
       "      <td>Married</td>\n",
       "      <td>58293.0</td>\n",
       "      <td>1</td>\n",
       "      <td>0</td>\n",
       "      <td>2014-01-19</td>\n",
       "      <td>94</td>\n",
       "      <td>173</td>\n",
       "      <td>...</td>\n",
       "      <td>5</td>\n",
       "      <td>0</td>\n",
       "      <td>0</td>\n",
       "      <td>0</td>\n",
       "      <td>0</td>\n",
       "      <td>0</td>\n",
       "      <td>0</td>\n",
       "      <td>3</td>\n",
       "      <td>11</td>\n",
       "      <td>0</td>\n",
       "    </tr>\n",
       "  </tbody>\n",
       "</table>\n",
       "<p>5 rows × 29 columns</p>\n",
       "</div>"
      ],
      "text/plain": [
       "     ID  Year_Birth   Education Marital_Status   Income  Kidhome  Teenhome  \\\n",
       "0  5524        1957  Graduation         Single  58138.0        0         0   \n",
       "1  2174        1954  Graduation         Single  46344.0        1         1   \n",
       "2  4141        1965  Graduation       Together  71613.0        0         0   \n",
       "3  6182        1984  Graduation       Together  26646.0        1         0   \n",
       "4  5324        1981         PhD        Married  58293.0        1         0   \n",
       "\n",
       "  Dt_Customer  Recency  MntWines  ...  NumWebVisitsMonth  AcceptedCmp3  \\\n",
       "0  2012-09-04       58       635  ...                  7             0   \n",
       "1  2014-03-08       38        11  ...                  5             0   \n",
       "2  2013-08-21       26       426  ...                  4             0   \n",
       "3  2014-02-10       26        11  ...                  6             0   \n",
       "4  2014-01-19       94       173  ...                  5             0   \n",
       "\n",
       "   AcceptedCmp4  AcceptedCmp5  AcceptedCmp1  AcceptedCmp2  Complain  \\\n",
       "0             0             0             0             0         0   \n",
       "1             0             0             0             0         0   \n",
       "2             0             0             0             0         0   \n",
       "3             0             0             0             0         0   \n",
       "4             0             0             0             0         0   \n",
       "\n",
       "   Z_CostContact  Z_Revenue  Response  \n",
       "0              3         11         1  \n",
       "1              3         11         0  \n",
       "2              3         11         0  \n",
       "3              3         11         0  \n",
       "4              3         11         0  \n",
       "\n",
       "[5 rows x 29 columns]"
      ]
     },
     "execution_count": 4,
     "metadata": {},
     "output_type": "execute_result"
    }
   ],
   "source": [
    "df = pd.read_csv(csv, delimiter=';')\n",
    "df.head(5)"
   ]
  },
  {
   "cell_type": "markdown",
   "id": "e5ab8a4a-4609-4c91-81db-5e64d7ef9404",
   "metadata": {},
   "source": [
    "## Data Quality Check & Data Acknowledgement"
   ]
  },
  {
   "cell_type": "code",
   "execution_count": 5,
   "id": "78055811-dbcd-48be-861c-2b4573eddbfb",
   "metadata": {},
   "outputs": [
    {
     "name": "stdout",
     "output_type": "stream",
     "text": [
      "<class 'pandas.core.frame.DataFrame'>\n",
      "RangeIndex: 2240 entries, 0 to 2239\n",
      "Data columns (total 29 columns):\n",
      " #   Column               Non-Null Count  Dtype  \n",
      "---  ------               --------------  -----  \n",
      " 0   ID                   2240 non-null   int64  \n",
      " 1   Year_Birth           2240 non-null   int64  \n",
      " 2   Education            2240 non-null   object \n",
      " 3   Marital_Status       2240 non-null   object \n",
      " 4   Income               2216 non-null   float64\n",
      " 5   Kidhome              2240 non-null   int64  \n",
      " 6   Teenhome             2240 non-null   int64  \n",
      " 7   Dt_Customer          2240 non-null   object \n",
      " 8   Recency              2240 non-null   int64  \n",
      " 9   MntWines             2240 non-null   int64  \n",
      " 10  MntFruits            2240 non-null   int64  \n",
      " 11  MntMeatProducts      2240 non-null   int64  \n",
      " 12  MntFishProducts      2240 non-null   int64  \n",
      " 13  MntSweetProducts     2240 non-null   int64  \n",
      " 14  MntGoldProds         2240 non-null   int64  \n",
      " 15  NumDealsPurchases    2240 non-null   int64  \n",
      " 16  NumWebPurchases      2240 non-null   int64  \n",
      " 17  NumCatalogPurchases  2240 non-null   int64  \n",
      " 18  NumStorePurchases    2240 non-null   int64  \n",
      " 19  NumWebVisitsMonth    2240 non-null   int64  \n",
      " 20  AcceptedCmp3         2240 non-null   int64  \n",
      " 21  AcceptedCmp4         2240 non-null   int64  \n",
      " 22  AcceptedCmp5         2240 non-null   int64  \n",
      " 23  AcceptedCmp1         2240 non-null   int64  \n",
      " 24  AcceptedCmp2         2240 non-null   int64  \n",
      " 25  Complain             2240 non-null   int64  \n",
      " 26  Z_CostContact        2240 non-null   int64  \n",
      " 27  Z_Revenue            2240 non-null   int64  \n",
      " 28  Response             2240 non-null   int64  \n",
      "dtypes: float64(1), int64(25), object(3)\n",
      "memory usage: 507.6+ KB\n"
     ]
    }
   ],
   "source": [
    "df.info()"
   ]
  },
  {
   "cell_type": "code",
   "execution_count": 6,
   "id": "41565c10-e612-4adf-98eb-8fbe812a38f3",
   "metadata": {},
   "outputs": [],
   "source": [
    "# Convert data types\n",
    "df['Dt_Customer'] = df['Dt_Customer'].astype('datetime64')"
   ]
  },
  {
   "cell_type": "code",
   "execution_count": 7,
   "id": "7536e28b-5833-4bca-9e3e-3501f596c031",
   "metadata": {},
   "outputs": [
    {
     "name": "stdout",
     "output_type": "stream",
     "text": [
      "2012-09-04 00:00:00 -> 2012 9 4\n"
     ]
    }
   ],
   "source": [
    "# check year, month, day\n",
    "print(df['Dt_Customer'][0], \"->\", df['Dt_Customer'].dt.year[0], df['Dt_Customer'].dt.month[0], df['Dt_Customer'].dt.day[0])"
   ]
  },
  {
   "cell_type": "code",
   "execution_count": 8,
   "id": "919c60fa-dfbc-40db-a6e6-25216332517a",
   "metadata": {},
   "outputs": [],
   "source": [
    "# Remove unused cols\n",
    "df.drop(columns=['Z_CostContact', 'Z_Revenue', 'Complain'], axis=1, inplace=True)"
   ]
  },
  {
   "cell_type": "code",
   "execution_count": 9,
   "id": "287e4564-7400-42d2-863c-d01e71e3b7dd",
   "metadata": {},
   "outputs": [
    {
     "data": {
      "text/html": [
       "<div>\n",
       "<style scoped>\n",
       "    .dataframe tbody tr th:only-of-type {\n",
       "        vertical-align: middle;\n",
       "    }\n",
       "\n",
       "    .dataframe tbody tr th {\n",
       "        vertical-align: top;\n",
       "    }\n",
       "\n",
       "    .dataframe thead th {\n",
       "        text-align: right;\n",
       "    }\n",
       "</style>\n",
       "<table border=\"1\" class=\"dataframe\">\n",
       "  <thead>\n",
       "    <tr style=\"text-align: right;\">\n",
       "      <th></th>\n",
       "      <th>ID</th>\n",
       "      <th>Year_Birth</th>\n",
       "      <th>Education</th>\n",
       "      <th>Marital_Status</th>\n",
       "      <th>Income</th>\n",
       "      <th>Kidhome</th>\n",
       "      <th>Teenhome</th>\n",
       "      <th>Dt_Customer</th>\n",
       "      <th>Recency</th>\n",
       "      <th>MntWines</th>\n",
       "      <th>...</th>\n",
       "      <th>NumWebPurchases</th>\n",
       "      <th>NumCatalogPurchases</th>\n",
       "      <th>NumStorePurchases</th>\n",
       "      <th>NumWebVisitsMonth</th>\n",
       "      <th>AcceptedCmp3</th>\n",
       "      <th>AcceptedCmp4</th>\n",
       "      <th>AcceptedCmp5</th>\n",
       "      <th>AcceptedCmp1</th>\n",
       "      <th>AcceptedCmp2</th>\n",
       "      <th>Response</th>\n",
       "    </tr>\n",
       "  </thead>\n",
       "  <tbody>\n",
       "    <tr>\n",
       "      <th>0</th>\n",
       "      <td>5524</td>\n",
       "      <td>1957</td>\n",
       "      <td>Graduation</td>\n",
       "      <td>Single</td>\n",
       "      <td>58138.0</td>\n",
       "      <td>0</td>\n",
       "      <td>0</td>\n",
       "      <td>2012-09-04</td>\n",
       "      <td>58</td>\n",
       "      <td>635</td>\n",
       "      <td>...</td>\n",
       "      <td>8</td>\n",
       "      <td>10</td>\n",
       "      <td>4</td>\n",
       "      <td>7</td>\n",
       "      <td>0</td>\n",
       "      <td>0</td>\n",
       "      <td>0</td>\n",
       "      <td>0</td>\n",
       "      <td>0</td>\n",
       "      <td>1</td>\n",
       "    </tr>\n",
       "    <tr>\n",
       "      <th>1</th>\n",
       "      <td>2174</td>\n",
       "      <td>1954</td>\n",
       "      <td>Graduation</td>\n",
       "      <td>Single</td>\n",
       "      <td>46344.0</td>\n",
       "      <td>1</td>\n",
       "      <td>1</td>\n",
       "      <td>2014-03-08</td>\n",
       "      <td>38</td>\n",
       "      <td>11</td>\n",
       "      <td>...</td>\n",
       "      <td>1</td>\n",
       "      <td>1</td>\n",
       "      <td>2</td>\n",
       "      <td>5</td>\n",
       "      <td>0</td>\n",
       "      <td>0</td>\n",
       "      <td>0</td>\n",
       "      <td>0</td>\n",
       "      <td>0</td>\n",
       "      <td>0</td>\n",
       "    </tr>\n",
       "    <tr>\n",
       "      <th>2</th>\n",
       "      <td>4141</td>\n",
       "      <td>1965</td>\n",
       "      <td>Graduation</td>\n",
       "      <td>Together</td>\n",
       "      <td>71613.0</td>\n",
       "      <td>0</td>\n",
       "      <td>0</td>\n",
       "      <td>2013-08-21</td>\n",
       "      <td>26</td>\n",
       "      <td>426</td>\n",
       "      <td>...</td>\n",
       "      <td>8</td>\n",
       "      <td>2</td>\n",
       "      <td>10</td>\n",
       "      <td>4</td>\n",
       "      <td>0</td>\n",
       "      <td>0</td>\n",
       "      <td>0</td>\n",
       "      <td>0</td>\n",
       "      <td>0</td>\n",
       "      <td>0</td>\n",
       "    </tr>\n",
       "    <tr>\n",
       "      <th>3</th>\n",
       "      <td>6182</td>\n",
       "      <td>1984</td>\n",
       "      <td>Graduation</td>\n",
       "      <td>Together</td>\n",
       "      <td>26646.0</td>\n",
       "      <td>1</td>\n",
       "      <td>0</td>\n",
       "      <td>2014-02-10</td>\n",
       "      <td>26</td>\n",
       "      <td>11</td>\n",
       "      <td>...</td>\n",
       "      <td>2</td>\n",
       "      <td>0</td>\n",
       "      <td>4</td>\n",
       "      <td>6</td>\n",
       "      <td>0</td>\n",
       "      <td>0</td>\n",
       "      <td>0</td>\n",
       "      <td>0</td>\n",
       "      <td>0</td>\n",
       "      <td>0</td>\n",
       "    </tr>\n",
       "    <tr>\n",
       "      <th>4</th>\n",
       "      <td>5324</td>\n",
       "      <td>1981</td>\n",
       "      <td>PhD</td>\n",
       "      <td>Married</td>\n",
       "      <td>58293.0</td>\n",
       "      <td>1</td>\n",
       "      <td>0</td>\n",
       "      <td>2014-01-19</td>\n",
       "      <td>94</td>\n",
       "      <td>173</td>\n",
       "      <td>...</td>\n",
       "      <td>5</td>\n",
       "      <td>3</td>\n",
       "      <td>6</td>\n",
       "      <td>5</td>\n",
       "      <td>0</td>\n",
       "      <td>0</td>\n",
       "      <td>0</td>\n",
       "      <td>0</td>\n",
       "      <td>0</td>\n",
       "      <td>0</td>\n",
       "    </tr>\n",
       "  </tbody>\n",
       "</table>\n",
       "<p>5 rows × 26 columns</p>\n",
       "</div>"
      ],
      "text/plain": [
       "     ID  Year_Birth   Education Marital_Status   Income  Kidhome  Teenhome  \\\n",
       "0  5524        1957  Graduation         Single  58138.0        0         0   \n",
       "1  2174        1954  Graduation         Single  46344.0        1         1   \n",
       "2  4141        1965  Graduation       Together  71613.0        0         0   \n",
       "3  6182        1984  Graduation       Together  26646.0        1         0   \n",
       "4  5324        1981         PhD        Married  58293.0        1         0   \n",
       "\n",
       "  Dt_Customer  Recency  MntWines  ...  NumWebPurchases  NumCatalogPurchases  \\\n",
       "0  2012-09-04       58       635  ...                8                   10   \n",
       "1  2014-03-08       38        11  ...                1                    1   \n",
       "2  2013-08-21       26       426  ...                8                    2   \n",
       "3  2014-02-10       26        11  ...                2                    0   \n",
       "4  2014-01-19       94       173  ...                5                    3   \n",
       "\n",
       "   NumStorePurchases  NumWebVisitsMonth  AcceptedCmp3  AcceptedCmp4  \\\n",
       "0                  4                  7             0             0   \n",
       "1                  2                  5             0             0   \n",
       "2                 10                  4             0             0   \n",
       "3                  4                  6             0             0   \n",
       "4                  6                  5             0             0   \n",
       "\n",
       "   AcceptedCmp5  AcceptedCmp1  AcceptedCmp2  Response  \n",
       "0             0             0             0         1  \n",
       "1             0             0             0         0  \n",
       "2             0             0             0         0  \n",
       "3             0             0             0         0  \n",
       "4             0             0             0         0  \n",
       "\n",
       "[5 rows x 26 columns]"
      ]
     },
     "execution_count": 9,
     "metadata": {},
     "output_type": "execute_result"
    }
   ],
   "source": [
    "df.head(5)"
   ]
  },
  {
   "cell_type": "code",
   "execution_count": 10,
   "id": "3a386197-1c18-4d59-8e44-42474a5b0c89",
   "metadata": {},
   "outputs": [
    {
     "data": {
      "text/plain": [
       "0"
      ]
     },
     "execution_count": 10,
     "metadata": {},
     "output_type": "execute_result"
    }
   ],
   "source": [
    "# Remove duplicated rows by id\n",
    "df.duplicated(subset=['ID']).sum()"
   ]
  },
  {
   "cell_type": "code",
   "execution_count": 11,
   "id": "b1f80b3e-da9c-4250-926e-af1b2d651350",
   "metadata": {},
   "outputs": [],
   "source": [
    "# There's no duplicated row, so I'm gonna remove the ID. I'm not gonna use ID to do analysis\n",
    "df.drop(columns=['ID'], axis=1, inplace=True)"
   ]
  },
  {
   "cell_type": "code",
   "execution_count": 12,
   "id": "4e175e12-855e-463c-a5fa-28efeb96625f",
   "metadata": {},
   "outputs": [],
   "source": [
    "df['Marital_Status'].replace(to_replace={'YOLO':'Single', 'Absurd':'Single', 'Alone':'Single'}, inplace=True)"
   ]
  },
  {
   "cell_type": "code",
   "execution_count": 13,
   "id": "9cab0594-7b8c-4500-81c7-575061bd133d",
   "metadata": {},
   "outputs": [
    {
     "name": "stdout",
     "output_type": "stream",
     "text": [
      "<class 'pandas.core.frame.DataFrame'>\n",
      "RangeIndex: 2240 entries, 0 to 2239\n",
      "Data columns (total 25 columns):\n",
      " #   Column               Non-Null Count  Dtype         \n",
      "---  ------               --------------  -----         \n",
      " 0   Year_Birth           2240 non-null   int64         \n",
      " 1   Education            2240 non-null   object        \n",
      " 2   Marital_Status       2240 non-null   object        \n",
      " 3   Income               2216 non-null   float64       \n",
      " 4   Kidhome              2240 non-null   int64         \n",
      " 5   Teenhome             2240 non-null   int64         \n",
      " 6   Dt_Customer          2240 non-null   datetime64[ns]\n",
      " 7   Recency              2240 non-null   int64         \n",
      " 8   MntWines             2240 non-null   int64         \n",
      " 9   MntFruits            2240 non-null   int64         \n",
      " 10  MntMeatProducts      2240 non-null   int64         \n",
      " 11  MntFishProducts      2240 non-null   int64         \n",
      " 12  MntSweetProducts     2240 non-null   int64         \n",
      " 13  MntGoldProds         2240 non-null   int64         \n",
      " 14  NumDealsPurchases    2240 non-null   int64         \n",
      " 15  NumWebPurchases      2240 non-null   int64         \n",
      " 16  NumCatalogPurchases  2240 non-null   int64         \n",
      " 17  NumStorePurchases    2240 non-null   int64         \n",
      " 18  NumWebVisitsMonth    2240 non-null   int64         \n",
      " 19  AcceptedCmp3         2240 non-null   int64         \n",
      " 20  AcceptedCmp4         2240 non-null   int64         \n",
      " 21  AcceptedCmp5         2240 non-null   int64         \n",
      " 22  AcceptedCmp1         2240 non-null   int64         \n",
      " 23  AcceptedCmp2         2240 non-null   int64         \n",
      " 24  Response             2240 non-null   int64         \n",
      "dtypes: datetime64[ns](1), float64(1), int64(21), object(2)\n",
      "memory usage: 437.6+ KB\n"
     ]
    }
   ],
   "source": [
    "df.info()"
   ]
  },
  {
   "cell_type": "markdown",
   "id": "3502f9fd-b4e5-4be2-9bcb-81e5d24db8f3",
   "metadata": {
    "tags": []
   },
   "source": [
    "## Data Split"
   ]
  },
  {
   "cell_type": "code",
   "execution_count": 14,
   "id": "06700024-20a5-4598-a4e7-e1a7198466fd",
   "metadata": {},
   "outputs": [],
   "source": [
    "from sklearn.model_selection import train_test_split "
   ]
  },
  {
   "cell_type": "code",
   "execution_count": 15,
   "id": "7f9749ac-3a95-44f6-9a77-e14e830b0228",
   "metadata": {},
   "outputs": [],
   "source": [
    "df_train_full, df_test = train_test_split(df, test_size=0.2, random_state=1)"
   ]
  },
  {
   "cell_type": "code",
   "execution_count": 16,
   "id": "ee1f3342-49c1-4dfa-8eff-bce857edbb5c",
   "metadata": {},
   "outputs": [
    {
     "data": {
      "text/plain": [
       "(1792, 25)"
      ]
     },
     "execution_count": 16,
     "metadata": {},
     "output_type": "execute_result"
    }
   ],
   "source": [
    "df_train_full.shape"
   ]
  },
  {
   "cell_type": "code",
   "execution_count": 17,
   "id": "df5fd10c-9fe4-4698-8bc1-b2e973f46f30",
   "metadata": {},
   "outputs": [
    {
     "data": {
      "text/plain": [
       "(448, 25)"
      ]
     },
     "execution_count": 17,
     "metadata": {},
     "output_type": "execute_result"
    }
   ],
   "source": [
    "df_test.shape"
   ]
  },
  {
   "cell_type": "code",
   "execution_count": 18,
   "id": "88efb1e9-5e9c-4a5f-b507-c5953f71b2e2",
   "metadata": {},
   "outputs": [],
   "source": [
    "df_train, df_valid = train_test_split(df_train_full, test_size=0.25, random_state=1)"
   ]
  },
  {
   "cell_type": "code",
   "execution_count": 19,
   "id": "f923981d-a8ce-4b5d-b9ce-95ce2878e0d6",
   "metadata": {},
   "outputs": [
    {
     "data": {
      "text/plain": [
       "(1344, 25)"
      ]
     },
     "execution_count": 19,
     "metadata": {},
     "output_type": "execute_result"
    }
   ],
   "source": [
    "df_train.shape"
   ]
  },
  {
   "cell_type": "code",
   "execution_count": 20,
   "id": "6846672b-0027-4a3d-80e7-d164123bb74c",
   "metadata": {},
   "outputs": [
    {
     "data": {
      "text/plain": [
       "(448, 25)"
      ]
     },
     "execution_count": 20,
     "metadata": {},
     "output_type": "execute_result"
    }
   ],
   "source": [
    "df_valid.shape"
   ]
  },
  {
   "cell_type": "markdown",
   "id": "968b0bff-af93-48ba-8823-45390529feba",
   "metadata": {
    "tags": []
   },
   "source": [
    "## Data Preprocessing I (Before Split)\n",
    "This preprocessing is specially used for analysis using df."
   ]
  },
  {
   "cell_type": "code",
   "execution_count": 21,
   "id": "2ebb22c6-57ac-4b58-a873-c92b661b1b77",
   "metadata": {},
   "outputs": [],
   "source": [
    "df_ = df"
   ]
  },
  {
   "cell_type": "code",
   "execution_count": 22,
   "id": "b4965e8a-3b5d-4904-9516-7da21293fd55",
   "metadata": {},
   "outputs": [
    {
     "data": {
      "text/plain": [
       "Year_Birth              0\n",
       "Education               0\n",
       "Marital_Status          0\n",
       "Income                 24\n",
       "Kidhome                 0\n",
       "Teenhome                0\n",
       "Dt_Customer             0\n",
       "Recency                 0\n",
       "MntWines                0\n",
       "MntFruits               0\n",
       "MntMeatProducts         0\n",
       "MntFishProducts         0\n",
       "MntSweetProducts        0\n",
       "MntGoldProds            0\n",
       "NumDealsPurchases       0\n",
       "NumWebPurchases         0\n",
       "NumCatalogPurchases     0\n",
       "NumStorePurchases       0\n",
       "NumWebVisitsMonth       0\n",
       "AcceptedCmp3            0\n",
       "AcceptedCmp4            0\n",
       "AcceptedCmp5            0\n",
       "AcceptedCmp1            0\n",
       "AcceptedCmp2            0\n",
       "Response                0\n",
       "dtype: int64"
      ]
     },
     "execution_count": 22,
     "metadata": {},
     "output_type": "execute_result"
    }
   ],
   "source": [
    "# next : create new column 'Age', 'TotalAmountSpent', 'TotalPurchasedItems'\n",
    "# todo : inspect the null value of the field in relation to the new column\n",
    "df_.isna().sum()"
   ]
  },
  {
   "cell_type": "code",
   "execution_count": 23,
   "id": "9fa6e561-9ffe-4ba4-b1e4-835ddd9e43ae",
   "metadata": {},
   "outputs": [],
   "source": [
    "df_['Income'] = df_['Income'].fillna(value=df_.Income.median())"
   ]
  },
  {
   "cell_type": "code",
   "execution_count": 24,
   "id": "738f0518-0342-4c19-8cdc-f57834b8143f",
   "metadata": {},
   "outputs": [],
   "source": [
    "total_amount_spent = [col for col in df_.columns if 'Mnt' in col]\n",
    "df_['Total_Amnt_Spent'] = df_[total_amount_spent].sum(axis=1)"
   ]
  },
  {
   "cell_type": "code",
   "execution_count": 25,
   "id": "e8c8850b-73a6-4d19-b124-29499a75ee80",
   "metadata": {},
   "outputs": [],
   "source": [
    "cols = ['NumDealsPurchases', 'NumWebPurchases', 'NumCatalogPurchases', 'NumStorePurchases']\n",
    "total_purch_items = df_.loc[:][cols].sum(axis=1)"
   ]
  },
  {
   "cell_type": "code",
   "execution_count": 26,
   "id": "b5d62c54-b6ce-4664-b85f-784346244f6a",
   "metadata": {},
   "outputs": [],
   "source": [
    "df_ = df_.assign(Cust_Age=(df_.Dt_Customer.dt.year-df_.Year_Birth), Total_Purchased_Items=total_purch_items)"
   ]
  },
  {
   "cell_type": "code",
   "execution_count": 27,
   "id": "6bc15ded-5a12-451d-9b73-b73b04013735",
   "metadata": {},
   "outputs": [
    {
     "data": {
      "text/plain": [
       "Year_Birth                  AxesSubplot(0.125,0.749828;0.133621x0.130172)\n",
       "Income                   AxesSubplot(0.285345,0.749828;0.133621x0.130172)\n",
       "Kidhome                   AxesSubplot(0.44569,0.749828;0.133621x0.130172)\n",
       "Teenhome                 AxesSubplot(0.606034,0.749828;0.133621x0.130172)\n",
       "Recency                  AxesSubplot(0.766379,0.749828;0.133621x0.130172)\n",
       "MntWines                    AxesSubplot(0.125,0.593621;0.133621x0.130172)\n",
       "MntFruits                AxesSubplot(0.285345,0.593621;0.133621x0.130172)\n",
       "MntMeatProducts           AxesSubplot(0.44569,0.593621;0.133621x0.130172)\n",
       "MntFishProducts          AxesSubplot(0.606034,0.593621;0.133621x0.130172)\n",
       "MntSweetProducts         AxesSubplot(0.766379,0.593621;0.133621x0.130172)\n",
       "MntGoldProds                AxesSubplot(0.125,0.437414;0.133621x0.130172)\n",
       "NumDealsPurchases        AxesSubplot(0.285345,0.437414;0.133621x0.130172)\n",
       "NumWebPurchases           AxesSubplot(0.44569,0.437414;0.133621x0.130172)\n",
       "NumCatalogPurchases      AxesSubplot(0.606034,0.437414;0.133621x0.130172)\n",
       "NumStorePurchases        AxesSubplot(0.766379,0.437414;0.133621x0.130172)\n",
       "NumWebVisitsMonth           AxesSubplot(0.125,0.281207;0.133621x0.130172)\n",
       "AcceptedCmp3             AxesSubplot(0.285345,0.281207;0.133621x0.130172)\n",
       "AcceptedCmp4              AxesSubplot(0.44569,0.281207;0.133621x0.130172)\n",
       "AcceptedCmp5             AxesSubplot(0.606034,0.281207;0.133621x0.130172)\n",
       "AcceptedCmp1             AxesSubplot(0.766379,0.281207;0.133621x0.130172)\n",
       "AcceptedCmp2                   AxesSubplot(0.125,0.125;0.133621x0.130172)\n",
       "Response                    AxesSubplot(0.285345,0.125;0.133621x0.130172)\n",
       "Total_Amnt_Spent             AxesSubplot(0.44569,0.125;0.133621x0.130172)\n",
       "Cust_Age                    AxesSubplot(0.606034,0.125;0.133621x0.130172)\n",
       "Total_Purchased_Items       AxesSubplot(0.766379,0.125;0.133621x0.130172)\n",
       "dtype: object"
      ]
     },
     "execution_count": 27,
     "metadata": {},
     "output_type": "execute_result"
    },
    {
     "data": {
      "image/png": "[encoded data removed]",
      "text/plain": [
       "<Figure size 1080x1440 with 25 Axes>"
      ]
     },
     "metadata": {
      "needs_background": "light"
     },
     "output_type": "display_data"
    }
   ],
   "source": [
    "# check outliers\n",
    "df_plot = df_.select_dtypes(include=['int64', 'float64'])\n",
    "df_plot.plot(kind='box', subplots=True, layout=(5,5), figsize=(15,20))"
   ]
  },
  {
   "cell_type": "code",
   "execution_count": 28,
   "id": "1d569d10-aff2-4353-8c6c-3e8307a31201",
   "metadata": {},
   "outputs": [
    {
     "name": "stdout",
     "output_type": "stream",
     "text": [
      "Year_Birth 1893 1996\n",
      "\n",
      "Income 1730.0 666666.0\n",
      "\n",
      "Kidhome 0 2\n",
      "\n",
      "Teenhome 0 2\n",
      "\n",
      "Recency 0 99\n",
      "\n",
      "MntWines 0 1493\n",
      "\n",
      "MntFruits 0 199\n",
      "\n",
      "MntMeatProducts 0 1725\n",
      "\n",
      "MntFishProducts 0 259\n",
      "\n",
      "MntSweetProducts 0 263\n",
      "\n",
      "MntGoldProds 0 362\n",
      "\n",
      "NumDealsPurchases 0 15\n",
      "\n",
      "NumWebPurchases 0 27\n",
      "\n",
      "NumCatalogPurchases 0 28\n",
      "\n",
      "NumStorePurchases 0 13\n",
      "\n",
      "NumWebVisitsMonth 0 20\n",
      "\n",
      "AcceptedCmp3 0 1\n",
      "\n",
      "AcceptedCmp4 0 1\n",
      "\n",
      "AcceptedCmp5 0 1\n",
      "\n",
      "AcceptedCmp1 0 1\n",
      "\n",
      "AcceptedCmp2 0 1\n",
      "\n",
      "Response 0 1\n",
      "\n",
      "Total_Amnt_Spent 5 2525\n",
      "\n",
      "Cust_Age 16 121\n",
      "\n",
      "Total_Purchased_Items 0 44\n",
      "\n"
     ]
    }
   ],
   "source": [
    "# check min max value\n",
    "for dtype, col in list(zip(df_.dtypes, df_.columns)):\n",
    "    if dtype == 'float64' or dtype == 'int64':\n",
    "        print(col, df_[col].min(), df_[col].max())\n",
    "        print()"
   ]
  },
  {
   "cell_type": "code",
   "execution_count": 29,
   "id": "801d0d4b-74d1-4a4d-8b6f-569ec4f031d5",
   "metadata": {},
   "outputs": [],
   "source": [
    "# Gonna remove people with year_birth < 1900\n",
    "df_ = df_[ df_['Year_Birth'] > 1900 ]"
   ]
  },
  {
   "cell_type": "code",
   "execution_count": 30,
   "id": "45be9dc8-8e7d-483e-a4fc-45f269b62644",
   "metadata": {},
   "outputs": [
    {
     "name": "stdout",
     "output_type": "stream",
     "text": [
      "1940 73\n"
     ]
    }
   ],
   "source": [
    "print(df_.Year_Birth.min(), df_.Cust_Age.max())"
   ]
  },
  {
   "cell_type": "code",
   "execution_count": 31,
   "id": "2df2aadf-1344-440e-8044-fa36b9941573",
   "metadata": {},
   "outputs": [
    {
     "data": {
      "text/plain": [
       "Year_Birth                  AxesSubplot(0.125,0.749828;0.133621x0.130172)\n",
       "Income                   AxesSubplot(0.285345,0.749828;0.133621x0.130172)\n",
       "Kidhome                   AxesSubplot(0.44569,0.749828;0.133621x0.130172)\n",
       "Teenhome                 AxesSubplot(0.606034,0.749828;0.133621x0.130172)\n",
       "Recency                  AxesSubplot(0.766379,0.749828;0.133621x0.130172)\n",
       "MntWines                    AxesSubplot(0.125,0.593621;0.133621x0.130172)\n",
       "MntFruits                AxesSubplot(0.285345,0.593621;0.133621x0.130172)\n",
       "MntMeatProducts           AxesSubplot(0.44569,0.593621;0.133621x0.130172)\n",
       "MntFishProducts          AxesSubplot(0.606034,0.593621;0.133621x0.130172)\n",
       "MntSweetProducts         AxesSubplot(0.766379,0.593621;0.133621x0.130172)\n",
       "MntGoldProds                AxesSubplot(0.125,0.437414;0.133621x0.130172)\n",
       "NumDealsPurchases        AxesSubplot(0.285345,0.437414;0.133621x0.130172)\n",
       "NumWebPurchases           AxesSubplot(0.44569,0.437414;0.133621x0.130172)\n",
       "NumCatalogPurchases      AxesSubplot(0.606034,0.437414;0.133621x0.130172)\n",
       "NumStorePurchases        AxesSubplot(0.766379,0.437414;0.133621x0.130172)\n",
       "NumWebVisitsMonth           AxesSubplot(0.125,0.281207;0.133621x0.130172)\n",
       "AcceptedCmp3             AxesSubplot(0.285345,0.281207;0.133621x0.130172)\n",
       "AcceptedCmp4              AxesSubplot(0.44569,0.281207;0.133621x0.130172)\n",
       "AcceptedCmp5             AxesSubplot(0.606034,0.281207;0.133621x0.130172)\n",
       "AcceptedCmp1             AxesSubplot(0.766379,0.281207;0.133621x0.130172)\n",
       "AcceptedCmp2                   AxesSubplot(0.125,0.125;0.133621x0.130172)\n",
       "Response                    AxesSubplot(0.285345,0.125;0.133621x0.130172)\n",
       "Total_Amnt_Spent             AxesSubplot(0.44569,0.125;0.133621x0.130172)\n",
       "Cust_Age                    AxesSubplot(0.606034,0.125;0.133621x0.130172)\n",
       "Total_Purchased_Items       AxesSubplot(0.766379,0.125;0.133621x0.130172)\n",
       "dtype: object"
      ]
     },
     "execution_count": 31,
     "metadata": {},
     "output_type": "execute_result"
    },
    {
     "data": {
      "image/png": "[encoded data removed]",
      "text/plain": [
       "<Figure size 1080x1440 with 25 Axes>"
      ]
     },
     "metadata": {
      "needs_background": "light"
     },
     "output_type": "display_data"
    }
   ],
   "source": [
    "df_plot = df_.select_dtypes(include=['int64', 'float64'])\n",
    "df_plot.plot(kind='box', subplots=True, layout=(5,5), figsize=(15,20))"
   ]
  },
  {
   "cell_type": "markdown",
   "id": "286674e8-a9ca-4a04-ae13-d91c74cd8886",
   "metadata": {
    "tags": []
   },
   "source": [
    "## Data Preprocessing II (After Split)"
   ]
  },
  {
   "cell_type": "code",
   "execution_count": 32,
   "id": "1a66d128-4e79-41b3-8fa9-1260cc08b259",
   "metadata": {},
   "outputs": [],
   "source": [
    "def check_nan(df):\n",
    "    list = []\n",
    "    for i in df:\n",
    "        isnan = True if (df[i].isna().sum() > 0) else False\n",
    "        if isnan:\n",
    "            list.append(i)\n",
    "    return list"
   ]
  },
  {
   "cell_type": "code",
   "execution_count": 33,
   "id": "07c52ef6-3886-4059-b5a4-ae0fb2351d2e",
   "metadata": {},
   "outputs": [
    {
     "name": "stdout",
     "output_type": "stream",
     "text": [
      "['Income'] ['Income'] ['Income']\n"
     ]
    }
   ],
   "source": [
    "train_isnan = check_nan(df_train)\n",
    "valid_isnan = check_nan(df_valid)\n",
    "test_isnan = check_nan(df_test)\n",
    "print(train_isnan, valid_isnan, test_isnan)"
   ]
  },
  {
   "cell_type": "code",
   "execution_count": 34,
   "id": "65d40721-ab69-41d4-875e-05002fb0ad6f",
   "metadata": {},
   "outputs": [],
   "source": [
    "# Mean: When your dataset is in a normal distribution, you can use mean to fill in the missing values.\n",
    "# Median: When your dataset is not in a normal distribution, you can use the median value to fill in the missing values.\n",
    "# Median is also preferred when the distribution is skewed, as it is less sensitive to outliers than the mean.\n",
    "# Mode: When the missing values in your data are categorical and discrete, you can use the mode value to fill in the missing values."
   ]
  },
  {
   "cell_type": "code",
   "execution_count": 35,
   "id": "a2532868-c034-41dc-a9a8-038a5d035c16",
   "metadata": {},
   "outputs": [
    {
     "data": {
      "text/plain": [
       "<seaborn.axisgrid.FacetGrid at 0x16b36d511c0>"
      ]
     },
     "execution_count": 35,
     "metadata": {},
     "output_type": "execute_result"
    },
    {
     "data": {
      "image/png": "[encoded data removed]",
      "text/plain": [
       "<Figure size 360x360 with 1 Axes>"
      ]
     },
     "metadata": {
      "needs_background": "light"
     },
     "output_type": "display_data"
    }
   ],
   "source": [
    "# Check the distribution of data\n",
    "sns.displot(data=df_train, x='Income', kde=True)"
   ]
  },
  {
   "cell_type": "code",
   "execution_count": 36,
   "id": "c7f8617e-cb47-45c1-87af-9782b1d63743",
   "metadata": {},
   "outputs": [],
   "source": [
    "# Gonna use median, because it's preferrable for skewed distribution and outliers.\n",
    "df_train['Income'] = df_train['Income'].fillna(value=df_train.Income.median())\n",
    "df_valid['Income'] = df_valid['Income'].fillna(value=df_valid.Income.median())\n",
    "df_test['Income'] = df_test['Income'].fillna(value=df_test.Income.median())"
   ]
  },
  {
   "cell_type": "code",
   "execution_count": 37,
   "id": "0550f025-202e-4294-a91d-3b8ed2f5823e",
   "metadata": {},
   "outputs": [
    {
     "data": {
      "text/plain": [
       "Year_Birth                AxesSubplot(0.125,0.749828;0.133621x0.130172)\n",
       "Income                 AxesSubplot(0.285345,0.749828;0.133621x0.130172)\n",
       "Kidhome                 AxesSubplot(0.44569,0.749828;0.133621x0.130172)\n",
       "Teenhome               AxesSubplot(0.606034,0.749828;0.133621x0.130172)\n",
       "Recency                AxesSubplot(0.766379,0.749828;0.133621x0.130172)\n",
       "MntWines                  AxesSubplot(0.125,0.593621;0.133621x0.130172)\n",
       "MntFruits              AxesSubplot(0.285345,0.593621;0.133621x0.130172)\n",
       "MntMeatProducts         AxesSubplot(0.44569,0.593621;0.133621x0.130172)\n",
       "MntFishProducts        AxesSubplot(0.606034,0.593621;0.133621x0.130172)\n",
       "MntSweetProducts       AxesSubplot(0.766379,0.593621;0.133621x0.130172)\n",
       "MntGoldProds              AxesSubplot(0.125,0.437414;0.133621x0.130172)\n",
       "NumDealsPurchases      AxesSubplot(0.285345,0.437414;0.133621x0.130172)\n",
       "NumWebPurchases         AxesSubplot(0.44569,0.437414;0.133621x0.130172)\n",
       "NumCatalogPurchases    AxesSubplot(0.606034,0.437414;0.133621x0.130172)\n",
       "NumStorePurchases      AxesSubplot(0.766379,0.437414;0.133621x0.130172)\n",
       "NumWebVisitsMonth         AxesSubplot(0.125,0.281207;0.133621x0.130172)\n",
       "AcceptedCmp3           AxesSubplot(0.285345,0.281207;0.133621x0.130172)\n",
       "AcceptedCmp4            AxesSubplot(0.44569,0.281207;0.133621x0.130172)\n",
       "AcceptedCmp5           AxesSubplot(0.606034,0.281207;0.133621x0.130172)\n",
       "AcceptedCmp1           AxesSubplot(0.766379,0.281207;0.133621x0.130172)\n",
       "AcceptedCmp2                 AxesSubplot(0.125,0.125;0.133621x0.130172)\n",
       "Response                  AxesSubplot(0.285345,0.125;0.133621x0.130172)\n",
       "dtype: object"
      ]
     },
     "execution_count": 37,
     "metadata": {},
     "output_type": "execute_result"
    },
    {
     "data": {
      "image/png": "[encoded data removed]",
      "text/plain": [
       "<Figure size 1080x1440 with 25 Axes>"
      ]
     },
     "metadata": {
      "needs_background": "light"
     },
     "output_type": "display_data"
    }
   ],
   "source": [
    "# Check outliers\n",
    "# https://pandas.pydata.org/pandas-docs/stable/reference/api/pandas.DataFrame.plot.html#pandas.DataFrame.plot\n",
    "df_plot_train = df_train.select_dtypes(include=['float64','int64'])\n",
    "df_plot_train.plot(kind='box', subplots=True, layout=(5,5), figsize=(15,20))                                            "
   ]
  },
  {
   "cell_type": "code",
   "execution_count": 38,
   "id": "e427ab76-21cb-47bc-a6f7-d47035472304",
   "metadata": {},
   "outputs": [
    {
     "name": "stdout",
     "output_type": "stream",
     "text": [
      "1893 1995\n"
     ]
    }
   ],
   "source": [
    "print(df_train.Year_Birth.min(), df_train.Year_Birth.max())"
   ]
  },
  {
   "cell_type": "code",
   "execution_count": 39,
   "id": "523268e8-b258-4e4d-98c5-5d8e8688c5b2",
   "metadata": {},
   "outputs": [],
   "source": [
    "# Remove rows with birth year < 1900\n",
    "df_train = df_train[ (df_train['Year_Birth'] > 1900) ]"
   ]
  },
  {
   "cell_type": "code",
   "execution_count": 40,
   "id": "2c1b186f-1199-4c9f-bb97-edacbf45ee0a",
   "metadata": {},
   "outputs": [
    {
     "data": {
      "text/plain": [
       "Year_Birth                AxesSubplot(0.125,0.749828;0.133621x0.130172)\n",
       "Income                 AxesSubplot(0.285345,0.749828;0.133621x0.130172)\n",
       "Kidhome                 AxesSubplot(0.44569,0.749828;0.133621x0.130172)\n",
       "Teenhome               AxesSubplot(0.606034,0.749828;0.133621x0.130172)\n",
       "Recency                AxesSubplot(0.766379,0.749828;0.133621x0.130172)\n",
       "MntWines                  AxesSubplot(0.125,0.593621;0.133621x0.130172)\n",
       "MntFruits              AxesSubplot(0.285345,0.593621;0.133621x0.130172)\n",
       "MntMeatProducts         AxesSubplot(0.44569,0.593621;0.133621x0.130172)\n",
       "MntFishProducts        AxesSubplot(0.606034,0.593621;0.133621x0.130172)\n",
       "MntSweetProducts       AxesSubplot(0.766379,0.593621;0.133621x0.130172)\n",
       "MntGoldProds              AxesSubplot(0.125,0.437414;0.133621x0.130172)\n",
       "NumDealsPurchases      AxesSubplot(0.285345,0.437414;0.133621x0.130172)\n",
       "NumWebPurchases         AxesSubplot(0.44569,0.437414;0.133621x0.130172)\n",
       "NumCatalogPurchases    AxesSubplot(0.606034,0.437414;0.133621x0.130172)\n",
       "NumStorePurchases      AxesSubplot(0.766379,0.437414;0.133621x0.130172)\n",
       "NumWebVisitsMonth         AxesSubplot(0.125,0.281207;0.133621x0.130172)\n",
       "AcceptedCmp3           AxesSubplot(0.285345,0.281207;0.133621x0.130172)\n",
       "AcceptedCmp4            AxesSubplot(0.44569,0.281207;0.133621x0.130172)\n",
       "AcceptedCmp5           AxesSubplot(0.606034,0.281207;0.133621x0.130172)\n",
       "AcceptedCmp1           AxesSubplot(0.766379,0.281207;0.133621x0.130172)\n",
       "AcceptedCmp2                 AxesSubplot(0.125,0.125;0.133621x0.130172)\n",
       "Response                  AxesSubplot(0.285345,0.125;0.133621x0.130172)\n",
       "dtype: object"
      ]
     },
     "execution_count": 40,
     "metadata": {},
     "output_type": "execute_result"
    },
    {
     "data": {
      "image/png": "[encoded data removed]",
      "text/plain": [
       "<Figure size 1080x1440 with 25 Axes>"
      ]
     },
     "metadata": {
      "needs_background": "light"
     },
     "output_type": "display_data"
    }
   ],
   "source": [
    "df_plot_train = df_train.select_dtypes(include=['float64','int64'])\n",
    "df_plot_train.plot(kind='box', subplots=True, layout=(5,5), figsize=(15,20))   "
   ]
  },
  {
   "cell_type": "code",
   "execution_count": 41,
   "id": "100ad612-9a06-4d59-ba9e-9f6441db2dae",
   "metadata": {},
   "outputs": [],
   "source": [
    "df_valid = df_valid[(df_valid.Year_Birth > 1900)]\n",
    "df_test = df_test[(df_test.Year_Birth > 1900)]"
   ]
  },
  {
   "cell_type": "markdown",
   "id": "aa4976d8-e11b-4c04-a19e-32e45f29c65a",
   "metadata": {
    "tags": []
   },
   "source": [
    "## Data Insight I"
   ]
  },
  {
   "cell_type": "code",
   "execution_count": 42,
   "id": "e840195d-b402-4082-bcef-8f85e326191d",
   "metadata": {},
   "outputs": [],
   "source": [
    "from matplotlib import pyplot as plt"
   ]
  },
  {
   "cell_type": "code",
   "execution_count": 43,
   "id": "81483efd-1676-4a54-8660-b44b5e717f37",
   "metadata": {},
   "outputs": [],
   "source": [
    "# Pearson corr: For the Pearson correlation, an absolute value of 1 indicates a perfect linear relationship between the variables.\n",
    "# The larger the absolute value of the coefficient, the stronger the relationship between the variables"
   ]
  },
  {
   "cell_type": "code",
   "execution_count": 44,
   "id": "52e2dd9b-05fb-4a2f-910f-0ef231077747",
   "metadata": {},
   "outputs": [
    {
     "data": {
      "text/html": [
       "<div>\n",
       "<style scoped>\n",
       "    .dataframe tbody tr th:only-of-type {\n",
       "        vertical-align: middle;\n",
       "    }\n",
       "\n",
       "    .dataframe tbody tr th {\n",
       "        vertical-align: top;\n",
       "    }\n",
       "\n",
       "    .dataframe thead th {\n",
       "        text-align: right;\n",
       "    }\n",
       "</style>\n",
       "<table border=\"1\" class=\"dataframe\">\n",
       "  <thead>\n",
       "    <tr style=\"text-align: right;\">\n",
       "      <th></th>\n",
       "      <th>Year_Birth</th>\n",
       "      <th>Education</th>\n",
       "      <th>Marital_Status</th>\n",
       "      <th>Income</th>\n",
       "      <th>Kidhome</th>\n",
       "      <th>Teenhome</th>\n",
       "      <th>Dt_Customer</th>\n",
       "      <th>Recency</th>\n",
       "      <th>MntWines</th>\n",
       "      <th>MntFruits</th>\n",
       "      <th>...</th>\n",
       "      <th>NumWebVisitsMonth</th>\n",
       "      <th>AcceptedCmp3</th>\n",
       "      <th>AcceptedCmp4</th>\n",
       "      <th>AcceptedCmp5</th>\n",
       "      <th>AcceptedCmp1</th>\n",
       "      <th>AcceptedCmp2</th>\n",
       "      <th>Response</th>\n",
       "      <th>Total_Amnt_Spent</th>\n",
       "      <th>Cust_Age</th>\n",
       "      <th>Total_Purchased_Items</th>\n",
       "    </tr>\n",
       "  </thead>\n",
       "  <tbody>\n",
       "    <tr>\n",
       "      <th>0</th>\n",
       "      <td>1957</td>\n",
       "      <td>Graduation</td>\n",
       "      <td>Single</td>\n",
       "      <td>58138.0</td>\n",
       "      <td>0</td>\n",
       "      <td>0</td>\n",
       "      <td>2012-09-04</td>\n",
       "      <td>58</td>\n",
       "      <td>635</td>\n",
       "      <td>88</td>\n",
       "      <td>...</td>\n",
       "      <td>7</td>\n",
       "      <td>0</td>\n",
       "      <td>0</td>\n",
       "      <td>0</td>\n",
       "      <td>0</td>\n",
       "      <td>0</td>\n",
       "      <td>1</td>\n",
       "      <td>1617</td>\n",
       "      <td>55</td>\n",
       "      <td>25</td>\n",
       "    </tr>\n",
       "    <tr>\n",
       "      <th>1</th>\n",
       "      <td>1954</td>\n",
       "      <td>Graduation</td>\n",
       "      <td>Single</td>\n",
       "      <td>46344.0</td>\n",
       "      <td>1</td>\n",
       "      <td>1</td>\n",
       "      <td>2014-03-08</td>\n",
       "      <td>38</td>\n",
       "      <td>11</td>\n",
       "      <td>1</td>\n",
       "      <td>...</td>\n",
       "      <td>5</td>\n",
       "      <td>0</td>\n",
       "      <td>0</td>\n",
       "      <td>0</td>\n",
       "      <td>0</td>\n",
       "      <td>0</td>\n",
       "      <td>0</td>\n",
       "      <td>27</td>\n",
       "      <td>60</td>\n",
       "      <td>6</td>\n",
       "    </tr>\n",
       "    <tr>\n",
       "      <th>2</th>\n",
       "      <td>1965</td>\n",
       "      <td>Graduation</td>\n",
       "      <td>Together</td>\n",
       "      <td>71613.0</td>\n",
       "      <td>0</td>\n",
       "      <td>0</td>\n",
       "      <td>2013-08-21</td>\n",
       "      <td>26</td>\n",
       "      <td>426</td>\n",
       "      <td>49</td>\n",
       "      <td>...</td>\n",
       "      <td>4</td>\n",
       "      <td>0</td>\n",
       "      <td>0</td>\n",
       "      <td>0</td>\n",
       "      <td>0</td>\n",
       "      <td>0</td>\n",
       "      <td>0</td>\n",
       "      <td>776</td>\n",
       "      <td>48</td>\n",
       "      <td>21</td>\n",
       "    </tr>\n",
       "    <tr>\n",
       "      <th>3</th>\n",
       "      <td>1984</td>\n",
       "      <td>Graduation</td>\n",
       "      <td>Together</td>\n",
       "      <td>26646.0</td>\n",
       "      <td>1</td>\n",
       "      <td>0</td>\n",
       "      <td>2014-02-10</td>\n",
       "      <td>26</td>\n",
       "      <td>11</td>\n",
       "      <td>4</td>\n",
       "      <td>...</td>\n",
       "      <td>6</td>\n",
       "      <td>0</td>\n",
       "      <td>0</td>\n",
       "      <td>0</td>\n",
       "      <td>0</td>\n",
       "      <td>0</td>\n",
       "      <td>0</td>\n",
       "      <td>53</td>\n",
       "      <td>30</td>\n",
       "      <td>8</td>\n",
       "    </tr>\n",
       "    <tr>\n",
       "      <th>4</th>\n",
       "      <td>1981</td>\n",
       "      <td>PhD</td>\n",
       "      <td>Married</td>\n",
       "      <td>58293.0</td>\n",
       "      <td>1</td>\n",
       "      <td>0</td>\n",
       "      <td>2014-01-19</td>\n",
       "      <td>94</td>\n",
       "      <td>173</td>\n",
       "      <td>43</td>\n",
       "      <td>...</td>\n",
       "      <td>5</td>\n",
       "      <td>0</td>\n",
       "      <td>0</td>\n",
       "      <td>0</td>\n",
       "      <td>0</td>\n",
       "      <td>0</td>\n",
       "      <td>0</td>\n",
       "      <td>422</td>\n",
       "      <td>33</td>\n",
       "      <td>19</td>\n",
       "    </tr>\n",
       "  </tbody>\n",
       "</table>\n",
       "<p>5 rows × 28 columns</p>\n",
       "</div>"
      ],
      "text/plain": [
       "   Year_Birth   Education Marital_Status   Income  Kidhome  Teenhome  \\\n",
       "0        1957  Graduation         Single  58138.0        0         0   \n",
       "1        1954  Graduation         Single  46344.0        1         1   \n",
       "2        1965  Graduation       Together  71613.0        0         0   \n",
       "3        1984  Graduation       Together  26646.0        1         0   \n",
       "4        1981         PhD        Married  58293.0        1         0   \n",
       "\n",
       "  Dt_Customer  Recency  MntWines  MntFruits  ...  NumWebVisitsMonth  \\\n",
       "0  2012-09-04       58       635         88  ...                  7   \n",
       "1  2014-03-08       38        11          1  ...                  5   \n",
       "2  2013-08-21       26       426         49  ...                  4   \n",
       "3  2014-02-10       26        11          4  ...                  6   \n",
       "4  2014-01-19       94       173         43  ...                  5   \n",
       "\n",
       "   AcceptedCmp3  AcceptedCmp4  AcceptedCmp5  AcceptedCmp1  AcceptedCmp2  \\\n",
       "0             0             0             0             0             0   \n",
       "1             0             0             0             0             0   \n",
       "2             0             0             0             0             0   \n",
       "3             0             0             0             0             0   \n",
       "4             0             0             0             0             0   \n",
       "\n",
       "   Response  Total_Amnt_Spent  Cust_Age  Total_Purchased_Items  \n",
       "0         1              1617        55                     25  \n",
       "1         0                27        60                      6  \n",
       "2         0               776        48                     21  \n",
       "3         0                53        30                      8  \n",
       "4         0               422        33                     19  \n",
       "\n",
       "[5 rows x 28 columns]"
      ]
     },
     "execution_count": 44,
     "metadata": {},
     "output_type": "execute_result"
    }
   ],
   "source": [
    "df_.head(5)"
   ]
  },
  {
   "cell_type": "markdown",
   "id": "632fac08-7be4-40d2-8c1f-264f7bbea2c1",
   "metadata": {
    "jp-MarkdownHeadingCollapsed": true,
    "tags": []
   },
   "source": [
    "### Correlation Age with Response"
   ]
  },
  {
   "cell_type": "code",
   "execution_count": 45,
   "id": "3bc06572-b698-49c3-97c0-6f3d79208fe2",
   "metadata": {},
   "outputs": [
    {
     "data": {
      "text/plain": [
       "<AxesSubplot:xlabel='Cust_Age', ylabel='Count'>"
      ]
     },
     "execution_count": 45,
     "metadata": {},
     "output_type": "execute_result"
    },
    {
     "data": {
      "image/png": "[encoded data removed]",
      "text/plain": [
       "<Figure size 432x288 with 1 Axes>"
      ]
     },
     "metadata": {
      "needs_background": "light"
     },
     "output_type": "display_data"
    }
   ],
   "source": [
    "sns.histplot(data=df_, x='Cust_Age', hue='Response', multiple='stack')\n",
    "# customer di rentang usia 30 - 50 menerima penawaran campaign lebih banyak"
   ]
  },
  {
   "cell_type": "code",
   "execution_count": 46,
   "id": "3bc4d2c0-ca65-44e8-8f7a-8f20bc14555d",
   "metadata": {},
   "outputs": [
    {
     "data": {
      "text/html": [
       "<div>\n",
       "<style scoped>\n",
       "    .dataframe tbody tr th:only-of-type {\n",
       "        vertical-align: middle;\n",
       "    }\n",
       "\n",
       "    .dataframe tbody tr th {\n",
       "        vertical-align: top;\n",
       "    }\n",
       "\n",
       "    .dataframe thead th {\n",
       "        text-align: right;\n",
       "    }\n",
       "</style>\n",
       "<table border=\"1\" class=\"dataframe\">\n",
       "  <thead>\n",
       "    <tr style=\"text-align: right;\">\n",
       "      <th></th>\n",
       "      <th>Cust_Age</th>\n",
       "      <th>Response</th>\n",
       "    </tr>\n",
       "  </thead>\n",
       "  <tbody>\n",
       "    <tr>\n",
       "      <th>Cust_Age</th>\n",
       "      <td>1.000000</td>\n",
       "      <td>-0.028333</td>\n",
       "    </tr>\n",
       "    <tr>\n",
       "      <th>Response</th>\n",
       "      <td>-0.028333</td>\n",
       "      <td>1.000000</td>\n",
       "    </tr>\n",
       "  </tbody>\n",
       "</table>\n",
       "</div>"
      ],
      "text/plain": [
       "          Cust_Age  Response\n",
       "Cust_Age  1.000000 -0.028333\n",
       "Response -0.028333  1.000000"
      ]
     },
     "execution_count": 46,
     "metadata": {},
     "output_type": "execute_result"
    }
   ],
   "source": [
    "df__corr = df_.corr(method='pearson')[['Cust_Age','Response']]\n",
    "df__corr.loc[['Cust_Age', 'Response'], :]\n",
    "# korelasi antara umur terhadap variable 'yang menerima penawaran campaign' hampir atau bisa dikatakan tidak ada karena korelasi -0.02 mendekati 0"
   ]
  },
  {
   "cell_type": "code",
   "execution_count": 47,
   "id": "5c90e803-2f57-412e-9318-ae1d344e5840",
   "metadata": {},
   "outputs": [],
   "source": [
    "import scipy.stats as st"
   ]
  },
  {
   "cell_type": "code",
   "execution_count": 48,
   "id": "5cb8c46d-7626-426e-9bf7-fceeacdaa661",
   "metadata": {},
   "outputs": [
    {
     "data": {
      "text/plain": [
       "PointbiserialrResult(correlation=-0.028332854129393095, pvalue=0.18038288712265607)"
      ]
     },
     "execution_count": 48,
     "metadata": {},
     "output_type": "execute_result"
    }
   ],
   "source": [
    "np_resp = df_['Response'].to_numpy()\n",
    "np_age = df_['Cust_Age'].to_numpy()\n",
    "st.pointbiserialr(np_resp, np_age)"
   ]
  },
  {
   "cell_type": "markdown",
   "id": "7f06720f-82fc-4210-a206-c12f32197dd5",
   "metadata": {
    "jp-MarkdownHeadingCollapsed": true,
    "tags": []
   },
   "source": [
    "### Correlation Education with Response"
   ]
  },
  {
   "cell_type": "code",
   "execution_count": 49,
   "id": "a7f2993c-0c78-45f3-bba7-0bc5a802ecae",
   "metadata": {},
   "outputs": [
    {
     "data": {
      "text/plain": [
       "5"
      ]
     },
     "execution_count": 49,
     "metadata": {},
     "output_type": "execute_result"
    }
   ],
   "source": [
    "cats = 0 \n",
    "for i in df_['Education'].unique():\n",
    "    cats=cats+1\n",
    "cats"
   ]
  },
  {
   "cell_type": "code",
   "execution_count": 50,
   "id": "fa6c4133-30b1-4985-8f51-7a38d72ca751",
   "metadata": {},
   "outputs": [
    {
     "data": {
      "image/png": "[encoded data removed]",
      "text/plain": [
       "<Figure size 504x360 with 1 Axes>"
      ]
     },
     "metadata": {
      "needs_background": "light"
     },
     "output_type": "display_data"
    }
   ],
   "source": [
    "fig, ax = plt.subplots(figsize=(7,5)) # Create just a figure and only one subplot\n",
    "\n",
    "ax = sns.countplot(ax=ax, data=df_, x='Education', hue='Response')\n",
    "n_hues = 2 #hue: response(0, 1)\n",
    "_bars = [p for p in ax.patches] \n",
    "h_bars = [p.get_height() for p in ax.patches]\n",
    "for i in range(cats):\n",
    "    total_values = df_['Education'].value_counts().values[i]\n",
    "    for j in range(n_hues):\n",
    "        percent = '{:.1f}%'.format(100 * h_bars[(j*cats + i)]/total_values)\n",
    "        x = _bars[(j*cats + i)].get_x() + _bars[(j*cats + i)].get_width() / 2 - 0.2\n",
    "        y = _bars[(j*cats + i)].get_y() + _bars[(j*cats + i)].get_height() + 10.5\n",
    "        ax.annotate(percent, (x, y), size = 11)\n",
    "fig.show()\n",
    "\n",
    "# Mereka yang menerima penawaran campaign Ifood, mayoritas lulusan 'Graduation' "
   ]
  },
  {
   "cell_type": "code",
   "execution_count": 51,
   "id": "afe14a98-bcb0-4a54-b0c7-19dddb74a69b",
   "metadata": {},
   "outputs": [
    {
     "data": {
      "text/plain": [
       "Graduation    1127\n",
       "PhD            485\n",
       "Master         370\n",
       "2n Cycle       201\n",
       "Basic           54\n",
       "Name: Education, dtype: int64"
      ]
     },
     "execution_count": 51,
     "metadata": {},
     "output_type": "execute_result"
    }
   ],
   "source": [
    "df_['Education'].value_counts()"
   ]
  },
  {
   "cell_type": "code",
   "execution_count": 52,
   "id": "f6a5fdec-7685-4fdd-831b-8dd68b199ba0",
   "metadata": {},
   "outputs": [
    {
     "data": {
      "text/plain": [
       "[975, 384, 313, 52, 179, 152, 101, 57, 2, 22]"
      ]
     },
     "execution_count": 52,
     "metadata": {},
     "output_type": "execute_result"
    }
   ],
   "source": [
    "# notes\n",
    "p_ = [p.get_height() for p in ax.patches]\n",
    "p_\n",
    "# first 5: resp 0, last 5: resp 1 [index]\n",
    "# 0, 1, 2, 3, 4 -> cats\n",
    "# 0, 1, 2, 3, 4 -> 0-pair-height\n",
    "# 5, 6, 7, 8, 9 -> 1-pair_height"
   ]
  },
  {
   "cell_type": "markdown",
   "id": "56f383c8-ab89-4d11-b460-0176d27b0c67",
   "metadata": {
    "tags": []
   },
   "source": [
    "### Correlation Marital Status with Response"
   ]
  },
  {
   "cell_type": "code",
   "execution_count": 53,
   "id": "fcf4e824-e761-47dc-9248-56848d450f4d",
   "metadata": {},
   "outputs": [
    {
     "data": {
      "text/plain": [
       "<AxesSubplot:xlabel='Marital_Status', ylabel='Count'>"
      ]
     },
     "execution_count": 53,
     "metadata": {},
     "output_type": "execute_result"
    },
    {
     "data": {
      "image/png": "[encoded data removed]",
      "text/plain": [
       "<Figure size 432x288 with 1 Axes>"
      ]
     },
     "metadata": {
      "needs_background": "light"
     },
     "output_type": "display_data"
    }
   ],
   "source": [
    "sns.histplot(data=df_, x='Marital_Status', hue='Response', multiple='stack')"
   ]
  },
  {
   "cell_type": "markdown",
   "id": "65e22aaa-1931-44ee-b30a-32aa8a917cbf",
   "metadata": {
    "jp-MarkdownHeadingCollapsed": true,
    "tags": []
   },
   "source": [
    "### Correlation Recency with Response"
   ]
  },
  {
   "cell_type": "code",
   "execution_count": 54,
   "id": "35cbc017-edb8-4e48-bf4e-cf842247b54b",
   "metadata": {},
   "outputs": [
    {
     "data": {
      "text/plain": [
       "<AxesSubplot:xlabel='Recency', ylabel='Count'>"
      ]
     },
     "execution_count": 54,
     "metadata": {},
     "output_type": "execute_result"
    },
    {
     "data": {
      "image/png": "[encoded data removed]",
      "text/plain": [
       "<Figure size 432x288 with 1 Axes>"
      ]
     },
     "metadata": {
      "needs_background": "light"
     },
     "output_type": "display_data"
    }
   ],
   "source": [
    "sns.histplot(data=df_, x='Recency', hue='Response', multiple='stack')\n",
    "#next: siapa mereka yang melakukan pembelian dengan last purchased 40 hari terakhir "
   ]
  },
  {
   "cell_type": "code",
   "execution_count": 55,
   "id": "8b796a56-ef05-4181-9d91-a0d14e279bcd",
   "metadata": {},
   "outputs": [
    {
     "data": {
      "text/plain": [
       "PointbiserialrResult(correlation=-0.19856777504710288, pvalue=2.5196420514366122e-21)"
      ]
     },
     "execution_count": 55,
     "metadata": {},
     "output_type": "execute_result"
    }
   ],
   "source": [
    "np_recency = df_['Recency'].to_numpy()\n",
    "st.pointbiserialr(np_resp, np_recency)"
   ]
  },
  {
   "cell_type": "markdown",
   "id": "faedf678-66fa-4998-af4d-8995569f8234",
   "metadata": {
    "jp-MarkdownHeadingCollapsed": true,
    "tags": []
   },
   "source": [
    "### Correlation Join Date with Response"
   ]
  },
  {
   "cell_type": "code",
   "execution_count": 56,
   "id": "d9f34ca7-578b-491d-b1b7-5b5e35291618",
   "metadata": {},
   "outputs": [
    {
     "data": {
      "text/plain": [
       "<AxesSubplot:xlabel='Dt_Customer', ylabel='Count'>"
      ]
     },
     "execution_count": 56,
     "metadata": {},
     "output_type": "execute_result"
    },
    {
     "data": {
      "image/png": "[encoded data removed]",
      "text/plain": [
       "<Figure size 504x288 with 1 Axes>"
      ]
     },
     "metadata": {
      "needs_background": "light"
     },
     "output_type": "display_data"
    }
   ],
   "source": [
    "#sns.set(rc={'figure.figsize':(7,4)})\n",
    "fig, ax = plt.subplots(figsize=(7,4)) # Create just a figure and only one subplot\n",
    "\n",
    "sns.histplot(ax=ax, data=df_, x='Dt_Customer', hue='Response', multiple='stack')\n",
    "# 2 tahun terakhir (2012 -2014) yang bergabung dan menerima penawaran campaign mengalami penurunan"
   ]
  },
  {
   "cell_type": "code",
   "execution_count": 57,
   "id": "5fa0377e-aa36-410d-9248-64b7c564d936",
   "metadata": {},
   "outputs": [
    {
     "name": "stdout",
     "output_type": "stream",
     "text": [
      "2012-07-30 00:00:00\n",
      "2014-06-29 00:00:00\n"
     ]
    }
   ],
   "source": [
    "print(df_.Dt_Customer.min())\n",
    "print(df_.Dt_Customer.max())"
   ]
  },
  {
   "cell_type": "markdown",
   "id": "d8ed5ccc-4bea-4154-b5bf-bc85b996828c",
   "metadata": {
    "jp-MarkdownHeadingCollapsed": true,
    "tags": []
   },
   "source": [
    "### Correlation Income with Response"
   ]
  },
  {
   "cell_type": "code",
   "execution_count": 58,
   "id": "99741b35-f486-4639-bb2f-787bf2f6fe9c",
   "metadata": {},
   "outputs": [
    {
     "data": {
      "text/plain": [
       "<AxesSubplot:xlabel='Income'>"
      ]
     },
     "execution_count": 58,
     "metadata": {},
     "output_type": "execute_result"
    },
    {
     "data": {
      "image/png": "[encoded data removed]",
      "text/plain": [
       "<Figure size 432x288 with 1 Axes>"
      ]
     },
     "metadata": {
      "needs_background": "light"
     },
     "output_type": "display_data"
    }
   ],
   "source": [
    "sns.boxplot(data=df_, x='Income')\n",
    "# Customer yang banyak menerima penawaran merupakan customer yang memiliki income tahunan berada pada kisaran 40k+ "
   ]
  },
  {
   "cell_type": "code",
   "execution_count": 59,
   "id": "72cf3473-985d-41f1-a28e-84ea0c4cd0b1",
   "metadata": {},
   "outputs": [
    {
     "data": {
      "text/plain": [
       "<seaborn.axisgrid.FacetGrid at 0x16b3ab5e550>"
      ]
     },
     "execution_count": 59,
     "metadata": {},
     "output_type": "execute_result"
    },
    {
     "data": {
      "image/png": "[encoded data removed]",
      "text/plain": [
       "<Figure size 415.75x360 with 1 Axes>"
      ]
     },
     "metadata": {
      "needs_background": "light"
     },
     "output_type": "display_data"
    }
   ],
   "source": [
    "fg = sns.displot(data=df_, x='Income', hue='Response', multiple='stack')\n",
    "fg.set(xlim=(0,150000))"
   ]
  },
  {
   "cell_type": "code",
   "execution_count": 60,
   "id": "6bab17f6-528c-492c-b408-7bb843e75148",
   "metadata": {},
   "outputs": [
    {
     "data": {
      "text/plain": [
       "PointbiserialrResult(correlation=0.13312076067681594, pvalue=2.6015364127441355e-10)"
      ]
     },
     "execution_count": 60,
     "metadata": {},
     "output_type": "execute_result"
    }
   ],
   "source": [
    "np_income = df_.Income.to_numpy()\n",
    "st.pointbiserialr(np_resp, np_income)"
   ]
  },
  {
   "cell_type": "markdown",
   "id": "115a557c-bcb6-4de5-b084-2dfed8460ea8",
   "metadata": {
    "jp-MarkdownHeadingCollapsed": true,
    "tags": []
   },
   "source": [
    "### Correlation Total Children with Response"
   ]
  },
  {
   "cell_type": "code",
   "execution_count": 61,
   "id": "b3b0ff4a-7953-43f4-b15c-6dc3e233568c",
   "metadata": {},
   "outputs": [],
   "source": [
    "cols = ['Kidhome', 'Teenhome']\n",
    "total_child = df_.loc[:][cols].sum(axis=1)"
   ]
  },
  {
   "cell_type": "code",
   "execution_count": 62,
   "id": "592c0415-30b7-4797-9b7a-6fd28e13d8f8",
   "metadata": {},
   "outputs": [],
   "source": [
    "df_['Total_Child'] = total_child"
   ]
  },
  {
   "cell_type": "code",
   "execution_count": 63,
   "id": "bafccba0-13bb-47b9-a03d-fd7a7f17c108",
   "metadata": {},
   "outputs": [
    {
     "data": {
      "text/html": [
       "<div>\n",
       "<style scoped>\n",
       "    .dataframe tbody tr th:only-of-type {\n",
       "        vertical-align: middle;\n",
       "    }\n",
       "\n",
       "    .dataframe tbody tr th {\n",
       "        vertical-align: top;\n",
       "    }\n",
       "\n",
       "    .dataframe thead th {\n",
       "        text-align: right;\n",
       "    }\n",
       "</style>\n",
       "<table border=\"1\" class=\"dataframe\">\n",
       "  <thead>\n",
       "    <tr style=\"text-align: right;\">\n",
       "      <th></th>\n",
       "      <th>Year_Birth</th>\n",
       "      <th>Education</th>\n",
       "      <th>Marital_Status</th>\n",
       "      <th>Income</th>\n",
       "      <th>Kidhome</th>\n",
       "      <th>Teenhome</th>\n",
       "      <th>Dt_Customer</th>\n",
       "      <th>Recency</th>\n",
       "      <th>MntWines</th>\n",
       "      <th>MntFruits</th>\n",
       "      <th>...</th>\n",
       "      <th>AcceptedCmp3</th>\n",
       "      <th>AcceptedCmp4</th>\n",
       "      <th>AcceptedCmp5</th>\n",
       "      <th>AcceptedCmp1</th>\n",
       "      <th>AcceptedCmp2</th>\n",
       "      <th>Response</th>\n",
       "      <th>Total_Amnt_Spent</th>\n",
       "      <th>Cust_Age</th>\n",
       "      <th>Total_Purchased_Items</th>\n",
       "      <th>Total_Child</th>\n",
       "    </tr>\n",
       "  </thead>\n",
       "  <tbody>\n",
       "    <tr>\n",
       "      <th>0</th>\n",
       "      <td>1957</td>\n",
       "      <td>Graduation</td>\n",
       "      <td>Single</td>\n",
       "      <td>58138.0</td>\n",
       "      <td>0</td>\n",
       "      <td>0</td>\n",
       "      <td>2012-09-04</td>\n",
       "      <td>58</td>\n",
       "      <td>635</td>\n",
       "      <td>88</td>\n",
       "      <td>...</td>\n",
       "      <td>0</td>\n",
       "      <td>0</td>\n",
       "      <td>0</td>\n",
       "      <td>0</td>\n",
       "      <td>0</td>\n",
       "      <td>1</td>\n",
       "      <td>1617</td>\n",
       "      <td>55</td>\n",
       "      <td>25</td>\n",
       "      <td>0</td>\n",
       "    </tr>\n",
       "    <tr>\n",
       "      <th>1</th>\n",
       "      <td>1954</td>\n",
       "      <td>Graduation</td>\n",
       "      <td>Single</td>\n",
       "      <td>46344.0</td>\n",
       "      <td>1</td>\n",
       "      <td>1</td>\n",
       "      <td>2014-03-08</td>\n",
       "      <td>38</td>\n",
       "      <td>11</td>\n",
       "      <td>1</td>\n",
       "      <td>...</td>\n",
       "      <td>0</td>\n",
       "      <td>0</td>\n",
       "      <td>0</td>\n",
       "      <td>0</td>\n",
       "      <td>0</td>\n",
       "      <td>0</td>\n",
       "      <td>27</td>\n",
       "      <td>60</td>\n",
       "      <td>6</td>\n",
       "      <td>2</td>\n",
       "    </tr>\n",
       "    <tr>\n",
       "      <th>2</th>\n",
       "      <td>1965</td>\n",
       "      <td>Graduation</td>\n",
       "      <td>Together</td>\n",
       "      <td>71613.0</td>\n",
       "      <td>0</td>\n",
       "      <td>0</td>\n",
       "      <td>2013-08-21</td>\n",
       "      <td>26</td>\n",
       "      <td>426</td>\n",
       "      <td>49</td>\n",
       "      <td>...</td>\n",
       "      <td>0</td>\n",
       "      <td>0</td>\n",
       "      <td>0</td>\n",
       "      <td>0</td>\n",
       "      <td>0</td>\n",
       "      <td>0</td>\n",
       "      <td>776</td>\n",
       "      <td>48</td>\n",
       "      <td>21</td>\n",
       "      <td>0</td>\n",
       "    </tr>\n",
       "    <tr>\n",
       "      <th>3</th>\n",
       "      <td>1984</td>\n",
       "      <td>Graduation</td>\n",
       "      <td>Together</td>\n",
       "      <td>26646.0</td>\n",
       "      <td>1</td>\n",
       "      <td>0</td>\n",
       "      <td>2014-02-10</td>\n",
       "      <td>26</td>\n",
       "      <td>11</td>\n",
       "      <td>4</td>\n",
       "      <td>...</td>\n",
       "      <td>0</td>\n",
       "      <td>0</td>\n",
       "      <td>0</td>\n",
       "      <td>0</td>\n",
       "      <td>0</td>\n",
       "      <td>0</td>\n",
       "      <td>53</td>\n",
       "      <td>30</td>\n",
       "      <td>8</td>\n",
       "      <td>1</td>\n",
       "    </tr>\n",
       "    <tr>\n",
       "      <th>4</th>\n",
       "      <td>1981</td>\n",
       "      <td>PhD</td>\n",
       "      <td>Married</td>\n",
       "      <td>58293.0</td>\n",
       "      <td>1</td>\n",
       "      <td>0</td>\n",
       "      <td>2014-01-19</td>\n",
       "      <td>94</td>\n",
       "      <td>173</td>\n",
       "      <td>43</td>\n",
       "      <td>...</td>\n",
       "      <td>0</td>\n",
       "      <td>0</td>\n",
       "      <td>0</td>\n",
       "      <td>0</td>\n",
       "      <td>0</td>\n",
       "      <td>0</td>\n",
       "      <td>422</td>\n",
       "      <td>33</td>\n",
       "      <td>19</td>\n",
       "      <td>1</td>\n",
       "    </tr>\n",
       "  </tbody>\n",
       "</table>\n",
       "<p>5 rows × 29 columns</p>\n",
       "</div>"
      ],
      "text/plain": [
       "   Year_Birth   Education Marital_Status   Income  Kidhome  Teenhome  \\\n",
       "0        1957  Graduation         Single  58138.0        0         0   \n",
       "1        1954  Graduation         Single  46344.0        1         1   \n",
       "2        1965  Graduation       Together  71613.0        0         0   \n",
       "3        1984  Graduation       Together  26646.0        1         0   \n",
       "4        1981         PhD        Married  58293.0        1         0   \n",
       "\n",
       "  Dt_Customer  Recency  MntWines  MntFruits  ...  AcceptedCmp3  AcceptedCmp4  \\\n",
       "0  2012-09-04       58       635         88  ...             0             0   \n",
       "1  2014-03-08       38        11          1  ...             0             0   \n",
       "2  2013-08-21       26       426         49  ...             0             0   \n",
       "3  2014-02-10       26        11          4  ...             0             0   \n",
       "4  2014-01-19       94       173         43  ...             0             0   \n",
       "\n",
       "   AcceptedCmp5  AcceptedCmp1  AcceptedCmp2  Response  Total_Amnt_Spent  \\\n",
       "0             0             0             0         1              1617   \n",
       "1             0             0             0         0                27   \n",
       "2             0             0             0         0               776   \n",
       "3             0             0             0         0                53   \n",
       "4             0             0             0         0               422   \n",
       "\n",
       "   Cust_Age  Total_Purchased_Items  Total_Child  \n",
       "0        55                     25            0  \n",
       "1        60                      6            2  \n",
       "2        48                     21            0  \n",
       "3        30                      8            1  \n",
       "4        33                     19            1  \n",
       "\n",
       "[5 rows x 29 columns]"
      ]
     },
     "execution_count": 63,
     "metadata": {},
     "output_type": "execute_result"
    }
   ],
   "source": [
    "df_.head(5)"
   ]
  },
  {
   "cell_type": "code",
   "execution_count": 64,
   "id": "967ccefa-1f49-4a35-9d57-b2a04f0fb513",
   "metadata": {},
   "outputs": [
    {
     "data": {
      "text/plain": [
       "<AxesSubplot:xlabel='Total_Child', ylabel='Count'>"
      ]
     },
     "execution_count": 64,
     "metadata": {},
     "output_type": "execute_result"
    },
    {
     "data": {
      "image/png": "[encoded data removed]",
      "text/plain": [
       "<Figure size 432x288 with 1 Axes>"
      ]
     },
     "metadata": {
      "needs_background": "light"
     },
     "output_type": "display_data"
    }
   ],
   "source": [
    "sns.histplot(data=df_, x='Total_Child', hue='Response', multiple='stack', discrete=True, shrink=.6)\n",
    "# hypothesis: Buyers yang memiliki sedikit anak cenderung lebih banyak menerima penawaran campaign"
   ]
  },
  {
   "cell_type": "code",
   "execution_count": 65,
   "id": "e611102d-ed28-4adb-af32-8d13e680b05c",
   "metadata": {},
   "outputs": [
    {
     "data": {
      "text/plain": [
       "PointbiserialrResult(correlation=-0.16945616189508145, pvalue=7.105284641383969e-16)"
      ]
     },
     "execution_count": 65,
     "metadata": {},
     "output_type": "execute_result"
    }
   ],
   "source": [
    "np_tot_child = df_['Total_Child'].to_numpy()\n",
    "st.pointbiserialr(np_resp, np_tot_child)"
   ]
  },
  {
   "cell_type": "markdown",
   "id": "4879e83e-120f-4785-848e-8b61aceef747",
   "metadata": {
    "tags": []
   },
   "source": [
    "### Correlation Total Amount Spent with Response"
   ]
  },
  {
   "cell_type": "code",
   "execution_count": 66,
   "id": "792a719b-b217-4a5e-9860-a16f92307092",
   "metadata": {},
   "outputs": [
    {
     "data": {
      "text/plain": [
       "<AxesSubplot:xlabel='Count', ylabel='Total_Amnt_Spent'>"
      ]
     },
     "execution_count": 66,
     "metadata": {},
     "output_type": "execute_result"
    },
    {
     "data": {
      "image/png": "[encoded data removed]",
      "text/plain": [
       "<Figure size 432x288 with 1 Axes>"
      ]
     },
     "metadata": {
      "needs_background": "light"
     },
     "output_type": "display_data"
    }
   ],
   "source": [
    "sns.histplot(data=df_, y='Total_Amnt_Spent', hue='Response', multiple='stack')\n",
    "# total product yang dibeli customers paling banyak sekitaran 1000-2000 product "
   ]
  },
  {
   "cell_type": "code",
   "execution_count": 67,
   "id": "ae648781-11bf-4546-9fa9-4aeb1c13b9fb",
   "metadata": {},
   "outputs": [
    {
     "data": {
      "text/plain": [
       "PointbiserialrResult(correlation=0.26572563785642345, pvalue=1.8259979410186725e-37)"
      ]
     },
     "execution_count": 67,
     "metadata": {},
     "output_type": "execute_result"
    }
   ],
   "source": [
    "np_tot_amnt = df_['Total_Amnt_Spent'].to_numpy()\n",
    "st.pointbiserialr(np_resp, np_tot_amnt)"
   ]
  },
  {
   "cell_type": "code",
   "execution_count": 68,
   "id": "3b36aefb-0a74-4e3b-8c5b-727a8bec57be",
   "metadata": {},
   "outputs": [
    {
     "data": {
      "text/plain": [
       "Index(['Year_Birth', 'Education', 'Marital_Status', 'Income', 'Kidhome',\n",
       "       'Teenhome', 'Dt_Customer', 'Recency', 'MntWines', 'MntFruits',\n",
       "       'MntMeatProducts', 'MntFishProducts', 'MntSweetProducts',\n",
       "       'MntGoldProds', 'NumDealsPurchases', 'NumWebPurchases',\n",
       "       'NumCatalogPurchases', 'NumStorePurchases', 'NumWebVisitsMonth',\n",
       "       'AcceptedCmp3', 'AcceptedCmp4', 'AcceptedCmp5', 'AcceptedCmp1',\n",
       "       'AcceptedCmp2', 'Response', 'Total_Amnt_Spent', 'Cust_Age',\n",
       "       'Total_Purchased_Items', 'Total_Child'],\n",
       "      dtype='object')"
      ]
     },
     "execution_count": 68,
     "metadata": {},
     "output_type": "execute_result"
    }
   ],
   "source": [
    "df_.columns"
   ]
  },
  {
   "cell_type": "markdown",
   "id": "f2a79a2d-51f6-4db0-8c5e-7558d22e5058",
   "metadata": {},
   "source": [
    "## Data Insight II"
   ]
  },
  {
   "cell_type": "markdown",
   "id": "9abeb8e5-5ed5-43ce-bfd2-0313d20b0c0b",
   "metadata": {
    "tags": []
   },
   "source": [
    "### Discount"
   ]
  },
  {
   "cell_type": "code",
   "execution_count": 69,
   "id": "dfa2e2a0-bb63-4fca-a05e-302b3d2b41de",
   "metadata": {},
   "outputs": [],
   "source": [
    "#sum_disc_purchase = df_.NumDealsPurchases.sum(axis=1)\n",
    "#sns.histplot(data=df_, x='NumDealsPurchases', hue='Response', multiple='stack')"
   ]
  },
  {
   "cell_type": "markdown",
   "id": "91329fb4-537f-4fad-968a-5cb573c5798d",
   "metadata": {
    "tags": []
   },
   "source": [
    "### Who's the buyers"
   ]
  },
  {
   "cell_type": "code",
   "execution_count": 70,
   "id": "6a797534-a43c-43ee-b013-b9a488a0db59",
   "metadata": {},
   "outputs": [],
   "source": [
    "# Recency, Age, Total Children, Income"
   ]
  }
 ],
 "metadata": {
  "kernelspec": {
   "display_name": "Python 3 (ipykernel)",
   "language": "python",
   "name": "python3"
  },
  "language_info": {
   "codemirror_mode": {
    "name": "ipython",
    "version": 3
   },
   "file_extension": ".py",
   "mimetype": "text/x-python",
   "name": "python",
   "nbconvert_exporter": "python",
   "pygments_lexer": "ipython3",
   "version": "3.9.7"
  }
 },
 "nbformat": 4,
 "nbformat_minor": 5
}
